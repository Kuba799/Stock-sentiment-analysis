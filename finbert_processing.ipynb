{
 "nbformat": 4,
 "nbformat_minor": 0,
 "metadata": {
  "colab": {
   "name": "finbert_test.pynb",
   "provenance": [],
   "collapsed_sections": []
  },
  "kernelspec": {
   "name": "python3",
   "language": "python",
   "display_name": "Python 3"
  },
  "language_info": {
   "name": "python"
  },
  "widgets": {
   "application/vnd.jupyter.widget-state+json": {
    "040c1b50069b4c35975a82794878330a": {
     "model_module": "@jupyter-widgets/controls",
     "model_name": "HBoxModel",
     "state": {
      "_view_name": "HBoxView",
      "_dom_classes": [],
      "_model_name": "HBoxModel",
      "_view_module": "@jupyter-widgets/controls",
      "_model_module_version": "1.5.0",
      "_view_count": null,
      "_view_module_version": "1.5.0",
      "box_style": "",
      "layout": "IPY_MODEL_71c724abffba46acbb602429d8fe935a",
      "_model_module": "@jupyter-widgets/controls",
      "children": [
       "IPY_MODEL_7a3e87738f704e02a8d3fdfc4c68d90d",
       "IPY_MODEL_21d3d1c3c0db4205b1cd059987325bea"
      ]
     }
    },
    "71c724abffba46acbb602429d8fe935a": {
     "model_module": "@jupyter-widgets/base",
     "model_name": "LayoutModel",
     "state": {
      "_view_name": "LayoutView",
      "grid_template_rows": null,
      "right": null,
      "justify_content": null,
      "_view_module": "@jupyter-widgets/base",
      "overflow": null,
      "_model_module_version": "1.2.0",
      "_view_count": null,
      "flex_flow": null,
      "width": null,
      "min_width": null,
      "border": null,
      "align_items": null,
      "bottom": null,
      "_model_module": "@jupyter-widgets/base",
      "top": null,
      "grid_column": null,
      "overflow_y": null,
      "overflow_x": null,
      "grid_auto_flow": null,
      "grid_area": null,
      "grid_template_columns": null,
      "flex": null,
      "_model_name": "LayoutModel",
      "justify_items": null,
      "grid_row": null,
      "max_height": null,
      "align_content": null,
      "visibility": null,
      "align_self": null,
      "height": null,
      "min_height": null,
      "padding": null,
      "grid_auto_rows": null,
      "grid_gap": null,
      "max_width": null,
      "order": null,
      "_view_module_version": "1.2.0",
      "grid_template_areas": null,
      "object_position": null,
      "object_fit": null,
      "grid_auto_columns": null,
      "margin": null,
      "display": null,
      "left": null
     }
    },
    "7a3e87738f704e02a8d3fdfc4c68d90d": {
     "model_module": "@jupyter-widgets/controls",
     "model_name": "FloatProgressModel",
     "state": {
      "_view_name": "ProgressView",
      "style": "IPY_MODEL_2c8eba049d4c4e2a834409e450a3c0ca",
      "_dom_classes": [],
      "description": "Downloading: 100%",
      "_model_name": "FloatProgressModel",
      "bar_style": "success",
      "max": 758,
      "_view_module": "@jupyter-widgets/controls",
      "_model_module_version": "1.5.0",
      "value": 758,
      "_view_count": null,
      "_view_module_version": "1.5.0",
      "orientation": "horizontal",
      "min": 0,
      "description_tooltip": null,
      "_model_module": "@jupyter-widgets/controls",
      "layout": "IPY_MODEL_9915afc7bf184fad97adda6c80317991"
     }
    },
    "21d3d1c3c0db4205b1cd059987325bea": {
     "model_module": "@jupyter-widgets/controls",
     "model_name": "HTMLModel",
     "state": {
      "_view_name": "HTMLView",
      "style": "IPY_MODEL_05ce4dfd59f544739f175227257f3b42",
      "_dom_classes": [],
      "description": "",
      "_model_name": "HTMLModel",
      "placeholder": "​",
      "_view_module": "@jupyter-widgets/controls",
      "_model_module_version": "1.5.0",
      "value": " 758/758 [00:00&lt;00:00, 18.6kB/s]",
      "_view_count": null,
      "_view_module_version": "1.5.0",
      "description_tooltip": null,
      "_model_module": "@jupyter-widgets/controls",
      "layout": "IPY_MODEL_a62e20513f534bf0913c7c4128964846"
     }
    },
    "2c8eba049d4c4e2a834409e450a3c0ca": {
     "model_module": "@jupyter-widgets/controls",
     "model_name": "ProgressStyleModel",
     "state": {
      "_view_name": "StyleView",
      "_model_name": "ProgressStyleModel",
      "description_width": "initial",
      "_view_module": "@jupyter-widgets/base",
      "_model_module_version": "1.5.0",
      "_view_count": null,
      "_view_module_version": "1.2.0",
      "bar_color": null,
      "_model_module": "@jupyter-widgets/controls"
     }
    },
    "9915afc7bf184fad97adda6c80317991": {
     "model_module": "@jupyter-widgets/base",
     "model_name": "LayoutModel",
     "state": {
      "_view_name": "LayoutView",
      "grid_template_rows": null,
      "right": null,
      "justify_content": null,
      "_view_module": "@jupyter-widgets/base",
      "overflow": null,
      "_model_module_version": "1.2.0",
      "_view_count": null,
      "flex_flow": null,
      "width": null,
      "min_width": null,
      "border": null,
      "align_items": null,
      "bottom": null,
      "_model_module": "@jupyter-widgets/base",
      "top": null,
      "grid_column": null,
      "overflow_y": null,
      "overflow_x": null,
      "grid_auto_flow": null,
      "grid_area": null,
      "grid_template_columns": null,
      "flex": null,
      "_model_name": "LayoutModel",
      "justify_items": null,
      "grid_row": null,
      "max_height": null,
      "align_content": null,
      "visibility": null,
      "align_self": null,
      "height": null,
      "min_height": null,
      "padding": null,
      "grid_auto_rows": null,
      "grid_gap": null,
      "max_width": null,
      "order": null,
      "_view_module_version": "1.2.0",
      "grid_template_areas": null,
      "object_position": null,
      "object_fit": null,
      "grid_auto_columns": null,
      "margin": null,
      "display": null,
      "left": null
     }
    },
    "05ce4dfd59f544739f175227257f3b42": {
     "model_module": "@jupyter-widgets/controls",
     "model_name": "DescriptionStyleModel",
     "state": {
      "_view_name": "StyleView",
      "_model_name": "DescriptionStyleModel",
      "description_width": "",
      "_view_module": "@jupyter-widgets/base",
      "_model_module_version": "1.5.0",
      "_view_count": null,
      "_view_module_version": "1.2.0",
      "_model_module": "@jupyter-widgets/controls"
     }
    },
    "a62e20513f534bf0913c7c4128964846": {
     "model_module": "@jupyter-widgets/base",
     "model_name": "LayoutModel",
     "state": {
      "_view_name": "LayoutView",
      "grid_template_rows": null,
      "right": null,
      "justify_content": null,
      "_view_module": "@jupyter-widgets/base",
      "overflow": null,
      "_model_module_version": "1.2.0",
      "_view_count": null,
      "flex_flow": null,
      "width": null,
      "min_width": null,
      "border": null,
      "align_items": null,
      "bottom": null,
      "_model_module": "@jupyter-widgets/base",
      "top": null,
      "grid_column": null,
      "overflow_y": null,
      "overflow_x": null,
      "grid_auto_flow": null,
      "grid_area": null,
      "grid_template_columns": null,
      "flex": null,
      "_model_name": "LayoutModel",
      "justify_items": null,
      "grid_row": null,
      "max_height": null,
      "align_content": null,
      "visibility": null,
      "align_self": null,
      "height": null,
      "min_height": null,
      "padding": null,
      "grid_auto_rows": null,
      "grid_gap": null,
      "max_width": null,
      "order": null,
      "_view_module_version": "1.2.0",
      "grid_template_areas": null,
      "object_position": null,
      "object_fit": null,
      "grid_auto_columns": null,
      "margin": null,
      "display": null,
      "left": null
     }
    },
    "d14cecfc60e74bc5a5dd7b9711679048": {
     "model_module": "@jupyter-widgets/controls",
     "model_name": "HBoxModel",
     "state": {
      "_view_name": "HBoxView",
      "_dom_classes": [],
      "_model_name": "HBoxModel",
      "_view_module": "@jupyter-widgets/controls",
      "_model_module_version": "1.5.0",
      "_view_count": null,
      "_view_module_version": "1.5.0",
      "box_style": "",
      "layout": "IPY_MODEL_d12918488ddc4de58406ce0c4980beca",
      "_model_module": "@jupyter-widgets/controls",
      "children": [
       "IPY_MODEL_8657e5701c9441c589ea104533078766",
       "IPY_MODEL_536ec2525e474489acfe9903fd0d23fa"
      ]
     }
    },
    "d12918488ddc4de58406ce0c4980beca": {
     "model_module": "@jupyter-widgets/base",
     "model_name": "LayoutModel",
     "state": {
      "_view_name": "LayoutView",
      "grid_template_rows": null,
      "right": null,
      "justify_content": null,
      "_view_module": "@jupyter-widgets/base",
      "overflow": null,
      "_model_module_version": "1.2.0",
      "_view_count": null,
      "flex_flow": null,
      "width": null,
      "min_width": null,
      "border": null,
      "align_items": null,
      "bottom": null,
      "_model_module": "@jupyter-widgets/base",
      "top": null,
      "grid_column": null,
      "overflow_y": null,
      "overflow_x": null,
      "grid_auto_flow": null,
      "grid_area": null,
      "grid_template_columns": null,
      "flex": null,
      "_model_name": "LayoutModel",
      "justify_items": null,
      "grid_row": null,
      "max_height": null,
      "align_content": null,
      "visibility": null,
      "align_self": null,
      "height": null,
      "min_height": null,
      "padding": null,
      "grid_auto_rows": null,
      "grid_gap": null,
      "max_width": null,
      "order": null,
      "_view_module_version": "1.2.0",
      "grid_template_areas": null,
      "object_position": null,
      "object_fit": null,
      "grid_auto_columns": null,
      "margin": null,
      "display": null,
      "left": null
     }
    },
    "8657e5701c9441c589ea104533078766": {
     "model_module": "@jupyter-widgets/controls",
     "model_name": "FloatProgressModel",
     "state": {
      "_view_name": "ProgressView",
      "style": "IPY_MODEL_568299469d29433ea5efacb6b33e72cf",
      "_dom_classes": [],
      "description": "Downloading: 100%",
      "_model_name": "FloatProgressModel",
      "bar_style": "success",
      "max": 231508,
      "_view_module": "@jupyter-widgets/controls",
      "_model_module_version": "1.5.0",
      "value": 231508,
      "_view_count": null,
      "_view_module_version": "1.5.0",
      "orientation": "horizontal",
      "min": 0,
      "description_tooltip": null,
      "_model_module": "@jupyter-widgets/controls",
      "layout": "IPY_MODEL_86cfb2da988b4f0d842a7adeee060002"
     }
    },
    "536ec2525e474489acfe9903fd0d23fa": {
     "model_module": "@jupyter-widgets/controls",
     "model_name": "HTMLModel",
     "state": {
      "_view_name": "HTMLView",
      "style": "IPY_MODEL_45b918e8007248fc84c123eab2b9a483",
      "_dom_classes": [],
      "description": "",
      "_model_name": "HTMLModel",
      "placeholder": "​",
      "_view_module": "@jupyter-widgets/controls",
      "_model_module_version": "1.5.0",
      "value": " 232k/232k [00:00&lt;00:00, 488kB/s]",
      "_view_count": null,
      "_view_module_version": "1.5.0",
      "description_tooltip": null,
      "_model_module": "@jupyter-widgets/controls",
      "layout": "IPY_MODEL_dbbf86615357448389b71de56c2b442d"
     }
    },
    "568299469d29433ea5efacb6b33e72cf": {
     "model_module": "@jupyter-widgets/controls",
     "model_name": "ProgressStyleModel",
     "state": {
      "_view_name": "StyleView",
      "_model_name": "ProgressStyleModel",
      "description_width": "initial",
      "_view_module": "@jupyter-widgets/base",
      "_model_module_version": "1.5.0",
      "_view_count": null,
      "_view_module_version": "1.2.0",
      "bar_color": null,
      "_model_module": "@jupyter-widgets/controls"
     }
    },
    "86cfb2da988b4f0d842a7adeee060002": {
     "model_module": "@jupyter-widgets/base",
     "model_name": "LayoutModel",
     "state": {
      "_view_name": "LayoutView",
      "grid_template_rows": null,
      "right": null,
      "justify_content": null,
      "_view_module": "@jupyter-widgets/base",
      "overflow": null,
      "_model_module_version": "1.2.0",
      "_view_count": null,
      "flex_flow": null,
      "width": null,
      "min_width": null,
      "border": null,
      "align_items": null,
      "bottom": null,
      "_model_module": "@jupyter-widgets/base",
      "top": null,
      "grid_column": null,
      "overflow_y": null,
      "overflow_x": null,
      "grid_auto_flow": null,
      "grid_area": null,
      "grid_template_columns": null,
      "flex": null,
      "_model_name": "LayoutModel",
      "justify_items": null,
      "grid_row": null,
      "max_height": null,
      "align_content": null,
      "visibility": null,
      "align_self": null,
      "height": null,
      "min_height": null,
      "padding": null,
      "grid_auto_rows": null,
      "grid_gap": null,
      "max_width": null,
      "order": null,
      "_view_module_version": "1.2.0",
      "grid_template_areas": null,
      "object_position": null,
      "object_fit": null,
      "grid_auto_columns": null,
      "margin": null,
      "display": null,
      "left": null
     }
    },
    "45b918e8007248fc84c123eab2b9a483": {
     "model_module": "@jupyter-widgets/controls",
     "model_name": "DescriptionStyleModel",
     "state": {
      "_view_name": "StyleView",
      "_model_name": "DescriptionStyleModel",
      "description_width": "",
      "_view_module": "@jupyter-widgets/base",
      "_model_module_version": "1.5.0",
      "_view_count": null,
      "_view_module_version": "1.2.0",
      "_model_module": "@jupyter-widgets/controls"
     }
    },
    "dbbf86615357448389b71de56c2b442d": {
     "model_module": "@jupyter-widgets/base",
     "model_name": "LayoutModel",
     "state": {
      "_view_name": "LayoutView",
      "grid_template_rows": null,
      "right": null,
      "justify_content": null,
      "_view_module": "@jupyter-widgets/base",
      "overflow": null,
      "_model_module_version": "1.2.0",
      "_view_count": null,
      "flex_flow": null,
      "width": null,
      "min_width": null,
      "border": null,
      "align_items": null,
      "bottom": null,
      "_model_module": "@jupyter-widgets/base",
      "top": null,
      "grid_column": null,
      "overflow_y": null,
      "overflow_x": null,
      "grid_auto_flow": null,
      "grid_area": null,
      "grid_template_columns": null,
      "flex": null,
      "_model_name": "LayoutModel",
      "justify_items": null,
      "grid_row": null,
      "max_height": null,
      "align_content": null,
      "visibility": null,
      "align_self": null,
      "height": null,
      "min_height": null,
      "padding": null,
      "grid_auto_rows": null,
      "grid_gap": null,
      "max_width": null,
      "order": null,
      "_view_module_version": "1.2.0",
      "grid_template_areas": null,
      "object_position": null,
      "object_fit": null,
      "grid_auto_columns": null,
      "margin": null,
      "display": null,
      "left": null
     }
    },
    "728113c4770741279d81eb2825e12d80": {
     "model_module": "@jupyter-widgets/controls",
     "model_name": "HBoxModel",
     "state": {
      "_view_name": "HBoxView",
      "_dom_classes": [],
      "_model_name": "HBoxModel",
      "_view_module": "@jupyter-widgets/controls",
      "_model_module_version": "1.5.0",
      "_view_count": null,
      "_view_module_version": "1.5.0",
      "box_style": "",
      "layout": "IPY_MODEL_450b766423044dbeb256c7422f1246ec",
      "_model_module": "@jupyter-widgets/controls",
      "children": [
       "IPY_MODEL_4674782ff79f497aa29ebdb1423499e1",
       "IPY_MODEL_bdd5fb399f74493798312b43bc478307"
      ]
     }
    },
    "450b766423044dbeb256c7422f1246ec": {
     "model_module": "@jupyter-widgets/base",
     "model_name": "LayoutModel",
     "state": {
      "_view_name": "LayoutView",
      "grid_template_rows": null,
      "right": null,
      "justify_content": null,
      "_view_module": "@jupyter-widgets/base",
      "overflow": null,
      "_model_module_version": "1.2.0",
      "_view_count": null,
      "flex_flow": null,
      "width": null,
      "min_width": null,
      "border": null,
      "align_items": null,
      "bottom": null,
      "_model_module": "@jupyter-widgets/base",
      "top": null,
      "grid_column": null,
      "overflow_y": null,
      "overflow_x": null,
      "grid_auto_flow": null,
      "grid_area": null,
      "grid_template_columns": null,
      "flex": null,
      "_model_name": "LayoutModel",
      "justify_items": null,
      "grid_row": null,
      "max_height": null,
      "align_content": null,
      "visibility": null,
      "align_self": null,
      "height": null,
      "min_height": null,
      "padding": null,
      "grid_auto_rows": null,
      "grid_gap": null,
      "max_width": null,
      "order": null,
      "_view_module_version": "1.2.0",
      "grid_template_areas": null,
      "object_position": null,
      "object_fit": null,
      "grid_auto_columns": null,
      "margin": null,
      "display": null,
      "left": null
     }
    },
    "4674782ff79f497aa29ebdb1423499e1": {
     "model_module": "@jupyter-widgets/controls",
     "model_name": "FloatProgressModel",
     "state": {
      "_view_name": "ProgressView",
      "style": "IPY_MODEL_339b25980d2648da8ddfc3d373bdf054",
      "_dom_classes": [],
      "description": "Downloading: 100%",
      "_model_name": "FloatProgressModel",
      "bar_style": "success",
      "max": 112,
      "_view_module": "@jupyter-widgets/controls",
      "_model_module_version": "1.5.0",
      "value": 112,
      "_view_count": null,
      "_view_module_version": "1.5.0",
      "orientation": "horizontal",
      "min": 0,
      "description_tooltip": null,
      "_model_module": "@jupyter-widgets/controls",
      "layout": "IPY_MODEL_8db8c289be6d4052bfec8cde26d319c4"
     }
    },
    "bdd5fb399f74493798312b43bc478307": {
     "model_module": "@jupyter-widgets/controls",
     "model_name": "HTMLModel",
     "state": {
      "_view_name": "HTMLView",
      "style": "IPY_MODEL_9f33daf022984a529c3c9ea2896a68e0",
      "_dom_classes": [],
      "description": "",
      "_model_name": "HTMLModel",
      "placeholder": "​",
      "_view_module": "@jupyter-widgets/controls",
      "_model_module_version": "1.5.0",
      "value": " 112/112 [00:00&lt;00:00, 374B/s]",
      "_view_count": null,
      "_view_module_version": "1.5.0",
      "description_tooltip": null,
      "_model_module": "@jupyter-widgets/controls",
      "layout": "IPY_MODEL_49fb4b4274fd42f188432b1e19247f15"
     }
    },
    "339b25980d2648da8ddfc3d373bdf054": {
     "model_module": "@jupyter-widgets/controls",
     "model_name": "ProgressStyleModel",
     "state": {
      "_view_name": "StyleView",
      "_model_name": "ProgressStyleModel",
      "description_width": "initial",
      "_view_module": "@jupyter-widgets/base",
      "_model_module_version": "1.5.0",
      "_view_count": null,
      "_view_module_version": "1.2.0",
      "bar_color": null,
      "_model_module": "@jupyter-widgets/controls"
     }
    },
    "8db8c289be6d4052bfec8cde26d319c4": {
     "model_module": "@jupyter-widgets/base",
     "model_name": "LayoutModel",
     "state": {
      "_view_name": "LayoutView",
      "grid_template_rows": null,
      "right": null,
      "justify_content": null,
      "_view_module": "@jupyter-widgets/base",
      "overflow": null,
      "_model_module_version": "1.2.0",
      "_view_count": null,
      "flex_flow": null,
      "width": null,
      "min_width": null,
      "border": null,
      "align_items": null,
      "bottom": null,
      "_model_module": "@jupyter-widgets/base",
      "top": null,
      "grid_column": null,
      "overflow_y": null,
      "overflow_x": null,
      "grid_auto_flow": null,
      "grid_area": null,
      "grid_template_columns": null,
      "flex": null,
      "_model_name": "LayoutModel",
      "justify_items": null,
      "grid_row": null,
      "max_height": null,
      "align_content": null,
      "visibility": null,
      "align_self": null,
      "height": null,
      "min_height": null,
      "padding": null,
      "grid_auto_rows": null,
      "grid_gap": null,
      "max_width": null,
      "order": null,
      "_view_module_version": "1.2.0",
      "grid_template_areas": null,
      "object_position": null,
      "object_fit": null,
      "grid_auto_columns": null,
      "margin": null,
      "display": null,
      "left": null
     }
    },
    "9f33daf022984a529c3c9ea2896a68e0": {
     "model_module": "@jupyter-widgets/controls",
     "model_name": "DescriptionStyleModel",
     "state": {
      "_view_name": "StyleView",
      "_model_name": "DescriptionStyleModel",
      "description_width": "",
      "_view_module": "@jupyter-widgets/base",
      "_model_module_version": "1.5.0",
      "_view_count": null,
      "_view_module_version": "1.2.0",
      "_model_module": "@jupyter-widgets/controls"
     }
    },
    "49fb4b4274fd42f188432b1e19247f15": {
     "model_module": "@jupyter-widgets/base",
     "model_name": "LayoutModel",
     "state": {
      "_view_name": "LayoutView",
      "grid_template_rows": null,
      "right": null,
      "justify_content": null,
      "_view_module": "@jupyter-widgets/base",
      "overflow": null,
      "_model_module_version": "1.2.0",
      "_view_count": null,
      "flex_flow": null,
      "width": null,
      "min_width": null,
      "border": null,
      "align_items": null,
      "bottom": null,
      "_model_module": "@jupyter-widgets/base",
      "top": null,
      "grid_column": null,
      "overflow_y": null,
      "overflow_x": null,
      "grid_auto_flow": null,
      "grid_area": null,
      "grid_template_columns": null,
      "flex": null,
      "_model_name": "LayoutModel",
      "justify_items": null,
      "grid_row": null,
      "max_height": null,
      "align_content": null,
      "visibility": null,
      "align_self": null,
      "height": null,
      "min_height": null,
      "padding": null,
      "grid_auto_rows": null,
      "grid_gap": null,
      "max_width": null,
      "order": null,
      "_view_module_version": "1.2.0",
      "grid_template_areas": null,
      "object_position": null,
      "object_fit": null,
      "grid_auto_columns": null,
      "margin": null,
      "display": null,
      "left": null
     }
    },
    "0bd867fb8f3340ee9802af92a810fbcf": {
     "model_module": "@jupyter-widgets/controls",
     "model_name": "HBoxModel",
     "state": {
      "_view_name": "HBoxView",
      "_dom_classes": [],
      "_model_name": "HBoxModel",
      "_view_module": "@jupyter-widgets/controls",
      "_model_module_version": "1.5.0",
      "_view_count": null,
      "_view_module_version": "1.5.0",
      "box_style": "",
      "layout": "IPY_MODEL_29dcf0b4e101417e9a58e876015d1d05",
      "_model_module": "@jupyter-widgets/controls",
      "children": [
       "IPY_MODEL_833949b11bc7423ba793a12a2c703abb",
       "IPY_MODEL_919649a05aa843f2af3a08c7a3678f54"
      ]
     }
    },
    "29dcf0b4e101417e9a58e876015d1d05": {
     "model_module": "@jupyter-widgets/base",
     "model_name": "LayoutModel",
     "state": {
      "_view_name": "LayoutView",
      "grid_template_rows": null,
      "right": null,
      "justify_content": null,
      "_view_module": "@jupyter-widgets/base",
      "overflow": null,
      "_model_module_version": "1.2.0",
      "_view_count": null,
      "flex_flow": null,
      "width": null,
      "min_width": null,
      "border": null,
      "align_items": null,
      "bottom": null,
      "_model_module": "@jupyter-widgets/base",
      "top": null,
      "grid_column": null,
      "overflow_y": null,
      "overflow_x": null,
      "grid_auto_flow": null,
      "grid_area": null,
      "grid_template_columns": null,
      "flex": null,
      "_model_name": "LayoutModel",
      "justify_items": null,
      "grid_row": null,
      "max_height": null,
      "align_content": null,
      "visibility": null,
      "align_self": null,
      "height": null,
      "min_height": null,
      "padding": null,
      "grid_auto_rows": null,
      "grid_gap": null,
      "max_width": null,
      "order": null,
      "_view_module_version": "1.2.0",
      "grid_template_areas": null,
      "object_position": null,
      "object_fit": null,
      "grid_auto_columns": null,
      "margin": null,
      "display": null,
      "left": null
     }
    },
    "833949b11bc7423ba793a12a2c703abb": {
     "model_module": "@jupyter-widgets/controls",
     "model_name": "FloatProgressModel",
     "state": {
      "_view_name": "ProgressView",
      "style": "IPY_MODEL_c7689a0588cd4dd398d0c82d9a78034b",
      "_dom_classes": [],
      "description": "Downloading: 100%",
      "_model_name": "FloatProgressModel",
      "bar_style": "success",
      "max": 252,
      "_view_module": "@jupyter-widgets/controls",
      "_model_module_version": "1.5.0",
      "value": 252,
      "_view_count": null,
      "_view_module_version": "1.5.0",
      "orientation": "horizontal",
      "min": 0,
      "description_tooltip": null,
      "_model_module": "@jupyter-widgets/controls",
      "layout": "IPY_MODEL_b7869caaccdf4b8189eafd03d8c09ba6"
     }
    },
    "919649a05aa843f2af3a08c7a3678f54": {
     "model_module": "@jupyter-widgets/controls",
     "model_name": "HTMLModel",
     "state": {
      "_view_name": "HTMLView",
      "style": "IPY_MODEL_69e8ec50e52442398d8c3254422496ac",
      "_dom_classes": [],
      "description": "",
      "_model_name": "HTMLModel",
      "placeholder": "​",
      "_view_module": "@jupyter-widgets/controls",
      "_model_module_version": "1.5.0",
      "value": " 252/252 [00:00&lt;00:00, 3.05kB/s]",
      "_view_count": null,
      "_view_module_version": "1.5.0",
      "description_tooltip": null,
      "_model_module": "@jupyter-widgets/controls",
      "layout": "IPY_MODEL_fac1341c8bb94ec69d98a64ebd4fa349"
     }
    },
    "c7689a0588cd4dd398d0c82d9a78034b": {
     "model_module": "@jupyter-widgets/controls",
     "model_name": "ProgressStyleModel",
     "state": {
      "_view_name": "StyleView",
      "_model_name": "ProgressStyleModel",
      "description_width": "initial",
      "_view_module": "@jupyter-widgets/base",
      "_model_module_version": "1.5.0",
      "_view_count": null,
      "_view_module_version": "1.2.0",
      "bar_color": null,
      "_model_module": "@jupyter-widgets/controls"
     }
    },
    "b7869caaccdf4b8189eafd03d8c09ba6": {
     "model_module": "@jupyter-widgets/base",
     "model_name": "LayoutModel",
     "state": {
      "_view_name": "LayoutView",
      "grid_template_rows": null,
      "right": null,
      "justify_content": null,
      "_view_module": "@jupyter-widgets/base",
      "overflow": null,
      "_model_module_version": "1.2.0",
      "_view_count": null,
      "flex_flow": null,
      "width": null,
      "min_width": null,
      "border": null,
      "align_items": null,
      "bottom": null,
      "_model_module": "@jupyter-widgets/base",
      "top": null,
      "grid_column": null,
      "overflow_y": null,
      "overflow_x": null,
      "grid_auto_flow": null,
      "grid_area": null,
      "grid_template_columns": null,
      "flex": null,
      "_model_name": "LayoutModel",
      "justify_items": null,
      "grid_row": null,
      "max_height": null,
      "align_content": null,
      "visibility": null,
      "align_self": null,
      "height": null,
      "min_height": null,
      "padding": null,
      "grid_auto_rows": null,
      "grid_gap": null,
      "max_width": null,
      "order": null,
      "_view_module_version": "1.2.0",
      "grid_template_areas": null,
      "object_position": null,
      "object_fit": null,
      "grid_auto_columns": null,
      "margin": null,
      "display": null,
      "left": null
     }
    },
    "69e8ec50e52442398d8c3254422496ac": {
     "model_module": "@jupyter-widgets/controls",
     "model_name": "DescriptionStyleModel",
     "state": {
      "_view_name": "StyleView",
      "_model_name": "DescriptionStyleModel",
      "description_width": "",
      "_view_module": "@jupyter-widgets/base",
      "_model_module_version": "1.5.0",
      "_view_count": null,
      "_view_module_version": "1.2.0",
      "_model_module": "@jupyter-widgets/controls"
     }
    },
    "fac1341c8bb94ec69d98a64ebd4fa349": {
     "model_module": "@jupyter-widgets/base",
     "model_name": "LayoutModel",
     "state": {
      "_view_name": "LayoutView",
      "grid_template_rows": null,
      "right": null,
      "justify_content": null,
      "_view_module": "@jupyter-widgets/base",
      "overflow": null,
      "_model_module_version": "1.2.0",
      "_view_count": null,
      "flex_flow": null,
      "width": null,
      "min_width": null,
      "border": null,
      "align_items": null,
      "bottom": null,
      "_model_module": "@jupyter-widgets/base",
      "top": null,
      "grid_column": null,
      "overflow_y": null,
      "overflow_x": null,
      "grid_auto_flow": null,
      "grid_area": null,
      "grid_template_columns": null,
      "flex": null,
      "_model_name": "LayoutModel",
      "justify_items": null,
      "grid_row": null,
      "max_height": null,
      "align_content": null,
      "visibility": null,
      "align_self": null,
      "height": null,
      "min_height": null,
      "padding": null,
      "grid_auto_rows": null,
      "grid_gap": null,
      "max_width": null,
      "order": null,
      "_view_module_version": "1.2.0",
      "grid_template_areas": null,
      "object_position": null,
      "object_fit": null,
      "grid_auto_columns": null,
      "margin": null,
      "display": null,
      "left": null
     }
    },
    "636a4635531843f5a1f6749024dab003": {
     "model_module": "@jupyter-widgets/controls",
     "model_name": "HBoxModel",
     "state": {
      "_view_name": "HBoxView",
      "_dom_classes": [],
      "_model_name": "HBoxModel",
      "_view_module": "@jupyter-widgets/controls",
      "_model_module_version": "1.5.0",
      "_view_count": null,
      "_view_module_version": "1.5.0",
      "box_style": "",
      "layout": "IPY_MODEL_7aa36b658a3e459eba7d122f1a45816b",
      "_model_module": "@jupyter-widgets/controls",
      "children": [
       "IPY_MODEL_28d6e6b84b2145879fcd931977b9383b",
       "IPY_MODEL_1ef8a9e061914c2698d4387724a12d74"
      ]
     }
    },
    "7aa36b658a3e459eba7d122f1a45816b": {
     "model_module": "@jupyter-widgets/base",
     "model_name": "LayoutModel",
     "state": {
      "_view_name": "LayoutView",
      "grid_template_rows": null,
      "right": null,
      "justify_content": null,
      "_view_module": "@jupyter-widgets/base",
      "overflow": null,
      "_model_module_version": "1.2.0",
      "_view_count": null,
      "flex_flow": null,
      "width": null,
      "min_width": null,
      "border": null,
      "align_items": null,
      "bottom": null,
      "_model_module": "@jupyter-widgets/base",
      "top": null,
      "grid_column": null,
      "overflow_y": null,
      "overflow_x": null,
      "grid_auto_flow": null,
      "grid_area": null,
      "grid_template_columns": null,
      "flex": null,
      "_model_name": "LayoutModel",
      "justify_items": null,
      "grid_row": null,
      "max_height": null,
      "align_content": null,
      "visibility": null,
      "align_self": null,
      "height": null,
      "min_height": null,
      "padding": null,
      "grid_auto_rows": null,
      "grid_gap": null,
      "max_width": null,
      "order": null,
      "_view_module_version": "1.2.0",
      "grid_template_areas": null,
      "object_position": null,
      "object_fit": null,
      "grid_auto_columns": null,
      "margin": null,
      "display": null,
      "left": null
     }
    },
    "28d6e6b84b2145879fcd931977b9383b": {
     "model_module": "@jupyter-widgets/controls",
     "model_name": "FloatProgressModel",
     "state": {
      "_view_name": "ProgressView",
      "style": "IPY_MODEL_adb6638a203a4459a2c12c40242eaba8",
      "_dom_classes": [],
      "description": "Downloading: 100%",
      "_model_name": "FloatProgressModel",
      "bar_style": "success",
      "max": 437992753,
      "_view_module": "@jupyter-widgets/controls",
      "_model_module_version": "1.5.0",
      "value": 437992753,
      "_view_count": null,
      "_view_module_version": "1.5.0",
      "orientation": "horizontal",
      "min": 0,
      "description_tooltip": null,
      "_model_module": "@jupyter-widgets/controls",
      "layout": "IPY_MODEL_915d274766d24668aa50f6d061df5d11"
     }
    },
    "1ef8a9e061914c2698d4387724a12d74": {
     "model_module": "@jupyter-widgets/controls",
     "model_name": "HTMLModel",
     "state": {
      "_view_name": "HTMLView",
      "style": "IPY_MODEL_6bf03e1539484a7f82833d5580f740d4",
      "_dom_classes": [],
      "description": "",
      "_model_name": "HTMLModel",
      "placeholder": "​",
      "_view_module": "@jupyter-widgets/controls",
      "_model_module_version": "1.5.0",
      "value": " 438M/438M [00:12&lt;00:00, 35.6MB/s]",
      "_view_count": null,
      "_view_module_version": "1.5.0",
      "description_tooltip": null,
      "_model_module": "@jupyter-widgets/controls",
      "layout": "IPY_MODEL_ac85f2ecb9aa447fb3914a96a3814c6e"
     }
    },
    "adb6638a203a4459a2c12c40242eaba8": {
     "model_module": "@jupyter-widgets/controls",
     "model_name": "ProgressStyleModel",
     "state": {
      "_view_name": "StyleView",
      "_model_name": "ProgressStyleModel",
      "description_width": "initial",
      "_view_module": "@jupyter-widgets/base",
      "_model_module_version": "1.5.0",
      "_view_count": null,
      "_view_module_version": "1.2.0",
      "bar_color": null,
      "_model_module": "@jupyter-widgets/controls"
     }
    },
    "915d274766d24668aa50f6d061df5d11": {
     "model_module": "@jupyter-widgets/base",
     "model_name": "LayoutModel",
     "state": {
      "_view_name": "LayoutView",
      "grid_template_rows": null,
      "right": null,
      "justify_content": null,
      "_view_module": "@jupyter-widgets/base",
      "overflow": null,
      "_model_module_version": "1.2.0",
      "_view_count": null,
      "flex_flow": null,
      "width": null,
      "min_width": null,
      "border": null,
      "align_items": null,
      "bottom": null,
      "_model_module": "@jupyter-widgets/base",
      "top": null,
      "grid_column": null,
      "overflow_y": null,
      "overflow_x": null,
      "grid_auto_flow": null,
      "grid_area": null,
      "grid_template_columns": null,
      "flex": null,
      "_model_name": "LayoutModel",
      "justify_items": null,
      "grid_row": null,
      "max_height": null,
      "align_content": null,
      "visibility": null,
      "align_self": null,
      "height": null,
      "min_height": null,
      "padding": null,
      "grid_auto_rows": null,
      "grid_gap": null,
      "max_width": null,
      "order": null,
      "_view_module_version": "1.2.0",
      "grid_template_areas": null,
      "object_position": null,
      "object_fit": null,
      "grid_auto_columns": null,
      "margin": null,
      "display": null,
      "left": null
     }
    },
    "6bf03e1539484a7f82833d5580f740d4": {
     "model_module": "@jupyter-widgets/controls",
     "model_name": "DescriptionStyleModel",
     "state": {
      "_view_name": "StyleView",
      "_model_name": "DescriptionStyleModel",
      "description_width": "",
      "_view_module": "@jupyter-widgets/base",
      "_model_module_version": "1.5.0",
      "_view_count": null,
      "_view_module_version": "1.2.0",
      "_model_module": "@jupyter-widgets/controls"
     }
    },
    "ac85f2ecb9aa447fb3914a96a3814c6e": {
     "model_module": "@jupyter-widgets/base",
     "model_name": "LayoutModel",
     "state": {
      "_view_name": "LayoutView",
      "grid_template_rows": null,
      "right": null,
      "justify_content": null,
      "_view_module": "@jupyter-widgets/base",
      "overflow": null,
      "_model_module_version": "1.2.0",
      "_view_count": null,
      "flex_flow": null,
      "width": null,
      "min_width": null,
      "border": null,
      "align_items": null,
      "bottom": null,
      "_model_module": "@jupyter-widgets/base",
      "top": null,
      "grid_column": null,
      "overflow_y": null,
      "overflow_x": null,
      "grid_auto_flow": null,
      "grid_area": null,
      "grid_template_columns": null,
      "flex": null,
      "_model_name": "LayoutModel",
      "justify_items": null,
      "grid_row": null,
      "max_height": null,
      "align_content": null,
      "visibility": null,
      "align_self": null,
      "height": null,
      "min_height": null,
      "padding": null,
      "grid_auto_rows": null,
      "grid_gap": null,
      "max_width": null,
      "order": null,
      "_view_module_version": "1.2.0",
      "grid_template_areas": null,
      "object_position": null,
      "object_fit": null,
      "grid_auto_columns": null,
      "margin": null,
      "display": null,
      "left": null
     }
    }
   }
  }
 },
 "cells": [
  {
   "cell_type": "code",
   "metadata": {
    "colab": {
     "base_uri": "https://localhost:8080/",
     "height": 1000
    },
    "id": "Xk-wAA2O1-cV",
    "outputId": "b6313d88-2104-4513-92bc-f455f8cd4c02"
   },
   "source": [
    "import pandas as pd\n",
    "df_tweets = pd.read_csv(r'preprocessed_tweets/example_processed_tweets.csv', delimiter = \",\", encoding='latin-1')\n",
    "\n",
    "df_tweets = df_tweets.dropna()\n",
    "df_tweets"
   ],
   "execution_count": 8,
   "outputs": [
    {
     "data": {
      "text/plain": "                                               TWEET        DATE      TIME\n0  Soon it will seem like all rotation will be fr...  28/10/2021  21:28:23\n1  Screw Elon Musk, the selfish bastard. This sea...  28/10/2021  21:27:17\n2  Detroit automakers would be able to offer $4,5...  28/10/2021  21:27:03\n3  A lot of people and 401ks made a lot of money ...  28/10/2021  18:18:40",
      "text/html": "<div>\n<style scoped>\n    .dataframe tbody tr th:only-of-type {\n        vertical-align: middle;\n    }\n\n    .dataframe tbody tr th {\n        vertical-align: top;\n    }\n\n    .dataframe thead th {\n        text-align: right;\n    }\n</style>\n<table border=\"1\" class=\"dataframe\">\n  <thead>\n    <tr style=\"text-align: right;\">\n      <th></th>\n      <th>TWEET</th>\n      <th>DATE</th>\n      <th>TIME</th>\n    </tr>\n  </thead>\n  <tbody>\n    <tr>\n      <th>0</th>\n      <td>Soon it will seem like all rotation will be fr...</td>\n      <td>28/10/2021</td>\n      <td>21:28:23</td>\n    </tr>\n    <tr>\n      <th>1</th>\n      <td>Screw Elon Musk, the selfish bastard. This sea...</td>\n      <td>28/10/2021</td>\n      <td>21:27:17</td>\n    </tr>\n    <tr>\n      <th>2</th>\n      <td>Detroit automakers would be able to offer $4,5...</td>\n      <td>28/10/2021</td>\n      <td>21:27:03</td>\n    </tr>\n    <tr>\n      <th>3</th>\n      <td>A lot of people and 401ks made a lot of money ...</td>\n      <td>28/10/2021</td>\n      <td>18:18:40</td>\n    </tr>\n  </tbody>\n</table>\n</div>"
     },
     "execution_count": 8,
     "metadata": {},
     "output_type": "execute_result"
    }
   ]
  },
  {
   "cell_type": "code",
   "execution_count": 3,
   "outputs": [
    {
     "data": {
      "text/plain": "                                               TWEET        DATE      TIME\n0  Soon it will seem like all rotation will be fr...  28/10/2021  21:28:23\n1  Screw Elon Musk, the selfish bastard. This sea...  28/10/2021  21:27:17\n2  Detroit automakers would be able to offer $4,5...  28/10/2021  21:27:03\n3  A lot of people and 401ks made a lot of money ...  28/10/2021  18:18:40",
      "text/html": "<div>\n<style scoped>\n    .dataframe tbody tr th:only-of-type {\n        vertical-align: middle;\n    }\n\n    .dataframe tbody tr th {\n        vertical-align: top;\n    }\n\n    .dataframe thead th {\n        text-align: right;\n    }\n</style>\n<table border=\"1\" class=\"dataframe\">\n  <thead>\n    <tr style=\"text-align: right;\">\n      <th></th>\n      <th>TWEET</th>\n      <th>DATE</th>\n      <th>TIME</th>\n    </tr>\n  </thead>\n  <tbody>\n    <tr>\n      <th>0</th>\n      <td>Soon it will seem like all rotation will be fr...</td>\n      <td>28/10/2021</td>\n      <td>21:28:23</td>\n    </tr>\n    <tr>\n      <th>1</th>\n      <td>Screw Elon Musk, the selfish bastard. This sea...</td>\n      <td>28/10/2021</td>\n      <td>21:27:17</td>\n    </tr>\n    <tr>\n      <th>2</th>\n      <td>Detroit automakers would be able to offer $4,5...</td>\n      <td>28/10/2021</td>\n      <td>21:27:03</td>\n    </tr>\n    <tr>\n      <th>3</th>\n      <td>A lot of people and 401ks made a lot of money ...</td>\n      <td>28/10/2021</td>\n      <td>18:18:40</td>\n    </tr>\n  </tbody>\n</table>\n</div>"
     },
     "execution_count": 3,
     "metadata": {},
     "output_type": "execute_result"
    }
   ],
   "source": [
    "# #df_tweets = df_tweets.drop([259255])\n",
    "#df_tweets = df_tweets[:147568]\n",
    "# #df_tweets = df_tweets.drop(df_tweets.tail(50000).index,inplace=True)\n",
    "#df_tweets.tail()\n",
    "#df_tweets.to_csv(r'C:\\Users\\wierc\\Desktop\\inz\\stock_ml\\btc_processed_tweets_01_04_21_05.csv', index = False)\n",
    "# # #df_tweets\n",
    "#df_tweets.columns = [\"SENTIMENT\", \"TWEET\"]\n",
    "df_tweets"
   ],
   "metadata": {
    "collapsed": false,
    "pycharm": {
     "name": "#%%\n"
    }
   }
  },
  {
   "cell_type": "code",
   "metadata": {
    "colab": {
     "base_uri": "https://localhost:8080/",
     "height": 772,
     "referenced_widgets": [
      "040c1b50069b4c35975a82794878330a",
      "71c724abffba46acbb602429d8fe935a",
      "7a3e87738f704e02a8d3fdfc4c68d90d",
      "21d3d1c3c0db4205b1cd059987325bea",
      "2c8eba049d4c4e2a834409e450a3c0ca",
      "9915afc7bf184fad97adda6c80317991",
      "05ce4dfd59f544739f175227257f3b42",
      "a62e20513f534bf0913c7c4128964846",
      "d14cecfc60e74bc5a5dd7b9711679048",
      "d12918488ddc4de58406ce0c4980beca",
      "8657e5701c9441c589ea104533078766",
      "536ec2525e474489acfe9903fd0d23fa",
      "568299469d29433ea5efacb6b33e72cf",
      "86cfb2da988b4f0d842a7adeee060002",
      "45b918e8007248fc84c123eab2b9a483",
      "dbbf86615357448389b71de56c2b442d",
      "728113c4770741279d81eb2825e12d80",
      "450b766423044dbeb256c7422f1246ec",
      "4674782ff79f497aa29ebdb1423499e1",
      "bdd5fb399f74493798312b43bc478307",
      "339b25980d2648da8ddfc3d373bdf054",
      "8db8c289be6d4052bfec8cde26d319c4",
      "9f33daf022984a529c3c9ea2896a68e0",
      "49fb4b4274fd42f188432b1e19247f15",
      "0bd867fb8f3340ee9802af92a810fbcf",
      "29dcf0b4e101417e9a58e876015d1d05",
      "833949b11bc7423ba793a12a2c703abb",
      "919649a05aa843f2af3a08c7a3678f54",
      "c7689a0588cd4dd398d0c82d9a78034b",
      "b7869caaccdf4b8189eafd03d8c09ba6",
      "69e8ec50e52442398d8c3254422496ac",
      "fac1341c8bb94ec69d98a64ebd4fa349",
      "636a4635531843f5a1f6749024dab003",
      "7aa36b658a3e459eba7d122f1a45816b",
      "28d6e6b84b2145879fcd931977b9383b",
      "1ef8a9e061914c2698d4387724a12d74",
      "adb6638a203a4459a2c12c40242eaba8",
      "915d274766d24668aa50f6d061df5d11",
      "6bf03e1539484a7f82833d5580f740d4",
      "ac85f2ecb9aa447fb3914a96a3814c6e"
     ]
    },
    "id": "Hhl5Fevz2laN",
    "outputId": "aac9982f-d9d4-4031-a0f8-a9b38ceb857f"
   },
   "source": [
    "#!pip install transformers\n",
    "from transformers import AutoTokenizer, AutoModelForSequenceClassification\n",
    "  \n",
    "tokenizer = AutoTokenizer.from_pretrained(\"ProsusAI/finbert\")\n",
    "\n",
    "model = AutoModelForSequenceClassification.from_pretrained(\"ProsusAI/finbert\")"
   ],
   "execution_count": 9,
   "outputs": []
  },
  {
   "cell_type": "code",
   "execution_count": 10,
   "outputs": [
    {
     "name": "stdout",
     "output_type": "stream",
     "text": [
      "Today was a great day to buy amazon stock\n",
      "['today', 'was', 'a', 'great', 'day', 'to', 'buy', 'amazon', 'stock']\n",
      "input_ids:\n",
      "\ttensor([[ 101, 2651, 2001, 1037, 2307, 2154, 2000, 4965, 9733, 4518,  102]])\n",
      "token_type_ids:\n",
      "\ttensor([[0, 0, 0, 0, 0, 0, 0, 0, 0, 0, 0]])\n",
      "attention_mask:\n",
      "\ttensor([[1, 1, 1, 1, 1, 1, 1, 1, 1, 1, 1]])\n"
     ]
    }
   ],
   "source": [
    "sentence = \"Today was a great day to buy amazon stock\"\n",
    "print(sentence)\n",
    "\n",
    "print(tokenizer.tokenize(sentence))\n",
    "tokenizer.convert_tokens_to_ids(tokenizer.tokenize(sentence))\n",
    "tokens_pt = tokenizer(sentence, return_tensors=\"pt\")\n",
    "for key, value in tokens_pt.items():\n",
    "    print(\"{}:\\n\\t{}\".format(key, value))"
   ],
   "metadata": {
    "collapsed": false,
    "pycharm": {
     "name": "#%%\n"
    }
   }
  },
  {
   "cell_type": "code",
   "metadata": {
    "colab": {
     "base_uri": "https://localhost:8080/"
    },
    "id": "ZHiMJ9zTBY-M",
    "outputId": "7b786049-a128-4543-c784-1ac1c64d719d"
   },
   "source": [
    "for sentence in df_tweets[\"TWEET\"][1:10]:\n",
    "  print(sentence)\n",
    "  tokens_pt = tokenizer(sentence, return_tensors=\"pt\")\n",
    "  for key, value in tokens_pt.items():\n",
    "      print(\"{}:\\n\\t{}\".format(key, value))"
   ],
   "execution_count": 11,
   "outputs": [
    {
     "name": "stdout",
     "output_type": "stream",
     "text": [
      "Screw Elon Musk, the selfish bastard. This seals the deal for me - I'll never own a Tesla even if I could.\n",
      "input_ids:\n",
      "\ttensor([[  101, 11224,  3449,  2239, 14163,  6711,  1010,  1996, 14337,  8444,\n",
      "          1012,  2023, 13945,  1996,  3066,  2005,  2033,  1011,  1045,  1005,\n",
      "          2222,  2196,  2219,  1037, 26060,  2130,  2065,  1045,  2071,  1012,\n",
      "           102]])\n",
      "token_type_ids:\n",
      "\ttensor([[0, 0, 0, 0, 0, 0, 0, 0, 0, 0, 0, 0, 0, 0, 0, 0, 0, 0, 0, 0, 0, 0, 0, 0,\n",
      "         0, 0, 0, 0, 0, 0, 0]])\n",
      "attention_mask:\n",
      "\ttensor([[1, 1, 1, 1, 1, 1, 1, 1, 1, 1, 1, 1, 1, 1, 1, 1, 1, 1, 1, 1, 1, 1, 1, 1,\n",
      "         1, 1, 1, 1, 1, 1, 1]])\n",
      "Detroit automakers would be able to offer $4,500 more in tax credits to U.S. electric car buyers than rivals such as Tesla and Toyota under Biden's new proposal\n",
      "input_ids:\n",
      "\ttensor([[  101,  5626,  8285, 12088,  2052,  2022,  2583,  2000,  3749,  1002,\n",
      "          1018,  1010,  3156,  2062,  1999,  4171,  6495,  2000,  1057,  1012,\n",
      "          1055,  1012,  3751,  2482, 17394,  2084,  9169,  2107,  2004, 26060,\n",
      "          1998, 11742,  2104,  7226,  2368,  1005,  1055,  2047,  6378,   102]])\n",
      "token_type_ids:\n",
      "\ttensor([[0, 0, 0, 0, 0, 0, 0, 0, 0, 0, 0, 0, 0, 0, 0, 0, 0, 0, 0, 0, 0, 0, 0, 0,\n",
      "         0, 0, 0, 0, 0, 0, 0, 0, 0, 0, 0, 0, 0, 0, 0, 0]])\n",
      "attention_mask:\n",
      "\ttensor([[1, 1, 1, 1, 1, 1, 1, 1, 1, 1, 1, 1, 1, 1, 1, 1, 1, 1, 1, 1, 1, 1, 1, 1,\n",
      "         1, 1, 1, 1, 1, 1, 1, 1, 1, 1, 1, 1, 1, 1, 1, 1]])\n",
      "A lot of people and 401ks made a lot of money that day too from owning Tesla stock.\n",
      "input_ids:\n",
      "\ttensor([[  101,  1037,  2843,  1997,  2111,  1998, 22649,  5705,  2081,  1037,\n",
      "          2843,  1997,  2769,  2008,  2154,  2205,  2013, 19273, 26060,  4518,\n",
      "          1012,   102]])\n",
      "token_type_ids:\n",
      "\ttensor([[0, 0, 0, 0, 0, 0, 0, 0, 0, 0, 0, 0, 0, 0, 0, 0, 0, 0, 0, 0, 0, 0]])\n",
      "attention_mask:\n",
      "\ttensor([[1, 1, 1, 1, 1, 1, 1, 1, 1, 1, 1, 1, 1, 1, 1, 1, 1, 1, 1, 1, 1, 1]])\n"
     ]
    }
   ]
  },
  {
   "cell_type": "code",
   "metadata": {
    "id": "QN6DSl9_7reH"
   },
   "source": [
    "import numpy as np\n",
    "def softmax(z): return np.exp(z)/((np.exp(z)).sum())"
   ],
   "execution_count": 12,
   "outputs": []
  },
  {
   "cell_type": "code",
   "metadata": {
    "colab": {
     "base_uri": "https://localhost:8080/"
    },
    "id": "n9g1rv7vEk3u",
    "outputId": "700d373c-360e-4552-bc04-8ff45b5406b8"
   },
   "source": [
    "import torch, math\n",
    "\n",
    "def get_output(df, print_sentences = True, print_output = True):\n",
    "  df_sentences = df[\"TWEET\"]\n",
    "  positive = []\n",
    "  negative = []\n",
    "  neutral = []\n",
    "  predictions = []\n",
    "  sentiment_score = []\n",
    "\n",
    "  label_dict = {0: 'positive', 1: 'negative', 2: 'neutral'}\n",
    "\n",
    "  for sentence in df_sentences:\n",
    "    if print_sentences:\n",
    "      print(sentence)\n",
    "    inputs = tokenizer(sentence, return_tensors=\"pt\")\n",
    "  \n",
    "    labels = torch.tensor([1]).unsqueeze(0)  # Batch size 1\n",
    "    outputs = model(**inputs, labels=labels)\n",
    "    if print_output:\n",
    "      print(outputs)\n",
    "      print((softmax(outputs.logits.detach().numpy())))\n",
    "  \n",
    "    positive.append((softmax(outputs.logits.detach().numpy()))[0][0])\n",
    "    negative.append((softmax(outputs.logits.detach().numpy()))[0][1])\n",
    "    neutral.append((softmax(outputs.logits.detach().numpy()))[0][2])\n",
    "\n",
    "    prediction = np.squeeze(np.argmax((softmax(outputs.logits.detach().numpy()))[0]))\n",
    "    predictions.append(label_dict[prediction])\n",
    "\n",
    "\n",
    "  df['positive'] = positive\n",
    "  df['negative'] = negative\n",
    "  df['neutral'] = neutral\n",
    "\n",
    "  for pos, neg in zip(positive, negative):\n",
    "    sentiment_score.append(pos-neg)\n",
    "  df['sentiment_score'] = sentiment_score\n",
    "\n",
    "  df['predictions'] = predictions\n",
    "\n",
    "\n",
    "  return df\n",
    "\n",
    "def split_dataframe(df, chunk_size = 50000):\n",
    "    chunks = list()\n",
    "    num_chunks = len(df) // chunk_size + 1\n",
    "    num_chunks = math.ceil(len(df) / chunk_size)\n",
    "    for i in range(num_chunks):\n",
    "        chunks.append(df[i*chunk_size:(i+1)*chunk_size])\n",
    "    return chunks\n",
    "\n",
    "\n",
    "# df_chunks = split_dataframe(df_tweets)\n",
    "# for idx, df in enumerate(df_chunks):\n",
    "#   df_output = get_output(df)\n",
    "#   # if idx == 0:\n",
    "#   #   df_output.to_csv('metawars_sentiment_score.csv', mode='a', header=True)\n",
    "#   #    #df_output.to_excel('apple_sentiment_score_01_06_01_10.xlsx', mode='a', header=True)\n",
    "#   # else:\n",
    "#   #   df_output.to_csv('metawars_sentiment_score.csv', mode='a', header=False)\n",
    "#   # #df_output.to_excel('apple_sentiment_score_01_06_01_10.xlsx', mode='a', header=False)\n",
    "\n",
    "df_tweets = get_output(df_tweets)\n",
    "df_tweets"
   ],
   "execution_count": 13,
   "outputs": [
    {
     "name": "stdout",
     "output_type": "stream",
     "text": [
      "Soon it will seem like all rotation will be from other stocks to Tesla!\n",
      "SequenceClassifierOutput(loss=tensor(4.1060, grad_fn=<NllLossBackward>), logits=tensor([[-0.5063, -1.6223,  2.4146]], grad_fn=<AddmmBackward>), hidden_states=None, attentions=None)\n",
      "[[0.0502894  0.01647428 0.9332363 ]]\n",
      "Screw Elon Musk, the selfish bastard. This seals the deal for me - I'll never own a Tesla even if I could.\n",
      "SequenceClassifierOutput(loss=tensor(4.1650, grad_fn=<NllLossBackward>), logits=tensor([[-0.1610, -1.8843,  2.1726]], grad_fn=<AddmmBackward>), hidden_states=None, attentions=None)\n",
      "[[0.08700471 0.01552959 0.8974657 ]]\n",
      "Detroit automakers would be able to offer $4,500 more in tax credits to U.S. electric car buyers than rivals such as Tesla and Toyota under Biden's new proposal\n",
      "SequenceClassifierOutput(loss=tensor(4.7405, grad_fn=<NllLossBackward>), logits=tensor([[ 1.9029, -2.6954, -0.0440]], grad_fn=<AddmmBackward>), hidden_states=None, attentions=None)\n",
      "[[0.8674605  0.00873468 0.1238049 ]]\n",
      "A lot of people and 401ks made a lot of money that day too from owning Tesla stock.\n",
      "SequenceClassifierOutput(loss=tensor(3.9846, grad_fn=<NllLossBackward>), logits=tensor([[-0.2679, -1.7037,  2.1791]], grad_fn=<AddmmBackward>), hidden_states=None, attentions=None)\n",
      "[[0.07817888 0.01860072 0.90322036]]\n"
     ]
    },
    {
     "data": {
      "text/plain": "                                               TWEET        DATE      TIME  \\\n0  Soon it will seem like all rotation will be fr...  28/10/2021  21:28:23   \n1  Screw Elon Musk, the selfish bastard. This sea...  28/10/2021  21:27:17   \n2  Detroit automakers would be able to offer $4,5...  28/10/2021  21:27:03   \n3  A lot of people and 401ks made a lot of money ...  28/10/2021  18:18:40   \n\n   positive  negative   neutral  sentiment_score predictions  \n0  0.050289  0.016474  0.933236         0.033815     neutral  \n1  0.087005  0.015530  0.897466         0.071475     neutral  \n2  0.867460  0.008735  0.123805         0.858726    positive  \n3  0.078179  0.018601  0.903220         0.059578     neutral  ",
      "text/html": "<div>\n<style scoped>\n    .dataframe tbody tr th:only-of-type {\n        vertical-align: middle;\n    }\n\n    .dataframe tbody tr th {\n        vertical-align: top;\n    }\n\n    .dataframe thead th {\n        text-align: right;\n    }\n</style>\n<table border=\"1\" class=\"dataframe\">\n  <thead>\n    <tr style=\"text-align: right;\">\n      <th></th>\n      <th>TWEET</th>\n      <th>DATE</th>\n      <th>TIME</th>\n      <th>positive</th>\n      <th>negative</th>\n      <th>neutral</th>\n      <th>sentiment_score</th>\n      <th>predictions</th>\n    </tr>\n  </thead>\n  <tbody>\n    <tr>\n      <th>0</th>\n      <td>Soon it will seem like all rotation will be fr...</td>\n      <td>28/10/2021</td>\n      <td>21:28:23</td>\n      <td>0.050289</td>\n      <td>0.016474</td>\n      <td>0.933236</td>\n      <td>0.033815</td>\n      <td>neutral</td>\n    </tr>\n    <tr>\n      <th>1</th>\n      <td>Screw Elon Musk, the selfish bastard. This sea...</td>\n      <td>28/10/2021</td>\n      <td>21:27:17</td>\n      <td>0.087005</td>\n      <td>0.015530</td>\n      <td>0.897466</td>\n      <td>0.071475</td>\n      <td>neutral</td>\n    </tr>\n    <tr>\n      <th>2</th>\n      <td>Detroit automakers would be able to offer $4,5...</td>\n      <td>28/10/2021</td>\n      <td>21:27:03</td>\n      <td>0.867460</td>\n      <td>0.008735</td>\n      <td>0.123805</td>\n      <td>0.858726</td>\n      <td>positive</td>\n    </tr>\n    <tr>\n      <th>3</th>\n      <td>A lot of people and 401ks made a lot of money ...</td>\n      <td>28/10/2021</td>\n      <td>18:18:40</td>\n      <td>0.078179</td>\n      <td>0.018601</td>\n      <td>0.903220</td>\n      <td>0.059578</td>\n      <td>neutral</td>\n    </tr>\n  </tbody>\n</table>\n</div>"
     },
     "execution_count": 13,
     "metadata": {},
     "output_type": "execute_result"
    }
   ]
  },
  {
   "cell_type": "code",
   "execution_count": null,
   "outputs": [],
   "source": [
    "df_tweets.to_csv(r'C:\\Users\\wierc\\Desktop\\inz\\stock_ml\\gamestop_sentiment_scores_01_01_25_03.csv', index = False)\n",
    "df_tweets.to_excel(r'C:\\Users\\wierc\\Desktop\\inz\\stock_ml\\gamestop_sentiment_scores_01_01_25_03.xlsx', index = False)"
   ],
   "metadata": {
    "collapsed": false,
    "pycharm": {
     "name": "#%%\n"
    }
   }
  },
  {
   "cell_type": "code",
   "execution_count": 7,
   "outputs": [
    {
     "name": "stdout",
     "output_type": "stream",
     "text": [
      "Soon it will seem like all rotation will be from other stocks to Tesla!\n",
      " 0.0 0.4199\n",
      "Screw Elon Musk, the selfish bastard. This seals the deal for me - I'll never own a Tesla even if I could.\n",
      " 0.296 -0.7906\n",
      "Detroit automakers would be able to offer $4,500 more in tax credits to U.S. electric car buyers than rivals such as Tesla and Toyota under Biden's new proposal\n",
      " 0.0 0.4144\n",
      "A lot of people and 401ks made a lot of money that day too from owning Tesla stock.\n",
      " 0.0 0.0\n"
     ]
    },
    {
     "data": {
      "text/plain": "                                               TWEET        DATE      TIME  \\\n0  Soon it will seem like all rotation will be fr...  28/10/2021  21:28:23   \n1  Screw Elon Musk, the selfish bastard. This sea...  28/10/2021  21:27:17   \n2  Detroit automakers would be able to offer $4,5...  28/10/2021  21:27:03   \n3  A lot of people and 401ks made a lot of money ...  28/10/2021  18:18:40   \n\n   positive  negative   neutral  sentiment_score predictions  textblob   vader  \n0  0.050289  0.016474  0.933236         0.033815     neutral -0.156250  0.4199  \n1  0.087005  0.015530  0.897466         0.071475    negative -0.400000 -0.7906  \n2  0.867460  0.008735  0.123805         0.858726     neutral  0.284091  0.4144  \n3  0.078179  0.018601  0.903220         0.059578     neutral  0.000000  0.0000  ",
      "text/html": "<div>\n<style scoped>\n    .dataframe tbody tr th:only-of-type {\n        vertical-align: middle;\n    }\n\n    .dataframe tbody tr th {\n        vertical-align: top;\n    }\n\n    .dataframe thead th {\n        text-align: right;\n    }\n</style>\n<table border=\"1\" class=\"dataframe\">\n  <thead>\n    <tr style=\"text-align: right;\">\n      <th></th>\n      <th>TWEET</th>\n      <th>DATE</th>\n      <th>TIME</th>\n      <th>positive</th>\n      <th>negative</th>\n      <th>neutral</th>\n      <th>sentiment_score</th>\n      <th>predictions</th>\n      <th>textblob</th>\n      <th>vader</th>\n    </tr>\n  </thead>\n  <tbody>\n    <tr>\n      <th>0</th>\n      <td>Soon it will seem like all rotation will be fr...</td>\n      <td>28/10/2021</td>\n      <td>21:28:23</td>\n      <td>0.050289</td>\n      <td>0.016474</td>\n      <td>0.933236</td>\n      <td>0.033815</td>\n      <td>neutral</td>\n      <td>-0.156250</td>\n      <td>0.4199</td>\n    </tr>\n    <tr>\n      <th>1</th>\n      <td>Screw Elon Musk, the selfish bastard. This sea...</td>\n      <td>28/10/2021</td>\n      <td>21:27:17</td>\n      <td>0.087005</td>\n      <td>0.015530</td>\n      <td>0.897466</td>\n      <td>0.071475</td>\n      <td>negative</td>\n      <td>-0.400000</td>\n      <td>-0.7906</td>\n    </tr>\n    <tr>\n      <th>2</th>\n      <td>Detroit automakers would be able to offer $4,5...</td>\n      <td>28/10/2021</td>\n      <td>21:27:03</td>\n      <td>0.867460</td>\n      <td>0.008735</td>\n      <td>0.123805</td>\n      <td>0.858726</td>\n      <td>neutral</td>\n      <td>0.284091</td>\n      <td>0.4144</td>\n    </tr>\n    <tr>\n      <th>3</th>\n      <td>A lot of people and 401ks made a lot of money ...</td>\n      <td>28/10/2021</td>\n      <td>18:18:40</td>\n      <td>0.078179</td>\n      <td>0.018601</td>\n      <td>0.903220</td>\n      <td>0.059578</td>\n      <td>neutral</td>\n      <td>0.000000</td>\n      <td>0.0000</td>\n    </tr>\n  </tbody>\n</table>\n</div>"
     },
     "execution_count": 7,
     "metadata": {},
     "output_type": "execute_result"
    }
   ],
   "source": [
    "#!pip install vaderSentiment\n",
    "from textblob import TextBlob\n",
    "from vaderSentiment.vaderSentiment import SentimentIntensityAnalyzer\n",
    "\n",
    "textblob = []\n",
    "vader = []\n",
    "blob_sentiment = []\n",
    "vader_sentiment = []\n",
    "analyzer = SentimentIntensityAnalyzer()\n",
    "\n",
    "for sentence in df_tweets['TWEET']:\n",
    "  blob_sentence = TextBlob(sentence)\n",
    "  if blob_sentence.sentiment.polarity<-0.33:\n",
    "    blob_sentiment.append(\"negative\")\n",
    "  elif 0.33 > blob_sentence.sentiment.polarity > -0.33:\n",
    "    blob_sentiment.append(\"neutral\")\n",
    "  else:\n",
    "    blob_sentiment.append(\"positive\")\n",
    "\n",
    "  textblob.append(blob_sentence.sentiment.polarity)\n",
    "  vader.append(analyzer.polarity_scores(sentence)['compound'])\n",
    "\n",
    "  # if max(analyzer.polarity_scores(sentence)['pos'],\n",
    "  #        analyzer.polarity_scores(sentence)['neu'],\n",
    "  #        analyzer.polarity_scores(sentence)['neg']) == analyzer.polarity_scores(sentence)['pos']:\n",
    "  #   vader_sentiment.append(\"positive\")\n",
    "  # elif max(analyzer.polarity_scores(sentence)['pos'],\n",
    "  #        analyzer.polarity_scores(sentence)['neu'],\n",
    "  #        analyzer.polarity_scores(sentence)['neg']) == analyzer.polarity_scores(sentence)['neu']:\n",
    "  #   vader_sentiment.append(\"neutral\")\n",
    "  # else:\n",
    "  #   vader_sentiment.append(\"negative\")\n",
    "  if analyzer.polarity_scores(sentence)['compound']<-0.33:\n",
    "    vader_sentiment.append(\"negative\")\n",
    "  elif 0.33 > analyzer.polarity_scores(sentence)['compound'] > -0.33:\n",
    "    vader_sentiment.append(\"neutral\")\n",
    "  else:\n",
    "    vader_sentiment.append(\"positive\")\n",
    "\n",
    "  print(sentence +\"\\n\", analyzer.polarity_scores(sentence)['neg'], analyzer.polarity_scores(sentence)['compound'])\n",
    "\n",
    "\n",
    "df_tweets['textblob'] = textblob\n",
    "df_tweets['predictions'] = blob_sentiment\n",
    "df_tweets['vader'] = vader\n",
    "df_tweets"
   ],
   "metadata": {
    "collapsed": false,
    "pycharm": {
     "name": "#%%\n"
    }
   }
  },
  {
   "cell_type": "code",
   "execution_count": 131,
   "outputs": [
    {
     "data": {
      "text/plain": "{'neg': 0.0, 'neu': 0.698, 'pos': 0.302, 'compound': 0.0772}"
     },
     "execution_count": 131,
     "metadata": {},
     "output_type": "execute_result"
    }
   ],
   "source": [
    "analyzer.polarity_scores(\"This is example sentence\")"
   ],
   "metadata": {
    "collapsed": false,
    "pycharm": {
     "name": "#%%\n"
    }
   }
  },
  {
   "cell_type": "code",
   "metadata": {
    "colab": {
     "base_uri": "https://localhost:8080/",
     "height": 1000
    },
    "id": "z2gQSYL4ubt0",
    "outputId": "a52dea20-7c13-434e-e5f2-f009e75c48b1"
   },
   "source": [
    "pd.options.display.max_colwidth = 150\n",
    "df_tweets"
   ],
   "execution_count": 60,
   "outputs": [
    {
     "data": {
      "text/plain": "                                                                                                                                                    TWEET  \\\n2   The logic behind this tweet is extraordinary as they suggest if we put FSD failures on display somehow this will make the software worse or will d...   \n3                                                                                   Tesla Cybertruck and new Roadster color options teased in PUBG tie-up   \n4                                                                                                                 By this time next year ima have a Tesla   \n5   Haters like to claim that Tesla is losing EV market share (in Norway or EU countries, or some other market), but Tesla ranked is #1 globally.You c...   \n6                         Tesla to Pay $1.5M in Compensation to Owners for Lowering Battery Voltage, as it Can Admit its Mistakes#Tesla #ElonMusk By via    \n7                                                                                   Tesla Cybertruck and new Roadster color options teased in PUBG tie-up   \n8                                                                                                                        5 days until TESLA X whos ready?   \n9                                                                      I'm going to feel really conflicted if tesla autopilot regularly destroys cop cars   \n10                                                                                              Li, Tesla or Europa would come to mind if I had to choose   \n\n          DATE      TIME  positive  negative   neutral  sentiment_score  \\\n2   08/01/2021  17:31:44  0.013928  0.939829  0.046243        -0.925901   \n3   08/01/2021  17:32:03  0.444125  0.011813  0.544062         0.432312   \n4   08/01/2021  17:33:38  0.196315  0.008806  0.794880         0.187509   \n5   08/01/2021  17:34:52  0.045048  0.677226  0.277726        -0.632179   \n6   08/01/2021  17:34:57  0.353559  0.427080  0.219361        -0.073521   \n7   08/01/2021  17:40:08  0.444125  0.011813  0.544062         0.432312   \n8   08/01/2021  17:44:47  0.052986  0.028636  0.918378         0.024350   \n9   08/01/2021  17:45:21  0.012893  0.918768  0.068339        -0.905875   \n10  08/01/2021  17:45:31  0.052935  0.021252  0.925813         0.031683   \n\n   predictions  textblob   vader  \n2     negative  0.008333 -0.7184  \n3      neutral  0.136364 -0.2960  \n4      neutral  0.000000  0.0000  \n5     negative  0.187500 -0.7550  \n6     negative  0.000000 -0.1531  \n7      neutral  0.136364 -0.2960  \n8      neutral  0.200000  0.3612  \n9     negative  0.100000 -0.5574  \n10     neutral  0.000000  0.0000  ",
      "text/html": "<div>\n<style scoped>\n    .dataframe tbody tr th:only-of-type {\n        vertical-align: middle;\n    }\n\n    .dataframe tbody tr th {\n        vertical-align: top;\n    }\n\n    .dataframe thead th {\n        text-align: right;\n    }\n</style>\n<table border=\"1\" class=\"dataframe\">\n  <thead>\n    <tr style=\"text-align: right;\">\n      <th></th>\n      <th>TWEET</th>\n      <th>DATE</th>\n      <th>TIME</th>\n      <th>positive</th>\n      <th>negative</th>\n      <th>neutral</th>\n      <th>sentiment_score</th>\n      <th>predictions</th>\n      <th>textblob</th>\n      <th>vader</th>\n    </tr>\n  </thead>\n  <tbody>\n    <tr>\n      <th>2</th>\n      <td>The logic behind this tweet is extraordinary as they suggest if we put FSD failures on display somehow this will make the software worse or will d...</td>\n      <td>08/01/2021</td>\n      <td>17:31:44</td>\n      <td>0.013928</td>\n      <td>0.939829</td>\n      <td>0.046243</td>\n      <td>-0.925901</td>\n      <td>negative</td>\n      <td>0.008333</td>\n      <td>-0.7184</td>\n    </tr>\n    <tr>\n      <th>3</th>\n      <td>Tesla Cybertruck and new Roadster color options teased in PUBG tie-up</td>\n      <td>08/01/2021</td>\n      <td>17:32:03</td>\n      <td>0.444125</td>\n      <td>0.011813</td>\n      <td>0.544062</td>\n      <td>0.432312</td>\n      <td>neutral</td>\n      <td>0.136364</td>\n      <td>-0.2960</td>\n    </tr>\n    <tr>\n      <th>4</th>\n      <td>By this time next year ima have a Tesla</td>\n      <td>08/01/2021</td>\n      <td>17:33:38</td>\n      <td>0.196315</td>\n      <td>0.008806</td>\n      <td>0.794880</td>\n      <td>0.187509</td>\n      <td>neutral</td>\n      <td>0.000000</td>\n      <td>0.0000</td>\n    </tr>\n    <tr>\n      <th>5</th>\n      <td>Haters like to claim that Tesla is losing EV market share (in Norway or EU countries, or some other market), but Tesla ranked is #1 globally.You c...</td>\n      <td>08/01/2021</td>\n      <td>17:34:52</td>\n      <td>0.045048</td>\n      <td>0.677226</td>\n      <td>0.277726</td>\n      <td>-0.632179</td>\n      <td>negative</td>\n      <td>0.187500</td>\n      <td>-0.7550</td>\n    </tr>\n    <tr>\n      <th>6</th>\n      <td>Tesla to Pay $1.5M in Compensation to Owners for Lowering Battery Voltage, as it Can Admit its Mistakes#Tesla #ElonMusk By via</td>\n      <td>08/01/2021</td>\n      <td>17:34:57</td>\n      <td>0.353559</td>\n      <td>0.427080</td>\n      <td>0.219361</td>\n      <td>-0.073521</td>\n      <td>negative</td>\n      <td>0.000000</td>\n      <td>-0.1531</td>\n    </tr>\n    <tr>\n      <th>7</th>\n      <td>Tesla Cybertruck and new Roadster color options teased in PUBG tie-up</td>\n      <td>08/01/2021</td>\n      <td>17:40:08</td>\n      <td>0.444125</td>\n      <td>0.011813</td>\n      <td>0.544062</td>\n      <td>0.432312</td>\n      <td>neutral</td>\n      <td>0.136364</td>\n      <td>-0.2960</td>\n    </tr>\n    <tr>\n      <th>8</th>\n      <td>5 days until TESLA X whos ready?</td>\n      <td>08/01/2021</td>\n      <td>17:44:47</td>\n      <td>0.052986</td>\n      <td>0.028636</td>\n      <td>0.918378</td>\n      <td>0.024350</td>\n      <td>neutral</td>\n      <td>0.200000</td>\n      <td>0.3612</td>\n    </tr>\n    <tr>\n      <th>9</th>\n      <td>I'm going to feel really conflicted if tesla autopilot regularly destroys cop cars</td>\n      <td>08/01/2021</td>\n      <td>17:45:21</td>\n      <td>0.012893</td>\n      <td>0.918768</td>\n      <td>0.068339</td>\n      <td>-0.905875</td>\n      <td>negative</td>\n      <td>0.100000</td>\n      <td>-0.5574</td>\n    </tr>\n    <tr>\n      <th>10</th>\n      <td>Li, Tesla or Europa would come to mind if I had to choose</td>\n      <td>08/01/2021</td>\n      <td>17:45:31</td>\n      <td>0.052935</td>\n      <td>0.021252</td>\n      <td>0.925813</td>\n      <td>0.031683</td>\n      <td>neutral</td>\n      <td>0.000000</td>\n      <td>0.0000</td>\n    </tr>\n  </tbody>\n</table>\n</div>"
     },
     "execution_count": 60,
     "metadata": {},
     "output_type": "execute_result"
    }
   ]
  },
  {
   "cell_type": "code",
   "metadata": {
    "colab": {
     "base_uri": "https://localhost:8080/",
     "height": 1000
    },
    "id": "QBDt5KUH88a6",
    "outputId": "192d1dec-b112-4bd1-91ab-4da6c0b83281"
   },
   "source": [
    "score = neutral_score = misclasified = 0\n",
    "count_pos = count_neg = count_neu = 0\n",
    "true_positive = true_neutral = true_negative = 0\n",
    "\n",
    "for index, row in df_tweets.iterrows():\n",
    "  if row['predictions'] == row['SENTIMENT']:\n",
    "    score += 1 # licznik który się zwiększa jeśli przewidywany sentyment zgadza się z pierwotnie zalabelowanym \n",
    "  elif row['SENTIMENT'] in {'positive', 'negative'} and row['predictions'] == 'neutral':\n",
    "    neutral_score += 1 # licznik pozytywnych lub negatywnych ktore zostaly zaklasyfikowane jako neutralne\n",
    "  elif(row['SENTIMENT'] == 'positive' and row['predictions'] == 'negative' ) or (row['SENTIMENT'] == 'negative' and row['predictions'] == 'positive' ):\n",
    "    misclasified += 1 # tweety pozytywne zaklasyfikowane jako negatywne i na odwrót\n",
    "\n",
    "  if row['SENTIMENT']=='positive':\n",
    "    count_pos += 1\n",
    "  if row['SENTIMENT']=='negative':\n",
    "    count_neg += 1\n",
    "  if row['SENTIMENT']=='neutral':\n",
    "    count_neu += 1\n",
    "\n",
    "print(\"Strict precision: {}/{}\".format(score, len(df_tweets)))\n",
    "print(\"Precision counting neutrals: {}/{}\".format(score+neutral_score, len(df_tweets)))\n",
    "print(\"Misclassified: {}/{}\".format(misclasified, len(df_positive) + len(df_negative)))\n",
    "\n",
    "#df_tweets.sort_values(by=['sentiment_score'], ascending=False)\n"
   ],
   "execution_count": 47,
   "outputs": [
    {
     "ename": "KeyError",
     "evalue": "'predictions'",
     "output_type": "error",
     "traceback": [
      "\u001B[1;31m---------------------------------------------------------------------------\u001B[0m",
      "\u001B[1;31mTypeError\u001B[0m                                 Traceback (most recent call last)",
      "\u001B[1;32m~\\AppData\\Roaming\\Python\\Python37\\site-packages\\pandas\\core\\indexes\\base.py\u001B[0m in \u001B[0;36mget_value\u001B[1;34m(self, series, key)\u001B[0m\n\u001B[0;32m   3123\u001B[0m             \u001B[1;32mtry\u001B[0m\u001B[1;33m:\u001B[0m\u001B[1;33m\u001B[0m\u001B[1;33m\u001B[0m\u001B[0m\n\u001B[1;32m-> 3124\u001B[1;33m                 \u001B[1;32mreturn\u001B[0m \u001B[0mlibindex\u001B[0m\u001B[1;33m.\u001B[0m\u001B[0mget_value_box\u001B[0m\u001B[1;33m(\u001B[0m\u001B[0ms\u001B[0m\u001B[1;33m,\u001B[0m \u001B[0mkey\u001B[0m\u001B[1;33m)\u001B[0m\u001B[1;33m\u001B[0m\u001B[1;33m\u001B[0m\u001B[0m\n\u001B[0m\u001B[0;32m   3125\u001B[0m             \u001B[1;32mexcept\u001B[0m \u001B[0mIndexError\u001B[0m\u001B[1;33m:\u001B[0m\u001B[1;33m\u001B[0m\u001B[1;33m\u001B[0m\u001B[0m\n",
      "\u001B[1;32mpandas\\_libs\\index.pyx\u001B[0m in \u001B[0;36mpandas._libs.index.get_value_box\u001B[1;34m()\u001B[0m\n",
      "\u001B[1;32mpandas\\_libs\\index.pyx\u001B[0m in \u001B[0;36mpandas._libs.index.get_value_box\u001B[1;34m()\u001B[0m\n",
      "\u001B[1;31mTypeError\u001B[0m: 'str' object cannot be interpreted as an integer",
      "\nDuring handling of the above exception, another exception occurred:\n",
      "\u001B[1;31mKeyError\u001B[0m                                  Traceback (most recent call last)",
      "\u001B[1;32m<ipython-input-47-74395c5b254b>\u001B[0m in \u001B[0;36m<module>\u001B[1;34m\u001B[0m\n\u001B[0;32m      4\u001B[0m \u001B[1;33m\u001B[0m\u001B[0m\n\u001B[0;32m      5\u001B[0m \u001B[1;32mfor\u001B[0m \u001B[0mindex\u001B[0m\u001B[1;33m,\u001B[0m \u001B[0mrow\u001B[0m \u001B[1;32min\u001B[0m \u001B[0mdf_tweets\u001B[0m\u001B[1;33m.\u001B[0m\u001B[0miterrows\u001B[0m\u001B[1;33m(\u001B[0m\u001B[1;33m)\u001B[0m\u001B[1;33m:\u001B[0m\u001B[1;33m\u001B[0m\u001B[1;33m\u001B[0m\u001B[0m\n\u001B[1;32m----> 6\u001B[1;33m   \u001B[1;32mif\u001B[0m \u001B[0mrow\u001B[0m\u001B[1;33m[\u001B[0m\u001B[1;34m'predictions'\u001B[0m\u001B[1;33m]\u001B[0m \u001B[1;33m==\u001B[0m \u001B[0mrow\u001B[0m\u001B[1;33m[\u001B[0m\u001B[1;34m'SENTIMENT'\u001B[0m\u001B[1;33m]\u001B[0m\u001B[1;33m:\u001B[0m\u001B[1;33m\u001B[0m\u001B[1;33m\u001B[0m\u001B[0m\n\u001B[0m\u001B[0;32m      7\u001B[0m     \u001B[0mscore\u001B[0m \u001B[1;33m+=\u001B[0m \u001B[1;36m1\u001B[0m \u001B[1;31m# licznik który się zwiększa jeśli przewidywany sentyment zgadza się z pierwotnie zalabelowanym\u001B[0m\u001B[1;33m\u001B[0m\u001B[1;33m\u001B[0m\u001B[0m\n\u001B[0;32m      8\u001B[0m   \u001B[1;32melif\u001B[0m \u001B[0mrow\u001B[0m\u001B[1;33m[\u001B[0m\u001B[1;34m'SENTIMENT'\u001B[0m\u001B[1;33m]\u001B[0m \u001B[1;32min\u001B[0m \u001B[1;33m{\u001B[0m\u001B[1;34m'positive'\u001B[0m\u001B[1;33m,\u001B[0m \u001B[1;34m'negative'\u001B[0m\u001B[1;33m}\u001B[0m \u001B[1;32mand\u001B[0m \u001B[0mrow\u001B[0m\u001B[1;33m[\u001B[0m\u001B[1;34m'predictions'\u001B[0m\u001B[1;33m]\u001B[0m \u001B[1;33m==\u001B[0m \u001B[1;34m'neutral'\u001B[0m\u001B[1;33m:\u001B[0m\u001B[1;33m\u001B[0m\u001B[1;33m\u001B[0m\u001B[0m\n",
      "\u001B[1;32m~\\AppData\\Roaming\\Python\\Python37\\site-packages\\pandas\\core\\series.py\u001B[0m in \u001B[0;36m__getitem__\u001B[1;34m(self, key)\u001B[0m\n\u001B[0;32m    765\u001B[0m         \u001B[0mkey\u001B[0m \u001B[1;33m=\u001B[0m \u001B[0mcom\u001B[0m\u001B[1;33m.\u001B[0m\u001B[0m_apply_if_callable\u001B[0m\u001B[1;33m(\u001B[0m\u001B[0mkey\u001B[0m\u001B[1;33m,\u001B[0m \u001B[0mself\u001B[0m\u001B[1;33m)\u001B[0m\u001B[1;33m\u001B[0m\u001B[1;33m\u001B[0m\u001B[0m\n\u001B[0;32m    766\u001B[0m         \u001B[1;32mtry\u001B[0m\u001B[1;33m:\u001B[0m\u001B[1;33m\u001B[0m\u001B[1;33m\u001B[0m\u001B[0m\n\u001B[1;32m--> 767\u001B[1;33m             \u001B[0mresult\u001B[0m \u001B[1;33m=\u001B[0m \u001B[0mself\u001B[0m\u001B[1;33m.\u001B[0m\u001B[0mindex\u001B[0m\u001B[1;33m.\u001B[0m\u001B[0mget_value\u001B[0m\u001B[1;33m(\u001B[0m\u001B[0mself\u001B[0m\u001B[1;33m,\u001B[0m \u001B[0mkey\u001B[0m\u001B[1;33m)\u001B[0m\u001B[1;33m\u001B[0m\u001B[1;33m\u001B[0m\u001B[0m\n\u001B[0m\u001B[0;32m    768\u001B[0m \u001B[1;33m\u001B[0m\u001B[0m\n\u001B[0;32m    769\u001B[0m             \u001B[1;32mif\u001B[0m \u001B[1;32mnot\u001B[0m \u001B[0mis_scalar\u001B[0m\u001B[1;33m(\u001B[0m\u001B[0mresult\u001B[0m\u001B[1;33m)\u001B[0m\u001B[1;33m:\u001B[0m\u001B[1;33m\u001B[0m\u001B[1;33m\u001B[0m\u001B[0m\n",
      "\u001B[1;32m~\\AppData\\Roaming\\Python\\Python37\\site-packages\\pandas\\core\\indexes\\base.py\u001B[0m in \u001B[0;36mget_value\u001B[1;34m(self, series, key)\u001B[0m\n\u001B[0;32m   3130\u001B[0m                     \u001B[1;32mraise\u001B[0m \u001B[0mInvalidIndexError\u001B[0m\u001B[1;33m(\u001B[0m\u001B[0mkey\u001B[0m\u001B[1;33m)\u001B[0m\u001B[1;33m\u001B[0m\u001B[1;33m\u001B[0m\u001B[0m\n\u001B[0;32m   3131\u001B[0m                 \u001B[1;32melse\u001B[0m\u001B[1;33m:\u001B[0m\u001B[1;33m\u001B[0m\u001B[1;33m\u001B[0m\u001B[0m\n\u001B[1;32m-> 3132\u001B[1;33m                     \u001B[1;32mraise\u001B[0m \u001B[0me1\u001B[0m\u001B[1;33m\u001B[0m\u001B[1;33m\u001B[0m\u001B[0m\n\u001B[0m\u001B[0;32m   3133\u001B[0m             \u001B[1;32mexcept\u001B[0m \u001B[0mException\u001B[0m\u001B[1;33m:\u001B[0m  \u001B[1;31m# pragma: no cover\u001B[0m\u001B[1;33m\u001B[0m\u001B[1;33m\u001B[0m\u001B[0m\n\u001B[0;32m   3134\u001B[0m                 \u001B[1;32mraise\u001B[0m \u001B[0me1\u001B[0m\u001B[1;33m\u001B[0m\u001B[1;33m\u001B[0m\u001B[0m\n",
      "\u001B[1;32m~\\AppData\\Roaming\\Python\\Python37\\site-packages\\pandas\\core\\indexes\\base.py\u001B[0m in \u001B[0;36mget_value\u001B[1;34m(self, series, key)\u001B[0m\n\u001B[0;32m   3116\u001B[0m         \u001B[1;32mtry\u001B[0m\u001B[1;33m:\u001B[0m\u001B[1;33m\u001B[0m\u001B[1;33m\u001B[0m\u001B[0m\n\u001B[0;32m   3117\u001B[0m             return self._engine.get_value(s, k,\n\u001B[1;32m-> 3118\u001B[1;33m                                           tz=getattr(series.dtype, 'tz', None))\n\u001B[0m\u001B[0;32m   3119\u001B[0m         \u001B[1;32mexcept\u001B[0m \u001B[0mKeyError\u001B[0m \u001B[1;32mas\u001B[0m \u001B[0me1\u001B[0m\u001B[1;33m:\u001B[0m\u001B[1;33m\u001B[0m\u001B[1;33m\u001B[0m\u001B[0m\n\u001B[0;32m   3120\u001B[0m             \u001B[1;32mif\u001B[0m \u001B[0mlen\u001B[0m\u001B[1;33m(\u001B[0m\u001B[0mself\u001B[0m\u001B[1;33m)\u001B[0m \u001B[1;33m>\u001B[0m \u001B[1;36m0\u001B[0m \u001B[1;32mand\u001B[0m \u001B[0mself\u001B[0m\u001B[1;33m.\u001B[0m\u001B[0minferred_type\u001B[0m \u001B[1;32min\u001B[0m \u001B[1;33m[\u001B[0m\u001B[1;34m'integer'\u001B[0m\u001B[1;33m,\u001B[0m \u001B[1;34m'boolean'\u001B[0m\u001B[1;33m]\u001B[0m\u001B[1;33m:\u001B[0m\u001B[1;33m\u001B[0m\u001B[1;33m\u001B[0m\u001B[0m\n",
      "\u001B[1;32mpandas\\_libs\\index.pyx\u001B[0m in \u001B[0;36mpandas._libs.index.IndexEngine.get_value\u001B[1;34m()\u001B[0m\n",
      "\u001B[1;32mpandas\\_libs\\index.pyx\u001B[0m in \u001B[0;36mpandas._libs.index.IndexEngine.get_value\u001B[1;34m()\u001B[0m\n",
      "\u001B[1;32mpandas\\_libs\\index.pyx\u001B[0m in \u001B[0;36mpandas._libs.index.IndexEngine.get_loc\u001B[1;34m()\u001B[0m\n",
      "\u001B[1;32mpandas\\_libs\\hashtable_class_helper.pxi\u001B[0m in \u001B[0;36mpandas._libs.hashtable.PyObjectHashTable.get_item\u001B[1;34m()\u001B[0m\n",
      "\u001B[1;32mpandas\\_libs\\hashtable_class_helper.pxi\u001B[0m in \u001B[0;36mpandas._libs.hashtable.PyObjectHashTable.get_item\u001B[1;34m()\u001B[0m\n",
      "\u001B[1;31mKeyError\u001B[0m: 'predictions'"
     ]
    }
   ]
  },
  {
   "cell_type": "code",
   "execution_count": 8,
   "outputs": [
    {
     "data": {
      "text/plain": "                                               TWEET        DATE      TIME  \\\n0  Soon it will seem like all rotation will be fr...  28/10/2021  21:28:23   \n1  Screw Elon Musk, the selfish bastard. This sea...  28/10/2021  21:27:17   \n2  Detroit automakers would be able to offer $4,5...  28/10/2021  21:27:03   \n3  A lot of people and 401ks made a lot of money ...  28/10/2021  18:18:40   \n\n   positive  negative   neutral  sentiment_score predictions  textblob   vader  \n0  0.050289  0.016474  0.933236         0.033815     neutral -0.156250  0.4199  \n1  0.087005  0.015530  0.897466         0.071475    negative -0.400000 -0.7906  \n2  0.867460  0.008735  0.123805         0.858726     neutral  0.284091  0.4144  \n3  0.078179  0.018601  0.903220         0.059578     neutral  0.000000  0.0000  ",
      "text/html": "<div>\n<style scoped>\n    .dataframe tbody tr th:only-of-type {\n        vertical-align: middle;\n    }\n\n    .dataframe tbody tr th {\n        vertical-align: top;\n    }\n\n    .dataframe thead th {\n        text-align: right;\n    }\n</style>\n<table border=\"1\" class=\"dataframe\">\n  <thead>\n    <tr style=\"text-align: right;\">\n      <th></th>\n      <th>TWEET</th>\n      <th>DATE</th>\n      <th>TIME</th>\n      <th>positive</th>\n      <th>negative</th>\n      <th>neutral</th>\n      <th>sentiment_score</th>\n      <th>predictions</th>\n      <th>textblob</th>\n      <th>vader</th>\n    </tr>\n  </thead>\n  <tbody>\n    <tr>\n      <th>0</th>\n      <td>Soon it will seem like all rotation will be fr...</td>\n      <td>28/10/2021</td>\n      <td>21:28:23</td>\n      <td>0.050289</td>\n      <td>0.016474</td>\n      <td>0.933236</td>\n      <td>0.033815</td>\n      <td>neutral</td>\n      <td>-0.156250</td>\n      <td>0.4199</td>\n    </tr>\n    <tr>\n      <th>1</th>\n      <td>Screw Elon Musk, the selfish bastard. This sea...</td>\n      <td>28/10/2021</td>\n      <td>21:27:17</td>\n      <td>0.087005</td>\n      <td>0.015530</td>\n      <td>0.897466</td>\n      <td>0.071475</td>\n      <td>negative</td>\n      <td>-0.400000</td>\n      <td>-0.7906</td>\n    </tr>\n    <tr>\n      <th>2</th>\n      <td>Detroit automakers would be able to offer $4,5...</td>\n      <td>28/10/2021</td>\n      <td>21:27:03</td>\n      <td>0.867460</td>\n      <td>0.008735</td>\n      <td>0.123805</td>\n      <td>0.858726</td>\n      <td>neutral</td>\n      <td>0.284091</td>\n      <td>0.4144</td>\n    </tr>\n    <tr>\n      <th>3</th>\n      <td>A lot of people and 401ks made a lot of money ...</td>\n      <td>28/10/2021</td>\n      <td>18:18:40</td>\n      <td>0.078179</td>\n      <td>0.018601</td>\n      <td>0.903220</td>\n      <td>0.059578</td>\n      <td>neutral</td>\n      <td>0.000000</td>\n      <td>0.0000</td>\n    </tr>\n  </tbody>\n</table>\n</div>"
     },
     "execution_count": 8,
     "metadata": {},
     "output_type": "execute_result"
    }
   ],
   "source": [
    "# rows: predicted labels {pos, neu, neg}, cols: actual labels {pos, neu, neg}\n",
    "def get_confusion_matrix(df_tweets):\n",
    "  positive_neutral = neutral_neutral = negative_neutral = 0\n",
    "  positive_positive = neutral_positive = negative_positive = 0\n",
    "  positive_negative = neutral_negative = negative_negative = 0\n",
    "\n",
    "  for index, row in df_tweets.iterrows():\n",
    "\n",
    "    if row['SENTIMENT'] == 'positive' and row['predictions'] == 'positive':\n",
    "      positive_positive += 1\n",
    "    if row['SENTIMENT'] == 'neutral' and row['predictions'] == 'positive':\n",
    "      neutral_positive += 1\n",
    "    if row['SENTIMENT'] == 'negative' and row['predictions'] == 'positive':\n",
    "      negative_positive += 1\n",
    "\n",
    "    if row['SENTIMENT'] == 'positive' and row['predictions'] == 'neutral':\n",
    "      positive_neutral += 1\n",
    "    if row['SENTIMENT'] == 'neutral' and row['predictions'] == 'neutral':\n",
    "      neutral_neutral += 1\n",
    "    if row['SENTIMENT'] == 'negative' and row['predictions'] == 'neutral':\n",
    "      negative_neutral += 1\n",
    "\n",
    "    if row['SENTIMENT'] == 'positive' and row['predictions'] == 'negative':\n",
    "      positive_negative += 1\n",
    "    if row['SENTIMENT'] == 'neutral' and row['predictions'] == 'negative':\n",
    "      neutral_negative += 1\n",
    "    if row['SENTIMENT'] == 'negative' and row['predictions'] == 'negative':\n",
    "      negative_negative += 1\n",
    "\n",
    "  confusion_matrix = [positive_positive, neutral_positive, negative_positive,\n",
    "           positive_neutral, neutral_neutral, negative_neutral,\n",
    "           positive_negative, neutral_negative, negative_negative]\n",
    "\n",
    "  confusion_matrix = np.array(confusion_matrix)\n",
    "  confusion_matrix = confusion_matrix.reshape((3,3))\n",
    "\n",
    "  return confusion_matrix\n",
    "\n",
    "# print(get_confusion_matrix(df_tweets))\n",
    "df_tweets"
   ],
   "metadata": {
    "collapsed": false,
    "pycharm": {
     "name": "#%%\n"
    }
   }
  },
  {
   "cell_type": "code",
   "execution_count": 63,
   "outputs": [
    {
     "name": "stdout",
     "output_type": "stream",
     "text": [
      "[[1255  287    7]\n",
      " [  86 2468   11]\n",
      " [  22  123  586]]\n"
     ]
    },
    {
     "data": {
      "text/plain": "     SENTIMENT  \\\n0      neutral   \n1     negative   \n2     positive   \n3     positive   \n4     positive   \n5     positive   \n6     positive   \n7     positive   \n8     positive   \n9     positive   \n10    positive   \n11    positive   \n12    positive   \n13    positive   \n14    positive   \n15    positive   \n16    positive   \n17    positive   \n18    positive   \n19    positive   \n20    positive   \n21    positive   \n22    positive   \n23    positive   \n24    positive   \n25    positive   \n26    positive   \n27    positive   \n28    positive   \n29    positive   \n...        ...   \n4815  negative   \n4816  negative   \n4817  negative   \n4818   neutral   \n4819   neutral   \n4820  negative   \n4821  positive   \n4822   neutral   \n4823  negative   \n4824  negative   \n4825   neutral   \n4826  negative   \n4827  negative   \n4828  negative   \n4829  negative   \n4830  negative   \n4831  negative   \n4832  negative   \n4833  negative   \n4834  negative   \n4835  negative   \n4836  negative   \n4837  negative   \n4838  negative   \n4839  negative   \n4840  negative   \n4841   neutral   \n4842  negative   \n4843  negative   \n4844  negative   \n\n                                                                                                                                                      TWEET  \\\n0     Technopolis plans to develop in stages an area of no less than 100,000 square meters in order to host companies working in computer technologies a...   \n1     The international electronic industry company Elcoteq has laid off tens of employees from its Tallinn facility ; contrary to earlier layoffs the c...   \n2     With the new production plant the company would increase its capacity to meet the expected increase in demand and would improve the use of raw mat...   \n3     According to the company 's updated strategy for the years 2009-2012 , Basware targets a long-term net sales growth in the range of 20 % -40 % wit...   \n4     FINANCING OF ASPOCOMP 'S GROWTH Aspocomp is aggressively pursuing its growth strategy by increasingly focusing on technologically more demanding H...   \n5     For the last quarter of 2010 , Componenta 's net sales doubled to EUR131m from EUR76m for the same period a year earlier , while it moved to a zer...   \n6                             In the third quarter of 2010 , net sales increased by 5.2 % to EUR 205.5 mn , and operating profit by 34.9 % to EUR 23.5 mn .   \n7                                Operating profit rose to EUR 13.1 mn from EUR 8.7 mn in the corresponding period in 2007 representing 7.7 % of net sales .   \n8                                                   Operating profit totalled EUR 21.1 mn , up from EUR 18.6 mn in 2007 , representing 9.7 % of net sales .   \n9     TeliaSonera TLSN said the offer is in line with its strategy to increase its ownership in core business holdings and would strengthen Eesti Teleko...   \n10    STORA ENSO , NORSKE SKOG , M-REAL , UPM-KYMMENE Credit Suisse First Boston ( CFSB ) raised the fair value for shares in four of the largest Nordic...   \n11    A purchase agreement for 7,200 tons of gasoline with delivery at the Hamina terminal , Finland , was signed with Neste Oil OYj at the average Plat...   \n12    Finnish Talentum reports its operating profit increased to EUR 20.5 mn in 2005 from EUR 9.3 mn in 2004 , and net sales totaled EUR 103.3 mn , up f...   \n13          Clothing retail chain Sepp+Æl+Æ 's sales increased by 8 % to EUR 155.2 mn , and operating profit rose to EUR 31.1 mn from EUR 17.1 mn in 2004 .   \n14    Consolidated net sales increased 16 % to reach EUR74 .8 m , while operating profit amounted to EUR0 .9 m compared to a loss of EUR0 .7 m in the pr...   \n15    Foundries division reports its sales increased by 9.7 % to EUR 63.1 mn from EUR 57.5 mn in the corresponding period in 2006 , and sales of the Mac...   \n16    HELSINKI ( AFX ) - Shares closed higher , led by Nokia after it announced plans to team up with Sanyo to manufacture 3G handsets , and by Nokian T...   \n17               Incap Contract Manufacturing Services Pvt Ltd , a subsidiary of Incap Corporation of Finland , plans to double its revenues by 2007-2008 .   \n18                            Its board of directors will propose a dividend of EUR0 .12 per share for 2010 , up from the EUR0 .08 per share paid in 2009 .   \n19                                              Lifetree was founded in 2000 , and its revenues have risen on an average by 40 % with margins in late 30s .   \n20    ( Filippova ) A trilateral agreement on investment in the construction of a technology park in St Petersburg was to have been signed in the course...   \n21    MegaFon 's subscriber base increased 16.1 % in 2009 to 50.5 million users as of December 31 , while its market share by the number of customers am...   \n22    Net income from life insurance doubled to EUR 6.8 mn from EUR 3.2 mn , and net income from non-life insurance rose to EUR 5.2 mn from EUR 1.5 mn i...   \n23                                   Net sales increased to EUR193 .3 m from EUR179 .9 m and pretax profit rose by 34.2 % to EUR43 .1 m. ( EUR1 = USD1 .4 )   \n24             Net sales surged by 18.5 % to EUR167 .8 m. Teleste said that EUR20 .4 m , or 12.2 % , of the sales came from the acquisitions made in 2009 .   \n25    Nordea Group 's operating profit increased in 2010 by 18 percent year-on-year to 3.64 billion euros and total revenue by 3 percent to 9.33 billion...   \n26    Operating profit for the nine-month period increased from EUR13 .6 m , while net sales increased from EUR394 .7 m , as compared to the correspondi...   \n27    Operating profit for the nine-month period increased from EUR3 .1 m and net sales increased from EUR61 .5 m , as compared to the corresponding per...   \n28    Operating profit for the three-month period increased from EUR1 .2 m , while revenue increased from EUR20 .2 m , as compared to the corresponding ...   \n29    The Brazilian unit of Finnish security solutions provider F-Secure signed up 1,500 new clients last year , online news source Reseller Web quoted ...   \n...                                                                                                                                                     ...   \n4815  Finnish waste management and cleaning group Lassila & Tikanoja Oyj ( L&T ) net profit went down to 32.2 mln euro ( $ 47.7 mln ) for 2007 from 35.3...   \n4816  Qualcomm estimated a first-quarter profit between 46 and 50 cents a share , excluding certain items , below the analyst estimate of 61 cents a sha...   \n4817  Finnish-Swedish Stora Enso does not understand the decision issued by a federal judge in Brazil concerning Stora Enso 's associated pulp company V...   \n4818                      Nevertheless , the development can not be allowed to ruin the print newspaper , which continues to be Sanoma News ' main medium .   \n4819  Besides , as there is no depositor preference in Finland , senior debt and deposits rank on a par , which is also taken into consideration , the a...   \n4820                              Operating margin , however , slipped to 14.4 % from 15.1 % , dragged down by a poor performance in enterprise solutions .   \n4821                                           The 2015 target for net sales has been set at EUR 1bn and the target for return on investment at over 20 % .   \n4822            It holds 38 percent of Outokumpu 's shares and voting rights , but in 2001 lawmakers gave it permission to reduce the stake to 10 percent .   \n4823  As a result of these transactions , the aggregate holdings of Burrill Life Sciences Capital Fund , L.P. has decreased below 5 per cent of the tota...   \n4824  have notified that as a result of the Company issuing 14,432,000 new shares in the directed offering , the joint holdings of Pequot has decreased ...   \n4825  Mobile communication and wireless broadband provider Nokia Inc NYSE : NOK today set new financial targets and forecasts for Nokia and the mobile d...   \n4826  External net sales from the printing business fell by 43.7 % , partly due to the termination of the printing contract between Ilkka-Yhtyma 's prin...   \n4827  Seven-month sales of Ragutis , which is controlled by the Finnish brewery Olvi , declined by 11.2 percent , to 15.41 million liters , and the comp...   \n4828                     The OMX Helsinki index was 0.33 pct lower at 9,364.80 , while the OMX Helsinki CAP portfolio index was down 0.34 pct at 5,029.25 .   \n4829                                                                  The OMX Helsinki index was down 0.34 pct at 8,256.02 on turnover of 813.191 mln eur .   \n4830                                             Repeats sees 2008 operating profit down y-y ( Reporting by Helsinki Newsroom ) Keywords : TECNOMEN-RESULTS   \n4831          Comparable operating profit totaled EUR 4.7 mn , down from EUR 5.1 mn in the corresponding period in 2005 , representing 7.4 % of net sales .   \n4832                                                           In Finland 's Hobby Hall 's sales decreased by 10 % , and international sales fell by 19 % .   \n4833            Hobby Hall 's sales decrease 26 pct due to implementing a new information system that involved changing in the principal of posting sales .   \n4834  In the Baltic states the company reports net sales of EUR 11.9 mn , down from EUR 14.2 mn , and an operative EBIT of EUR -2.2 mn , down from EUR -...   \n4835                                Operating profits in the half were  0.8 m , down from  0.9 m as Glisten invested in the brand and the management team .   \n4836      Sales in Finland decreased by 2.0 % , and international sales decreased by 9.3 % in terms of euros , and by 15.1 % in terms of local currencies .   \n4837               The company said that its comparable operating profit for the January-June period fell short of last year 's corresponding performance .   \n4838        Operating result for the 12-month period decreased from the profit of EUR0 .4 m while turnover decreased from EUR5 .6 m , as compared to 2004 .   \n4839  HELSINKI Thomson Financial - Shares in Cargotec fell sharply in early afternoon trade after the cargo handling group posted a surprise drop in Apr...   \n4840       LONDON MarketWatch -- Share prices ended lower in London Monday as a rebound in bank stocks failed to offset broader weakness for the FTSE 100 .   \n4841   Rinkuskiai 's beer sales fell by 6.5 per cent to 4.16 million litres , while Kauno Alus ' beer sales jumped by 6.9 per cent to 2.48 million litres .   \n4842                                           Operating profit fell to EUR 35.4 mn from EUR 68.8 mn in 2007 , including vessel sales gain of EUR 12.3 mn .   \n4843  Net sales of the Paper segment decreased to EUR 221.6 mn in the second quarter of 2009 from EUR 241.1 mn in the second quarter of 2008 , while ope...   \n4844                                                        Sales in Finland decreased by 10.5 % in January , while sales outside Finland dropped by 17 % .   \n\n      positive  negative   neutral  sentiment_score predictions  \n0     0.457668  0.008493  0.533839         0.449175     neutral  \n1     0.007849  0.972056  0.020095        -0.964207    negative  \n2     0.947900  0.012434  0.039666         0.935466    positive  \n3     0.859708  0.008038  0.132254         0.851670    positive  \n4     0.873563  0.007158  0.119279         0.866405    positive  \n5     0.948198  0.026035  0.025768         0.922163    positive  \n6     0.957042  0.016627  0.026331         0.940415    positive  \n7     0.952403  0.025655  0.021942         0.926748    positive  \n8     0.955025  0.026857  0.018118         0.928167    positive  \n9     0.937181  0.008535  0.054283         0.928646    positive  \n10    0.935118  0.010786  0.054096         0.924332    positive  \n11    0.876434  0.011527  0.112039         0.864908    positive  \n12    0.952654  0.024665  0.022680         0.927989    positive  \n13    0.953784  0.023031  0.023185         0.930752    positive  \n14    0.958792  0.020447  0.020761         0.938346    positive  \n15    0.951801  0.024966  0.023234         0.926835    positive  \n16    0.946871  0.029319  0.023811         0.917552    positive  \n17    0.950893  0.014695  0.034412         0.936199    positive  \n18    0.951759  0.020252  0.027990         0.931507    positive  \n19    0.946681  0.012192  0.041127         0.934489    positive  \n20    0.804209  0.009827  0.185964         0.794381    positive  \n21    0.956088  0.017059  0.026853         0.939028    positive  \n22    0.952316  0.025670  0.022014         0.926645    positive  \n23    0.955893  0.021395  0.022712         0.934498    positive  \n24    0.949585  0.015196  0.035218         0.934389    positive  \n25    0.956934  0.017147  0.025919         0.939787    positive  \n26    0.956375  0.020449  0.023176         0.935926    positive  \n27    0.956113  0.020466  0.023421         0.935647    positive  \n28    0.956864  0.020209  0.022927         0.936654    positive  \n29    0.872038  0.012359  0.115603         0.859679    positive  \n...        ...       ...       ...              ...         ...  \n4815  0.007317  0.975318  0.017365        -0.968001    negative  \n4816  0.011420  0.970124  0.018456        -0.958703    negative  \n4817  0.010868  0.914828  0.074304        -0.903960    negative  \n4818  0.078471  0.235336  0.686193        -0.156865     neutral  \n4819  0.068542  0.016514  0.914944         0.052028     neutral  \n4820  0.007726  0.976588  0.015686        -0.968862    negative  \n4821  0.120214  0.014771  0.865016         0.105443     neutral  \n4822  0.043202  0.328483  0.628315        -0.285282     neutral  \n4823  0.012806  0.950480  0.036714        -0.937674    negative  \n4824  0.021948  0.929611  0.048441        -0.907663    negative  \n4825  0.183102  0.012815  0.804083         0.170287     neutral  \n4826  0.007294  0.975896  0.016810        -0.968601    negative  \n4827  0.006244  0.974054  0.019703        -0.967810    negative  \n4828  0.007051  0.967363  0.025586        -0.960312    negative  \n4829  0.007129  0.973617  0.019254        -0.966487    negative  \n4830  0.006860  0.960677  0.032463        -0.953817    negative  \n4831  0.008704  0.976764  0.014531        -0.968060    negative  \n4832  0.007510  0.973719  0.018771        -0.966209    negative  \n4833  0.020375  0.968258  0.011367        -0.947883    negative  \n4834  0.008748  0.975894  0.015359        -0.967146    negative  \n4835  0.008562  0.976532  0.014906        -0.967970    negative  \n4836  0.008455  0.973128  0.018417        -0.964673    negative  \n4837  0.013219  0.970090  0.016691        -0.956871    negative  \n4838  0.007853  0.974548  0.017599        -0.966695    negative  \n4839  0.007316  0.975540  0.017144        -0.968225    negative  \n4840  0.019868  0.970002  0.010130        -0.950133    negative  \n4841  0.009465  0.974344  0.016191        -0.964878    negative  \n4842  0.008485  0.976724  0.014792        -0.968239    negative  \n4843  0.013204  0.974357  0.012439        -0.961154    negative  \n4844  0.007314  0.974425  0.018261        -0.967111    negative  \n\n[4845 rows x 7 columns]",
      "text/html": "<div>\n<style scoped>\n    .dataframe tbody tr th:only-of-type {\n        vertical-align: middle;\n    }\n\n    .dataframe tbody tr th {\n        vertical-align: top;\n    }\n\n    .dataframe thead th {\n        text-align: right;\n    }\n</style>\n<table border=\"1\" class=\"dataframe\">\n  <thead>\n    <tr style=\"text-align: right;\">\n      <th></th>\n      <th>SENTIMENT</th>\n      <th>TWEET</th>\n      <th>positive</th>\n      <th>negative</th>\n      <th>neutral</th>\n      <th>sentiment_score</th>\n      <th>predictions</th>\n    </tr>\n  </thead>\n  <tbody>\n    <tr>\n      <th>0</th>\n      <td>neutral</td>\n      <td>Technopolis plans to develop in stages an area of no less than 100,000 square meters in order to host companies working in computer technologies a...</td>\n      <td>0.457668</td>\n      <td>0.008493</td>\n      <td>0.533839</td>\n      <td>0.449175</td>\n      <td>neutral</td>\n    </tr>\n    <tr>\n      <th>1</th>\n      <td>negative</td>\n      <td>The international electronic industry company Elcoteq has laid off tens of employees from its Tallinn facility ; contrary to earlier layoffs the c...</td>\n      <td>0.007849</td>\n      <td>0.972056</td>\n      <td>0.020095</td>\n      <td>-0.964207</td>\n      <td>negative</td>\n    </tr>\n    <tr>\n      <th>2</th>\n      <td>positive</td>\n      <td>With the new production plant the company would increase its capacity to meet the expected increase in demand and would improve the use of raw mat...</td>\n      <td>0.947900</td>\n      <td>0.012434</td>\n      <td>0.039666</td>\n      <td>0.935466</td>\n      <td>positive</td>\n    </tr>\n    <tr>\n      <th>3</th>\n      <td>positive</td>\n      <td>According to the company 's updated strategy for the years 2009-2012 , Basware targets a long-term net sales growth in the range of 20 % -40 % wit...</td>\n      <td>0.859708</td>\n      <td>0.008038</td>\n      <td>0.132254</td>\n      <td>0.851670</td>\n      <td>positive</td>\n    </tr>\n    <tr>\n      <th>4</th>\n      <td>positive</td>\n      <td>FINANCING OF ASPOCOMP 'S GROWTH Aspocomp is aggressively pursuing its growth strategy by increasingly focusing on technologically more demanding H...</td>\n      <td>0.873563</td>\n      <td>0.007158</td>\n      <td>0.119279</td>\n      <td>0.866405</td>\n      <td>positive</td>\n    </tr>\n    <tr>\n      <th>5</th>\n      <td>positive</td>\n      <td>For the last quarter of 2010 , Componenta 's net sales doubled to EUR131m from EUR76m for the same period a year earlier , while it moved to a zer...</td>\n      <td>0.948198</td>\n      <td>0.026035</td>\n      <td>0.025768</td>\n      <td>0.922163</td>\n      <td>positive</td>\n    </tr>\n    <tr>\n      <th>6</th>\n      <td>positive</td>\n      <td>In the third quarter of 2010 , net sales increased by 5.2 % to EUR 205.5 mn , and operating profit by 34.9 % to EUR 23.5 mn .</td>\n      <td>0.957042</td>\n      <td>0.016627</td>\n      <td>0.026331</td>\n      <td>0.940415</td>\n      <td>positive</td>\n    </tr>\n    <tr>\n      <th>7</th>\n      <td>positive</td>\n      <td>Operating profit rose to EUR 13.1 mn from EUR 8.7 mn in the corresponding period in 2007 representing 7.7 % of net sales .</td>\n      <td>0.952403</td>\n      <td>0.025655</td>\n      <td>0.021942</td>\n      <td>0.926748</td>\n      <td>positive</td>\n    </tr>\n    <tr>\n      <th>8</th>\n      <td>positive</td>\n      <td>Operating profit totalled EUR 21.1 mn , up from EUR 18.6 mn in 2007 , representing 9.7 % of net sales .</td>\n      <td>0.955025</td>\n      <td>0.026857</td>\n      <td>0.018118</td>\n      <td>0.928167</td>\n      <td>positive</td>\n    </tr>\n    <tr>\n      <th>9</th>\n      <td>positive</td>\n      <td>TeliaSonera TLSN said the offer is in line with its strategy to increase its ownership in core business holdings and would strengthen Eesti Teleko...</td>\n      <td>0.937181</td>\n      <td>0.008535</td>\n      <td>0.054283</td>\n      <td>0.928646</td>\n      <td>positive</td>\n    </tr>\n    <tr>\n      <th>10</th>\n      <td>positive</td>\n      <td>STORA ENSO , NORSKE SKOG , M-REAL , UPM-KYMMENE Credit Suisse First Boston ( CFSB ) raised the fair value for shares in four of the largest Nordic...</td>\n      <td>0.935118</td>\n      <td>0.010786</td>\n      <td>0.054096</td>\n      <td>0.924332</td>\n      <td>positive</td>\n    </tr>\n    <tr>\n      <th>11</th>\n      <td>positive</td>\n      <td>A purchase agreement for 7,200 tons of gasoline with delivery at the Hamina terminal , Finland , was signed with Neste Oil OYj at the average Plat...</td>\n      <td>0.876434</td>\n      <td>0.011527</td>\n      <td>0.112039</td>\n      <td>0.864908</td>\n      <td>positive</td>\n    </tr>\n    <tr>\n      <th>12</th>\n      <td>positive</td>\n      <td>Finnish Talentum reports its operating profit increased to EUR 20.5 mn in 2005 from EUR 9.3 mn in 2004 , and net sales totaled EUR 103.3 mn , up f...</td>\n      <td>0.952654</td>\n      <td>0.024665</td>\n      <td>0.022680</td>\n      <td>0.927989</td>\n      <td>positive</td>\n    </tr>\n    <tr>\n      <th>13</th>\n      <td>positive</td>\n      <td>Clothing retail chain Sepp+Æl+Æ 's sales increased by 8 % to EUR 155.2 mn , and operating profit rose to EUR 31.1 mn from EUR 17.1 mn in 2004 .</td>\n      <td>0.953784</td>\n      <td>0.023031</td>\n      <td>0.023185</td>\n      <td>0.930752</td>\n      <td>positive</td>\n    </tr>\n    <tr>\n      <th>14</th>\n      <td>positive</td>\n      <td>Consolidated net sales increased 16 % to reach EUR74 .8 m , while operating profit amounted to EUR0 .9 m compared to a loss of EUR0 .7 m in the pr...</td>\n      <td>0.958792</td>\n      <td>0.020447</td>\n      <td>0.020761</td>\n      <td>0.938346</td>\n      <td>positive</td>\n    </tr>\n    <tr>\n      <th>15</th>\n      <td>positive</td>\n      <td>Foundries division reports its sales increased by 9.7 % to EUR 63.1 mn from EUR 57.5 mn in the corresponding period in 2006 , and sales of the Mac...</td>\n      <td>0.951801</td>\n      <td>0.024966</td>\n      <td>0.023234</td>\n      <td>0.926835</td>\n      <td>positive</td>\n    </tr>\n    <tr>\n      <th>16</th>\n      <td>positive</td>\n      <td>HELSINKI ( AFX ) - Shares closed higher , led by Nokia after it announced plans to team up with Sanyo to manufacture 3G handsets , and by Nokian T...</td>\n      <td>0.946871</td>\n      <td>0.029319</td>\n      <td>0.023811</td>\n      <td>0.917552</td>\n      <td>positive</td>\n    </tr>\n    <tr>\n      <th>17</th>\n      <td>positive</td>\n      <td>Incap Contract Manufacturing Services Pvt Ltd , a subsidiary of Incap Corporation of Finland , plans to double its revenues by 2007-2008 .</td>\n      <td>0.950893</td>\n      <td>0.014695</td>\n      <td>0.034412</td>\n      <td>0.936199</td>\n      <td>positive</td>\n    </tr>\n    <tr>\n      <th>18</th>\n      <td>positive</td>\n      <td>Its board of directors will propose a dividend of EUR0 .12 per share for 2010 , up from the EUR0 .08 per share paid in 2009 .</td>\n      <td>0.951759</td>\n      <td>0.020252</td>\n      <td>0.027990</td>\n      <td>0.931507</td>\n      <td>positive</td>\n    </tr>\n    <tr>\n      <th>19</th>\n      <td>positive</td>\n      <td>Lifetree was founded in 2000 , and its revenues have risen on an average by 40 % with margins in late 30s .</td>\n      <td>0.946681</td>\n      <td>0.012192</td>\n      <td>0.041127</td>\n      <td>0.934489</td>\n      <td>positive</td>\n    </tr>\n    <tr>\n      <th>20</th>\n      <td>positive</td>\n      <td>( Filippova ) A trilateral agreement on investment in the construction of a technology park in St Petersburg was to have been signed in the course...</td>\n      <td>0.804209</td>\n      <td>0.009827</td>\n      <td>0.185964</td>\n      <td>0.794381</td>\n      <td>positive</td>\n    </tr>\n    <tr>\n      <th>21</th>\n      <td>positive</td>\n      <td>MegaFon 's subscriber base increased 16.1 % in 2009 to 50.5 million users as of December 31 , while its market share by the number of customers am...</td>\n      <td>0.956088</td>\n      <td>0.017059</td>\n      <td>0.026853</td>\n      <td>0.939028</td>\n      <td>positive</td>\n    </tr>\n    <tr>\n      <th>22</th>\n      <td>positive</td>\n      <td>Net income from life insurance doubled to EUR 6.8 mn from EUR 3.2 mn , and net income from non-life insurance rose to EUR 5.2 mn from EUR 1.5 mn i...</td>\n      <td>0.952316</td>\n      <td>0.025670</td>\n      <td>0.022014</td>\n      <td>0.926645</td>\n      <td>positive</td>\n    </tr>\n    <tr>\n      <th>23</th>\n      <td>positive</td>\n      <td>Net sales increased to EUR193 .3 m from EUR179 .9 m and pretax profit rose by 34.2 % to EUR43 .1 m. ( EUR1 = USD1 .4 )</td>\n      <td>0.955893</td>\n      <td>0.021395</td>\n      <td>0.022712</td>\n      <td>0.934498</td>\n      <td>positive</td>\n    </tr>\n    <tr>\n      <th>24</th>\n      <td>positive</td>\n      <td>Net sales surged by 18.5 % to EUR167 .8 m. Teleste said that EUR20 .4 m , or 12.2 % , of the sales came from the acquisitions made in 2009 .</td>\n      <td>0.949585</td>\n      <td>0.015196</td>\n      <td>0.035218</td>\n      <td>0.934389</td>\n      <td>positive</td>\n    </tr>\n    <tr>\n      <th>25</th>\n      <td>positive</td>\n      <td>Nordea Group 's operating profit increased in 2010 by 18 percent year-on-year to 3.64 billion euros and total revenue by 3 percent to 9.33 billion...</td>\n      <td>0.956934</td>\n      <td>0.017147</td>\n      <td>0.025919</td>\n      <td>0.939787</td>\n      <td>positive</td>\n    </tr>\n    <tr>\n      <th>26</th>\n      <td>positive</td>\n      <td>Operating profit for the nine-month period increased from EUR13 .6 m , while net sales increased from EUR394 .7 m , as compared to the correspondi...</td>\n      <td>0.956375</td>\n      <td>0.020449</td>\n      <td>0.023176</td>\n      <td>0.935926</td>\n      <td>positive</td>\n    </tr>\n    <tr>\n      <th>27</th>\n      <td>positive</td>\n      <td>Operating profit for the nine-month period increased from EUR3 .1 m and net sales increased from EUR61 .5 m , as compared to the corresponding per...</td>\n      <td>0.956113</td>\n      <td>0.020466</td>\n      <td>0.023421</td>\n      <td>0.935647</td>\n      <td>positive</td>\n    </tr>\n    <tr>\n      <th>28</th>\n      <td>positive</td>\n      <td>Operating profit for the three-month period increased from EUR1 .2 m , while revenue increased from EUR20 .2 m , as compared to the corresponding ...</td>\n      <td>0.956864</td>\n      <td>0.020209</td>\n      <td>0.022927</td>\n      <td>0.936654</td>\n      <td>positive</td>\n    </tr>\n    <tr>\n      <th>29</th>\n      <td>positive</td>\n      <td>The Brazilian unit of Finnish security solutions provider F-Secure signed up 1,500 new clients last year , online news source Reseller Web quoted ...</td>\n      <td>0.872038</td>\n      <td>0.012359</td>\n      <td>0.115603</td>\n      <td>0.859679</td>\n      <td>positive</td>\n    </tr>\n    <tr>\n      <th>...</th>\n      <td>...</td>\n      <td>...</td>\n      <td>...</td>\n      <td>...</td>\n      <td>...</td>\n      <td>...</td>\n      <td>...</td>\n    </tr>\n    <tr>\n      <th>4815</th>\n      <td>negative</td>\n      <td>Finnish waste management and cleaning group Lassila &amp; Tikanoja Oyj ( L&amp;T ) net profit went down to 32.2 mln euro ( $ 47.7 mln ) for 2007 from 35.3...</td>\n      <td>0.007317</td>\n      <td>0.975318</td>\n      <td>0.017365</td>\n      <td>-0.968001</td>\n      <td>negative</td>\n    </tr>\n    <tr>\n      <th>4816</th>\n      <td>negative</td>\n      <td>Qualcomm estimated a first-quarter profit between 46 and 50 cents a share , excluding certain items , below the analyst estimate of 61 cents a sha...</td>\n      <td>0.011420</td>\n      <td>0.970124</td>\n      <td>0.018456</td>\n      <td>-0.958703</td>\n      <td>negative</td>\n    </tr>\n    <tr>\n      <th>4817</th>\n      <td>negative</td>\n      <td>Finnish-Swedish Stora Enso does not understand the decision issued by a federal judge in Brazil concerning Stora Enso 's associated pulp company V...</td>\n      <td>0.010868</td>\n      <td>0.914828</td>\n      <td>0.074304</td>\n      <td>-0.903960</td>\n      <td>negative</td>\n    </tr>\n    <tr>\n      <th>4818</th>\n      <td>neutral</td>\n      <td>Nevertheless , the development can not be allowed to ruin the print newspaper , which continues to be Sanoma News ' main medium .</td>\n      <td>0.078471</td>\n      <td>0.235336</td>\n      <td>0.686193</td>\n      <td>-0.156865</td>\n      <td>neutral</td>\n    </tr>\n    <tr>\n      <th>4819</th>\n      <td>neutral</td>\n      <td>Besides , as there is no depositor preference in Finland , senior debt and deposits rank on a par , which is also taken into consideration , the a...</td>\n      <td>0.068542</td>\n      <td>0.016514</td>\n      <td>0.914944</td>\n      <td>0.052028</td>\n      <td>neutral</td>\n    </tr>\n    <tr>\n      <th>4820</th>\n      <td>negative</td>\n      <td>Operating margin , however , slipped to 14.4 % from 15.1 % , dragged down by a poor performance in enterprise solutions .</td>\n      <td>0.007726</td>\n      <td>0.976588</td>\n      <td>0.015686</td>\n      <td>-0.968862</td>\n      <td>negative</td>\n    </tr>\n    <tr>\n      <th>4821</th>\n      <td>positive</td>\n      <td>The 2015 target for net sales has been set at EUR 1bn and the target for return on investment at over 20 % .</td>\n      <td>0.120214</td>\n      <td>0.014771</td>\n      <td>0.865016</td>\n      <td>0.105443</td>\n      <td>neutral</td>\n    </tr>\n    <tr>\n      <th>4822</th>\n      <td>neutral</td>\n      <td>It holds 38 percent of Outokumpu 's shares and voting rights , but in 2001 lawmakers gave it permission to reduce the stake to 10 percent .</td>\n      <td>0.043202</td>\n      <td>0.328483</td>\n      <td>0.628315</td>\n      <td>-0.285282</td>\n      <td>neutral</td>\n    </tr>\n    <tr>\n      <th>4823</th>\n      <td>negative</td>\n      <td>As a result of these transactions , the aggregate holdings of Burrill Life Sciences Capital Fund , L.P. has decreased below 5 per cent of the tota...</td>\n      <td>0.012806</td>\n      <td>0.950480</td>\n      <td>0.036714</td>\n      <td>-0.937674</td>\n      <td>negative</td>\n    </tr>\n    <tr>\n      <th>4824</th>\n      <td>negative</td>\n      <td>have notified that as a result of the Company issuing 14,432,000 new shares in the directed offering , the joint holdings of Pequot has decreased ...</td>\n      <td>0.021948</td>\n      <td>0.929611</td>\n      <td>0.048441</td>\n      <td>-0.907663</td>\n      <td>negative</td>\n    </tr>\n    <tr>\n      <th>4825</th>\n      <td>neutral</td>\n      <td>Mobile communication and wireless broadband provider Nokia Inc NYSE : NOK today set new financial targets and forecasts for Nokia and the mobile d...</td>\n      <td>0.183102</td>\n      <td>0.012815</td>\n      <td>0.804083</td>\n      <td>0.170287</td>\n      <td>neutral</td>\n    </tr>\n    <tr>\n      <th>4826</th>\n      <td>negative</td>\n      <td>External net sales from the printing business fell by 43.7 % , partly due to the termination of the printing contract between Ilkka-Yhtyma 's prin...</td>\n      <td>0.007294</td>\n      <td>0.975896</td>\n      <td>0.016810</td>\n      <td>-0.968601</td>\n      <td>negative</td>\n    </tr>\n    <tr>\n      <th>4827</th>\n      <td>negative</td>\n      <td>Seven-month sales of Ragutis , which is controlled by the Finnish brewery Olvi , declined by 11.2 percent , to 15.41 million liters , and the comp...</td>\n      <td>0.006244</td>\n      <td>0.974054</td>\n      <td>0.019703</td>\n      <td>-0.967810</td>\n      <td>negative</td>\n    </tr>\n    <tr>\n      <th>4828</th>\n      <td>negative</td>\n      <td>The OMX Helsinki index was 0.33 pct lower at 9,364.80 , while the OMX Helsinki CAP portfolio index was down 0.34 pct at 5,029.25 .</td>\n      <td>0.007051</td>\n      <td>0.967363</td>\n      <td>0.025586</td>\n      <td>-0.960312</td>\n      <td>negative</td>\n    </tr>\n    <tr>\n      <th>4829</th>\n      <td>negative</td>\n      <td>The OMX Helsinki index was down 0.34 pct at 8,256.02 on turnover of 813.191 mln eur .</td>\n      <td>0.007129</td>\n      <td>0.973617</td>\n      <td>0.019254</td>\n      <td>-0.966487</td>\n      <td>negative</td>\n    </tr>\n    <tr>\n      <th>4830</th>\n      <td>negative</td>\n      <td>Repeats sees 2008 operating profit down y-y ( Reporting by Helsinki Newsroom ) Keywords : TECNOMEN-RESULTS</td>\n      <td>0.006860</td>\n      <td>0.960677</td>\n      <td>0.032463</td>\n      <td>-0.953817</td>\n      <td>negative</td>\n    </tr>\n    <tr>\n      <th>4831</th>\n      <td>negative</td>\n      <td>Comparable operating profit totaled EUR 4.7 mn , down from EUR 5.1 mn in the corresponding period in 2005 , representing 7.4 % of net sales .</td>\n      <td>0.008704</td>\n      <td>0.976764</td>\n      <td>0.014531</td>\n      <td>-0.968060</td>\n      <td>negative</td>\n    </tr>\n    <tr>\n      <th>4832</th>\n      <td>negative</td>\n      <td>In Finland 's Hobby Hall 's sales decreased by 10 % , and international sales fell by 19 % .</td>\n      <td>0.007510</td>\n      <td>0.973719</td>\n      <td>0.018771</td>\n      <td>-0.966209</td>\n      <td>negative</td>\n    </tr>\n    <tr>\n      <th>4833</th>\n      <td>negative</td>\n      <td>Hobby Hall 's sales decrease 26 pct due to implementing a new information system that involved changing in the principal of posting sales .</td>\n      <td>0.020375</td>\n      <td>0.968258</td>\n      <td>0.011367</td>\n      <td>-0.947883</td>\n      <td>negative</td>\n    </tr>\n    <tr>\n      <th>4834</th>\n      <td>negative</td>\n      <td>In the Baltic states the company reports net sales of EUR 11.9 mn , down from EUR 14.2 mn , and an operative EBIT of EUR -2.2 mn , down from EUR -...</td>\n      <td>0.008748</td>\n      <td>0.975894</td>\n      <td>0.015359</td>\n      <td>-0.967146</td>\n      <td>negative</td>\n    </tr>\n    <tr>\n      <th>4835</th>\n      <td>negative</td>\n      <td>Operating profits in the half were  0.8 m , down from  0.9 m as Glisten invested in the brand and the management team .</td>\n      <td>0.008562</td>\n      <td>0.976532</td>\n      <td>0.014906</td>\n      <td>-0.967970</td>\n      <td>negative</td>\n    </tr>\n    <tr>\n      <th>4836</th>\n      <td>negative</td>\n      <td>Sales in Finland decreased by 2.0 % , and international sales decreased by 9.3 % in terms of euros , and by 15.1 % in terms of local currencies .</td>\n      <td>0.008455</td>\n      <td>0.973128</td>\n      <td>0.018417</td>\n      <td>-0.964673</td>\n      <td>negative</td>\n    </tr>\n    <tr>\n      <th>4837</th>\n      <td>negative</td>\n      <td>The company said that its comparable operating profit for the January-June period fell short of last year 's corresponding performance .</td>\n      <td>0.013219</td>\n      <td>0.970090</td>\n      <td>0.016691</td>\n      <td>-0.956871</td>\n      <td>negative</td>\n    </tr>\n    <tr>\n      <th>4838</th>\n      <td>negative</td>\n      <td>Operating result for the 12-month period decreased from the profit of EUR0 .4 m while turnover decreased from EUR5 .6 m , as compared to 2004 .</td>\n      <td>0.007853</td>\n      <td>0.974548</td>\n      <td>0.017599</td>\n      <td>-0.966695</td>\n      <td>negative</td>\n    </tr>\n    <tr>\n      <th>4839</th>\n      <td>negative</td>\n      <td>HELSINKI Thomson Financial - Shares in Cargotec fell sharply in early afternoon trade after the cargo handling group posted a surprise drop in Apr...</td>\n      <td>0.007316</td>\n      <td>0.975540</td>\n      <td>0.017144</td>\n      <td>-0.968225</td>\n      <td>negative</td>\n    </tr>\n    <tr>\n      <th>4840</th>\n      <td>negative</td>\n      <td>LONDON MarketWatch -- Share prices ended lower in London Monday as a rebound in bank stocks failed to offset broader weakness for the FTSE 100 .</td>\n      <td>0.019868</td>\n      <td>0.970002</td>\n      <td>0.010130</td>\n      <td>-0.950133</td>\n      <td>negative</td>\n    </tr>\n    <tr>\n      <th>4841</th>\n      <td>neutral</td>\n      <td>Rinkuskiai 's beer sales fell by 6.5 per cent to 4.16 million litres , while Kauno Alus ' beer sales jumped by 6.9 per cent to 2.48 million litres .</td>\n      <td>0.009465</td>\n      <td>0.974344</td>\n      <td>0.016191</td>\n      <td>-0.964878</td>\n      <td>negative</td>\n    </tr>\n    <tr>\n      <th>4842</th>\n      <td>negative</td>\n      <td>Operating profit fell to EUR 35.4 mn from EUR 68.8 mn in 2007 , including vessel sales gain of EUR 12.3 mn .</td>\n      <td>0.008485</td>\n      <td>0.976724</td>\n      <td>0.014792</td>\n      <td>-0.968239</td>\n      <td>negative</td>\n    </tr>\n    <tr>\n      <th>4843</th>\n      <td>negative</td>\n      <td>Net sales of the Paper segment decreased to EUR 221.6 mn in the second quarter of 2009 from EUR 241.1 mn in the second quarter of 2008 , while ope...</td>\n      <td>0.013204</td>\n      <td>0.974357</td>\n      <td>0.012439</td>\n      <td>-0.961154</td>\n      <td>negative</td>\n    </tr>\n    <tr>\n      <th>4844</th>\n      <td>negative</td>\n      <td>Sales in Finland decreased by 10.5 % in January , while sales outside Finland dropped by 17 % .</td>\n      <td>0.007314</td>\n      <td>0.974425</td>\n      <td>0.018261</td>\n      <td>-0.967111</td>\n      <td>negative</td>\n    </tr>\n  </tbody>\n</table>\n<p>4845 rows × 7 columns</p>\n</div>"
     },
     "execution_count": 63,
     "metadata": {},
     "output_type": "execute_result"
    }
   ],
   "source": [
    "df_news = pd.read_csv('C:\\\\Users\\\\wierc\\\\Desktop\\\\inz\\\\stock_ml\\\\all-data.csv', delimiter = \",\",  encoding='latin-1')\n",
    "df_news.columns = [\"SENTIMENT\", \"TWEET\"]\n",
    "\n",
    "df_news = df_news[1:200]\n",
    "df_news = get_output(df_news, print_sentences=False, print_output=False)"
   ],
   "metadata": {
    "collapsed": false,
    "pycharm": {
     "name": "#%%\n"
    }
   }
  },
  {
   "cell_type": "code",
   "execution_count": 134,
   "outputs": [
    {
     "name": "stdout",
     "output_type": "stream",
     "text": [
      "[[   2    5    0]\n",
      " [1361 2873  604]\n",
      " [   0    0    0]]\n"
     ]
    },
    {
     "data": {
      "text/plain": "     SENTIMENT  \\\n0      neutral   \n1     negative   \n2     positive   \n3     positive   \n4     positive   \n5     positive   \n6     positive   \n7     positive   \n8     positive   \n9     positive   \n10    positive   \n11    positive   \n12    positive   \n13    positive   \n14    positive   \n15    positive   \n16    positive   \n17    positive   \n18    positive   \n19    positive   \n20    positive   \n21    positive   \n22    positive   \n23    positive   \n24    positive   \n25    positive   \n26    positive   \n27    positive   \n28    positive   \n29    positive   \n...        ...   \n4815  negative   \n4816  negative   \n4817  negative   \n4818   neutral   \n4819   neutral   \n4820  negative   \n4821  positive   \n4822   neutral   \n4823  negative   \n4824  negative   \n4825   neutral   \n4826  negative   \n4827  negative   \n4828  negative   \n4829  negative   \n4830  negative   \n4831  negative   \n4832  negative   \n4833  negative   \n4834  negative   \n4835  negative   \n4836  negative   \n4837  negative   \n4838  negative   \n4839  negative   \n4840  negative   \n4841   neutral   \n4842  negative   \n4843  negative   \n4844  negative   \n\n                                                                                                                                                      TWEET  \\\n0     Technopolis plans to develop in stages an area of no less than 100,000 square meters in order to host companies working in computer technologies a...   \n1     The international electronic industry company Elcoteq has laid off tens of employees from its Tallinn facility ; contrary to earlier layoffs the c...   \n2     With the new production plant the company would increase its capacity to meet the expected increase in demand and would improve the use of raw mat...   \n3     According to the company 's updated strategy for the years 2009-2012 , Basware targets a long-term net sales growth in the range of 20 % -40 % wit...   \n4     FINANCING OF ASPOCOMP 'S GROWTH Aspocomp is aggressively pursuing its growth strategy by increasingly focusing on technologically more demanding H...   \n5     For the last quarter of 2010 , Componenta 's net sales doubled to EUR131m from EUR76m for the same period a year earlier , while it moved to a zer...   \n6                             In the third quarter of 2010 , net sales increased by 5.2 % to EUR 205.5 mn , and operating profit by 34.9 % to EUR 23.5 mn .   \n7                                Operating profit rose to EUR 13.1 mn from EUR 8.7 mn in the corresponding period in 2007 representing 7.7 % of net sales .   \n8                                                   Operating profit totalled EUR 21.1 mn , up from EUR 18.6 mn in 2007 , representing 9.7 % of net sales .   \n9     TeliaSonera TLSN said the offer is in line with its strategy to increase its ownership in core business holdings and would strengthen Eesti Teleko...   \n10    STORA ENSO , NORSKE SKOG , M-REAL , UPM-KYMMENE Credit Suisse First Boston ( CFSB ) raised the fair value for shares in four of the largest Nordic...   \n11    A purchase agreement for 7,200 tons of gasoline with delivery at the Hamina terminal , Finland , was signed with Neste Oil OYj at the average Plat...   \n12    Finnish Talentum reports its operating profit increased to EUR 20.5 mn in 2005 from EUR 9.3 mn in 2004 , and net sales totaled EUR 103.3 mn , up f...   \n13          Clothing retail chain Sepp+Æl+Æ 's sales increased by 8 % to EUR 155.2 mn , and operating profit rose to EUR 31.1 mn from EUR 17.1 mn in 2004 .   \n14    Consolidated net sales increased 16 % to reach EUR74 .8 m , while operating profit amounted to EUR0 .9 m compared to a loss of EUR0 .7 m in the pr...   \n15    Foundries division reports its sales increased by 9.7 % to EUR 63.1 mn from EUR 57.5 mn in the corresponding period in 2006 , and sales of the Mac...   \n16    HELSINKI ( AFX ) - Shares closed higher , led by Nokia after it announced plans to team up with Sanyo to manufacture 3G handsets , and by Nokian T...   \n17               Incap Contract Manufacturing Services Pvt Ltd , a subsidiary of Incap Corporation of Finland , plans to double its revenues by 2007-2008 .   \n18                            Its board of directors will propose a dividend of EUR0 .12 per share for 2010 , up from the EUR0 .08 per share paid in 2009 .   \n19                                              Lifetree was founded in 2000 , and its revenues have risen on an average by 40 % with margins in late 30s .   \n20    ( Filippova ) A trilateral agreement on investment in the construction of a technology park in St Petersburg was to have been signed in the course...   \n21    MegaFon 's subscriber base increased 16.1 % in 2009 to 50.5 million users as of December 31 , while its market share by the number of customers am...   \n22    Net income from life insurance doubled to EUR 6.8 mn from EUR 3.2 mn , and net income from non-life insurance rose to EUR 5.2 mn from EUR 1.5 mn i...   \n23                                   Net sales increased to EUR193 .3 m from EUR179 .9 m and pretax profit rose by 34.2 % to EUR43 .1 m. ( EUR1 = USD1 .4 )   \n24             Net sales surged by 18.5 % to EUR167 .8 m. Teleste said that EUR20 .4 m , or 12.2 % , of the sales came from the acquisitions made in 2009 .   \n25    Nordea Group 's operating profit increased in 2010 by 18 percent year-on-year to 3.64 billion euros and total revenue by 3 percent to 9.33 billion...   \n26    Operating profit for the nine-month period increased from EUR13 .6 m , while net sales increased from EUR394 .7 m , as compared to the correspondi...   \n27    Operating profit for the nine-month period increased from EUR3 .1 m and net sales increased from EUR61 .5 m , as compared to the corresponding per...   \n28    Operating profit for the three-month period increased from EUR1 .2 m , while revenue increased from EUR20 .2 m , as compared to the corresponding ...   \n29    The Brazilian unit of Finnish security solutions provider F-Secure signed up 1,500 new clients last year , online news source Reseller Web quoted ...   \n...                                                                                                                                                     ...   \n4815  Finnish waste management and cleaning group Lassila & Tikanoja Oyj ( L&T ) net profit went down to 32.2 mln euro ( $ 47.7 mln ) for 2007 from 35.3...   \n4816  Qualcomm estimated a first-quarter profit between 46 and 50 cents a share , excluding certain items , below the analyst estimate of 61 cents a sha...   \n4817  Finnish-Swedish Stora Enso does not understand the decision issued by a federal judge in Brazil concerning Stora Enso 's associated pulp company V...   \n4818                      Nevertheless , the development can not be allowed to ruin the print newspaper , which continues to be Sanoma News ' main medium .   \n4819  Besides , as there is no depositor preference in Finland , senior debt and deposits rank on a par , which is also taken into consideration , the a...   \n4820                              Operating margin , however , slipped to 14.4 % from 15.1 % , dragged down by a poor performance in enterprise solutions .   \n4821                                           The 2015 target for net sales has been set at EUR 1bn and the target for return on investment at over 20 % .   \n4822            It holds 38 percent of Outokumpu 's shares and voting rights , but in 2001 lawmakers gave it permission to reduce the stake to 10 percent .   \n4823  As a result of these transactions , the aggregate holdings of Burrill Life Sciences Capital Fund , L.P. has decreased below 5 per cent of the tota...   \n4824  have notified that as a result of the Company issuing 14,432,000 new shares in the directed offering , the joint holdings of Pequot has decreased ...   \n4825  Mobile communication and wireless broadband provider Nokia Inc NYSE : NOK today set new financial targets and forecasts for Nokia and the mobile d...   \n4826  External net sales from the printing business fell by 43.7 % , partly due to the termination of the printing contract between Ilkka-Yhtyma 's prin...   \n4827  Seven-month sales of Ragutis , which is controlled by the Finnish brewery Olvi , declined by 11.2 percent , to 15.41 million liters , and the comp...   \n4828                     The OMX Helsinki index was 0.33 pct lower at 9,364.80 , while the OMX Helsinki CAP portfolio index was down 0.34 pct at 5,029.25 .   \n4829                                                                  The OMX Helsinki index was down 0.34 pct at 8,256.02 on turnover of 813.191 mln eur .   \n4830                                             Repeats sees 2008 operating profit down y-y ( Reporting by Helsinki Newsroom ) Keywords : TECNOMEN-RESULTS   \n4831          Comparable operating profit totaled EUR 4.7 mn , down from EUR 5.1 mn in the corresponding period in 2005 , representing 7.4 % of net sales .   \n4832                                                           In Finland 's Hobby Hall 's sales decreased by 10 % , and international sales fell by 19 % .   \n4833            Hobby Hall 's sales decrease 26 pct due to implementing a new information system that involved changing in the principal of posting sales .   \n4834  In the Baltic states the company reports net sales of EUR 11.9 mn , down from EUR 14.2 mn , and an operative EBIT of EUR -2.2 mn , down from EUR -...   \n4835                                Operating profits in the half were  0.8 m , down from  0.9 m as Glisten invested in the brand and the management team .   \n4836      Sales in Finland decreased by 2.0 % , and international sales decreased by 9.3 % in terms of euros , and by 15.1 % in terms of local currencies .   \n4837               The company said that its comparable operating profit for the January-June period fell short of last year 's corresponding performance .   \n4838        Operating result for the 12-month period decreased from the profit of EUR0 .4 m while turnover decreased from EUR5 .6 m , as compared to 2004 .   \n4839  HELSINKI Thomson Financial - Shares in Cargotec fell sharply in early afternoon trade after the cargo handling group posted a surprise drop in Apr...   \n4840       LONDON MarketWatch -- Share prices ended lower in London Monday as a rebound in bank stocks failed to offset broader weakness for the FTSE 100 .   \n4841   Rinkuskiai 's beer sales fell by 6.5 per cent to 4.16 million litres , while Kauno Alus ' beer sales jumped by 6.9 per cent to 2.48 million litres .   \n4842                                           Operating profit fell to EUR 35.4 mn from EUR 68.8 mn in 2007 , including vessel sales gain of EUR 12.3 mn .   \n4843  Net sales of the Paper segment decreased to EUR 221.6 mn in the second quarter of 2009 from EUR 241.1 mn in the second quarter of 2008 , while ope...   \n4844                                                        Sales in Finland decreased by 10.5 % in January , while sales outside Finland dropped by 17 % .   \n\n      positive  negative   neutral  sentiment_score predictions  textblob  \\\n0     0.457668  0.008493  0.533839         0.449175     neutral  0.083333   \n1     0.007849  0.972056  0.020095        -0.964207     neutral  0.000000   \n2     0.947900  0.012434  0.039666         0.935466     neutral -0.064802   \n3     0.859708  0.008038  0.132254         0.851670     neutral  0.000000   \n4     0.873563  0.007158  0.119279         0.866405     neutral  0.500000   \n5     0.948198  0.026035  0.025768         0.922163     neutral  0.000000   \n6     0.957042  0.016627  0.026331         0.940415     neutral  0.000000   \n7     0.952403  0.025655  0.021942         0.926748     neutral  0.300000   \n8     0.955025  0.026857  0.018118         0.928167     neutral  0.000000   \n9     0.937181  0.008535  0.054283         0.928646     neutral  0.000000   \n10    0.935118  0.010786  0.054096         0.924332     neutral  0.475000   \n11    0.876434  0.011527  0.112039         0.864908     neutral -0.150000   \n12    0.952654  0.024665  0.022680         0.927989     neutral  0.000000   \n13    0.953784  0.023031  0.023185         0.930752     neutral  0.600000   \n14    0.958792  0.020447  0.020761         0.938346     neutral  0.000000   \n15    0.951801  0.024966  0.023234         0.926835     neutral  0.000000   \n16    0.946871  0.029319  0.023811         0.917552     neutral  0.075000   \n17    0.950893  0.014695  0.034412         0.936199     neutral  0.000000   \n18    0.951759  0.020252  0.027990         0.931507     neutral  0.000000   \n19    0.946681  0.012192  0.041127         0.934489     neutral -0.225000   \n20    0.804209  0.009827  0.185964         0.794381     neutral  0.000000   \n21    0.956088  0.017059  0.026853         0.939028     neutral -0.466667   \n22    0.952316  0.025670  0.022014         0.926645     neutral  0.200000   \n23    0.955893  0.021395  0.022712         0.934498     neutral  0.300000   \n24    0.949585  0.015196  0.035218         0.934389     neutral  0.000000   \n25    0.956934  0.017147  0.025919         0.939787     neutral  0.000000   \n26    0.956375  0.020449  0.023176         0.935926     neutral  0.000000   \n27    0.956113  0.020466  0.023421         0.935647     neutral  0.000000   \n28    0.956864  0.020209  0.022927         0.936654     neutral  0.000000   \n29    0.872038  0.012359  0.115603         0.859679     neutral  0.045455   \n...        ...       ...       ...              ...         ...       ...   \n4815  0.007317  0.975318  0.017365        -0.968001     neutral -0.118519   \n4816  0.011420  0.970124  0.018456        -0.958703     neutral  0.214286   \n4817  0.010868  0.914828  0.074304        -0.903960     neutral  0.000000   \n4818  0.078471  0.235336  0.686193        -0.156865     neutral  0.166667   \n4819  0.068542  0.016514  0.914944         0.052028     neutral -0.800000   \n4820  0.007726  0.976588  0.015686        -0.968862     neutral -0.277778   \n4821  0.120214  0.014771  0.865016         0.105443     neutral  0.000000   \n4822  0.043202  0.328483  0.628315        -0.285282     neutral  0.000000   \n4823  0.012806  0.950480  0.036714        -0.937674     neutral -0.200000   \n4824  0.021948  0.929611  0.048441        -0.907663     neutral -0.087879   \n4825  0.183102  0.012815  0.804083         0.170287     neutral  0.059091   \n4826  0.007294  0.975896  0.016810        -0.968601     neutral -0.041667   \n4827  0.006244  0.974054  0.019703        -0.967810     neutral  0.000000   \n4828  0.007051  0.967363  0.025586        -0.960312     neutral -0.155556   \n4829  0.007129  0.973617  0.019254        -0.966487     neutral -0.155556   \n4830  0.006860  0.960677  0.032463        -0.953817     neutral -0.155556   \n4831  0.008704  0.976764  0.014531        -0.968060     neutral -0.077778   \n4832  0.007510  0.973719  0.018771        -0.966209     neutral -0.200000   \n4833  0.020375  0.968258  0.011367        -0.947883     neutral  0.005682   \n4834  0.008748  0.975894  0.015359        -0.967146     neutral -0.103704   \n4835  0.008562  0.976532  0.014906        -0.967970     neutral -0.161111   \n4836  0.008455  0.973128  0.018417        -0.964673     neutral -0.200000   \n4837  0.013219  0.970090  0.016691        -0.956871     neutral  0.000000   \n4838  0.007853  0.974548  0.017599        -0.966695     neutral -0.400000   \n4839  0.007316  0.975540  0.017144        -0.968225     neutral  0.112662   \n4840  0.019868  0.970002  0.010130        -0.950133     neutral -0.500000   \n4841  0.009465  0.974344  0.016191        -0.964878     neutral  0.000000   \n4842  0.008485  0.976724  0.014792        -0.968239     neutral  0.000000   \n4843  0.013204  0.974357  0.012439        -0.961154     neutral  0.040000   \n4844  0.007314  0.974425  0.018261        -0.967111     neutral -0.200000   \n\n       vader textblob_sentiment  \n0    -0.2960            neutral  \n1     0.0000            neutral  \n2     0.8555            neutral  \n3     0.6705            neutral  \n4     0.3485           positive  \n5     0.1531            neutral  \n6     0.6124            neutral  \n7     0.4404            neutral  \n8     0.4404            neutral  \n9     0.5574            neutral  \n10    0.8176           positive  \n11    0.4939            neutral  \n12    0.6124            neutral  \n13    0.6124           positive  \n14    0.4215            neutral  \n15    0.4939            neutral  \n16    0.2960            neutral  \n17    0.0000            neutral  \n18    0.5267            neutral  \n19    0.0000            neutral  \n20    0.4939            neutral  \n21    0.5574           negative  \n22    0.0000            neutral  \n23    0.6124            neutral  \n24    0.0000            neutral  \n25    0.6124            neutral  \n26    0.7269            neutral  \n27    0.7269            neutral  \n28    0.7269            neutral  \n29    0.4767            neutral  \n...      ...                ...  \n4815  0.0258            neutral  \n4816  0.8126            neutral  \n4817  0.0000            neutral  \n4818 -0.5859            neutral  \n4819 -0.5719           negative  \n4820 -0.3818            neutral  \n4821  0.0000            neutral  \n4822  0.1531            neutral  \n4823  0.4690            neutral  \n4824  0.6436            neutral  \n4825  0.0000            neutral  \n4826  0.0000            neutral  \n4827  0.0000            neutral  \n4828 -0.2960            neutral  \n4829  0.0000            neutral  \n4830  0.4404            neutral  \n4831  0.4404            neutral  \n4832  0.0000            neutral  \n4833  0.0000            neutral  \n4834  0.0000            neutral  \n4835  0.4404            neutral  \n4836  0.0000            neutral  \n4837  0.4404            neutral  \n4838  0.4404           negative  \n4839  0.6597            neutral  \n4840 -0.7269           negative  \n4841  0.0000            neutral  \n4842  0.7430            neutral  \n4843  0.4404            neutral  \n4844  0.0000            neutral  \n\n[4845 rows x 10 columns]",
      "text/html": "<div>\n<style scoped>\n    .dataframe tbody tr th:only-of-type {\n        vertical-align: middle;\n    }\n\n    .dataframe tbody tr th {\n        vertical-align: top;\n    }\n\n    .dataframe thead th {\n        text-align: right;\n    }\n</style>\n<table border=\"1\" class=\"dataframe\">\n  <thead>\n    <tr style=\"text-align: right;\">\n      <th></th>\n      <th>SENTIMENT</th>\n      <th>TWEET</th>\n      <th>positive</th>\n      <th>negative</th>\n      <th>neutral</th>\n      <th>sentiment_score</th>\n      <th>predictions</th>\n      <th>textblob</th>\n      <th>vader</th>\n      <th>textblob_sentiment</th>\n    </tr>\n  </thead>\n  <tbody>\n    <tr>\n      <th>0</th>\n      <td>neutral</td>\n      <td>Technopolis plans to develop in stages an area of no less than 100,000 square meters in order to host companies working in computer technologies a...</td>\n      <td>0.457668</td>\n      <td>0.008493</td>\n      <td>0.533839</td>\n      <td>0.449175</td>\n      <td>neutral</td>\n      <td>0.083333</td>\n      <td>-0.2960</td>\n      <td>neutral</td>\n    </tr>\n    <tr>\n      <th>1</th>\n      <td>negative</td>\n      <td>The international electronic industry company Elcoteq has laid off tens of employees from its Tallinn facility ; contrary to earlier layoffs the c...</td>\n      <td>0.007849</td>\n      <td>0.972056</td>\n      <td>0.020095</td>\n      <td>-0.964207</td>\n      <td>neutral</td>\n      <td>0.000000</td>\n      <td>0.0000</td>\n      <td>neutral</td>\n    </tr>\n    <tr>\n      <th>2</th>\n      <td>positive</td>\n      <td>With the new production plant the company would increase its capacity to meet the expected increase in demand and would improve the use of raw mat...</td>\n      <td>0.947900</td>\n      <td>0.012434</td>\n      <td>0.039666</td>\n      <td>0.935466</td>\n      <td>neutral</td>\n      <td>-0.064802</td>\n      <td>0.8555</td>\n      <td>neutral</td>\n    </tr>\n    <tr>\n      <th>3</th>\n      <td>positive</td>\n      <td>According to the company 's updated strategy for the years 2009-2012 , Basware targets a long-term net sales growth in the range of 20 % -40 % wit...</td>\n      <td>0.859708</td>\n      <td>0.008038</td>\n      <td>0.132254</td>\n      <td>0.851670</td>\n      <td>neutral</td>\n      <td>0.000000</td>\n      <td>0.6705</td>\n      <td>neutral</td>\n    </tr>\n    <tr>\n      <th>4</th>\n      <td>positive</td>\n      <td>FINANCING OF ASPOCOMP 'S GROWTH Aspocomp is aggressively pursuing its growth strategy by increasingly focusing on technologically more demanding H...</td>\n      <td>0.873563</td>\n      <td>0.007158</td>\n      <td>0.119279</td>\n      <td>0.866405</td>\n      <td>neutral</td>\n      <td>0.500000</td>\n      <td>0.3485</td>\n      <td>positive</td>\n    </tr>\n    <tr>\n      <th>5</th>\n      <td>positive</td>\n      <td>For the last quarter of 2010 , Componenta 's net sales doubled to EUR131m from EUR76m for the same period a year earlier , while it moved to a zer...</td>\n      <td>0.948198</td>\n      <td>0.026035</td>\n      <td>0.025768</td>\n      <td>0.922163</td>\n      <td>neutral</td>\n      <td>0.000000</td>\n      <td>0.1531</td>\n      <td>neutral</td>\n    </tr>\n    <tr>\n      <th>6</th>\n      <td>positive</td>\n      <td>In the third quarter of 2010 , net sales increased by 5.2 % to EUR 205.5 mn , and operating profit by 34.9 % to EUR 23.5 mn .</td>\n      <td>0.957042</td>\n      <td>0.016627</td>\n      <td>0.026331</td>\n      <td>0.940415</td>\n      <td>neutral</td>\n      <td>0.000000</td>\n      <td>0.6124</td>\n      <td>neutral</td>\n    </tr>\n    <tr>\n      <th>7</th>\n      <td>positive</td>\n      <td>Operating profit rose to EUR 13.1 mn from EUR 8.7 mn in the corresponding period in 2007 representing 7.7 % of net sales .</td>\n      <td>0.952403</td>\n      <td>0.025655</td>\n      <td>0.021942</td>\n      <td>0.926748</td>\n      <td>neutral</td>\n      <td>0.300000</td>\n      <td>0.4404</td>\n      <td>neutral</td>\n    </tr>\n    <tr>\n      <th>8</th>\n      <td>positive</td>\n      <td>Operating profit totalled EUR 21.1 mn , up from EUR 18.6 mn in 2007 , representing 9.7 % of net sales .</td>\n      <td>0.955025</td>\n      <td>0.026857</td>\n      <td>0.018118</td>\n      <td>0.928167</td>\n      <td>neutral</td>\n      <td>0.000000</td>\n      <td>0.4404</td>\n      <td>neutral</td>\n    </tr>\n    <tr>\n      <th>9</th>\n      <td>positive</td>\n      <td>TeliaSonera TLSN said the offer is in line with its strategy to increase its ownership in core business holdings and would strengthen Eesti Teleko...</td>\n      <td>0.937181</td>\n      <td>0.008535</td>\n      <td>0.054283</td>\n      <td>0.928646</td>\n      <td>neutral</td>\n      <td>0.000000</td>\n      <td>0.5574</td>\n      <td>neutral</td>\n    </tr>\n    <tr>\n      <th>10</th>\n      <td>positive</td>\n      <td>STORA ENSO , NORSKE SKOG , M-REAL , UPM-KYMMENE Credit Suisse First Boston ( CFSB ) raised the fair value for shares in four of the largest Nordic...</td>\n      <td>0.935118</td>\n      <td>0.010786</td>\n      <td>0.054096</td>\n      <td>0.924332</td>\n      <td>neutral</td>\n      <td>0.475000</td>\n      <td>0.8176</td>\n      <td>positive</td>\n    </tr>\n    <tr>\n      <th>11</th>\n      <td>positive</td>\n      <td>A purchase agreement for 7,200 tons of gasoline with delivery at the Hamina terminal , Finland , was signed with Neste Oil OYj at the average Plat...</td>\n      <td>0.876434</td>\n      <td>0.011527</td>\n      <td>0.112039</td>\n      <td>0.864908</td>\n      <td>neutral</td>\n      <td>-0.150000</td>\n      <td>0.4939</td>\n      <td>neutral</td>\n    </tr>\n    <tr>\n      <th>12</th>\n      <td>positive</td>\n      <td>Finnish Talentum reports its operating profit increased to EUR 20.5 mn in 2005 from EUR 9.3 mn in 2004 , and net sales totaled EUR 103.3 mn , up f...</td>\n      <td>0.952654</td>\n      <td>0.024665</td>\n      <td>0.022680</td>\n      <td>0.927989</td>\n      <td>neutral</td>\n      <td>0.000000</td>\n      <td>0.6124</td>\n      <td>neutral</td>\n    </tr>\n    <tr>\n      <th>13</th>\n      <td>positive</td>\n      <td>Clothing retail chain Sepp+Æl+Æ 's sales increased by 8 % to EUR 155.2 mn , and operating profit rose to EUR 31.1 mn from EUR 17.1 mn in 2004 .</td>\n      <td>0.953784</td>\n      <td>0.023031</td>\n      <td>0.023185</td>\n      <td>0.930752</td>\n      <td>neutral</td>\n      <td>0.600000</td>\n      <td>0.6124</td>\n      <td>positive</td>\n    </tr>\n    <tr>\n      <th>14</th>\n      <td>positive</td>\n      <td>Consolidated net sales increased 16 % to reach EUR74 .8 m , while operating profit amounted to EUR0 .9 m compared to a loss of EUR0 .7 m in the pr...</td>\n      <td>0.958792</td>\n      <td>0.020447</td>\n      <td>0.020761</td>\n      <td>0.938346</td>\n      <td>neutral</td>\n      <td>0.000000</td>\n      <td>0.4215</td>\n      <td>neutral</td>\n    </tr>\n    <tr>\n      <th>15</th>\n      <td>positive</td>\n      <td>Foundries division reports its sales increased by 9.7 % to EUR 63.1 mn from EUR 57.5 mn in the corresponding period in 2006 , and sales of the Mac...</td>\n      <td>0.951801</td>\n      <td>0.024966</td>\n      <td>0.023234</td>\n      <td>0.926835</td>\n      <td>neutral</td>\n      <td>0.000000</td>\n      <td>0.4939</td>\n      <td>neutral</td>\n    </tr>\n    <tr>\n      <th>16</th>\n      <td>positive</td>\n      <td>HELSINKI ( AFX ) - Shares closed higher , led by Nokia after it announced plans to team up with Sanyo to manufacture 3G handsets , and by Nokian T...</td>\n      <td>0.946871</td>\n      <td>0.029319</td>\n      <td>0.023811</td>\n      <td>0.917552</td>\n      <td>neutral</td>\n      <td>0.075000</td>\n      <td>0.2960</td>\n      <td>neutral</td>\n    </tr>\n    <tr>\n      <th>17</th>\n      <td>positive</td>\n      <td>Incap Contract Manufacturing Services Pvt Ltd , a subsidiary of Incap Corporation of Finland , plans to double its revenues by 2007-2008 .</td>\n      <td>0.950893</td>\n      <td>0.014695</td>\n      <td>0.034412</td>\n      <td>0.936199</td>\n      <td>neutral</td>\n      <td>0.000000</td>\n      <td>0.0000</td>\n      <td>neutral</td>\n    </tr>\n    <tr>\n      <th>18</th>\n      <td>positive</td>\n      <td>Its board of directors will propose a dividend of EUR0 .12 per share for 2010 , up from the EUR0 .08 per share paid in 2009 .</td>\n      <td>0.951759</td>\n      <td>0.020252</td>\n      <td>0.027990</td>\n      <td>0.931507</td>\n      <td>neutral</td>\n      <td>0.000000</td>\n      <td>0.5267</td>\n      <td>neutral</td>\n    </tr>\n    <tr>\n      <th>19</th>\n      <td>positive</td>\n      <td>Lifetree was founded in 2000 , and its revenues have risen on an average by 40 % with margins in late 30s .</td>\n      <td>0.946681</td>\n      <td>0.012192</td>\n      <td>0.041127</td>\n      <td>0.934489</td>\n      <td>neutral</td>\n      <td>-0.225000</td>\n      <td>0.0000</td>\n      <td>neutral</td>\n    </tr>\n    <tr>\n      <th>20</th>\n      <td>positive</td>\n      <td>( Filippova ) A trilateral agreement on investment in the construction of a technology park in St Petersburg was to have been signed in the course...</td>\n      <td>0.804209</td>\n      <td>0.009827</td>\n      <td>0.185964</td>\n      <td>0.794381</td>\n      <td>neutral</td>\n      <td>0.000000</td>\n      <td>0.4939</td>\n      <td>neutral</td>\n    </tr>\n    <tr>\n      <th>21</th>\n      <td>positive</td>\n      <td>MegaFon 's subscriber base increased 16.1 % in 2009 to 50.5 million users as of December 31 , while its market share by the number of customers am...</td>\n      <td>0.956088</td>\n      <td>0.017059</td>\n      <td>0.026853</td>\n      <td>0.939028</td>\n      <td>neutral</td>\n      <td>-0.466667</td>\n      <td>0.5574</td>\n      <td>negative</td>\n    </tr>\n    <tr>\n      <th>22</th>\n      <td>positive</td>\n      <td>Net income from life insurance doubled to EUR 6.8 mn from EUR 3.2 mn , and net income from non-life insurance rose to EUR 5.2 mn from EUR 1.5 mn i...</td>\n      <td>0.952316</td>\n      <td>0.025670</td>\n      <td>0.022014</td>\n      <td>0.926645</td>\n      <td>neutral</td>\n      <td>0.200000</td>\n      <td>0.0000</td>\n      <td>neutral</td>\n    </tr>\n    <tr>\n      <th>23</th>\n      <td>positive</td>\n      <td>Net sales increased to EUR193 .3 m from EUR179 .9 m and pretax profit rose by 34.2 % to EUR43 .1 m. ( EUR1 = USD1 .4 )</td>\n      <td>0.955893</td>\n      <td>0.021395</td>\n      <td>0.022712</td>\n      <td>0.934498</td>\n      <td>neutral</td>\n      <td>0.300000</td>\n      <td>0.6124</td>\n      <td>neutral</td>\n    </tr>\n    <tr>\n      <th>24</th>\n      <td>positive</td>\n      <td>Net sales surged by 18.5 % to EUR167 .8 m. Teleste said that EUR20 .4 m , or 12.2 % , of the sales came from the acquisitions made in 2009 .</td>\n      <td>0.949585</td>\n      <td>0.015196</td>\n      <td>0.035218</td>\n      <td>0.934389</td>\n      <td>neutral</td>\n      <td>0.000000</td>\n      <td>0.0000</td>\n      <td>neutral</td>\n    </tr>\n    <tr>\n      <th>25</th>\n      <td>positive</td>\n      <td>Nordea Group 's operating profit increased in 2010 by 18 percent year-on-year to 3.64 billion euros and total revenue by 3 percent to 9.33 billion...</td>\n      <td>0.956934</td>\n      <td>0.017147</td>\n      <td>0.025919</td>\n      <td>0.939787</td>\n      <td>neutral</td>\n      <td>0.000000</td>\n      <td>0.6124</td>\n      <td>neutral</td>\n    </tr>\n    <tr>\n      <th>26</th>\n      <td>positive</td>\n      <td>Operating profit for the nine-month period increased from EUR13 .6 m , while net sales increased from EUR394 .7 m , as compared to the correspondi...</td>\n      <td>0.956375</td>\n      <td>0.020449</td>\n      <td>0.023176</td>\n      <td>0.935926</td>\n      <td>neutral</td>\n      <td>0.000000</td>\n      <td>0.7269</td>\n      <td>neutral</td>\n    </tr>\n    <tr>\n      <th>27</th>\n      <td>positive</td>\n      <td>Operating profit for the nine-month period increased from EUR3 .1 m and net sales increased from EUR61 .5 m , as compared to the corresponding per...</td>\n      <td>0.956113</td>\n      <td>0.020466</td>\n      <td>0.023421</td>\n      <td>0.935647</td>\n      <td>neutral</td>\n      <td>0.000000</td>\n      <td>0.7269</td>\n      <td>neutral</td>\n    </tr>\n    <tr>\n      <th>28</th>\n      <td>positive</td>\n      <td>Operating profit for the three-month period increased from EUR1 .2 m , while revenue increased from EUR20 .2 m , as compared to the corresponding ...</td>\n      <td>0.956864</td>\n      <td>0.020209</td>\n      <td>0.022927</td>\n      <td>0.936654</td>\n      <td>neutral</td>\n      <td>0.000000</td>\n      <td>0.7269</td>\n      <td>neutral</td>\n    </tr>\n    <tr>\n      <th>29</th>\n      <td>positive</td>\n      <td>The Brazilian unit of Finnish security solutions provider F-Secure signed up 1,500 new clients last year , online news source Reseller Web quoted ...</td>\n      <td>0.872038</td>\n      <td>0.012359</td>\n      <td>0.115603</td>\n      <td>0.859679</td>\n      <td>neutral</td>\n      <td>0.045455</td>\n      <td>0.4767</td>\n      <td>neutral</td>\n    </tr>\n    <tr>\n      <th>...</th>\n      <td>...</td>\n      <td>...</td>\n      <td>...</td>\n      <td>...</td>\n      <td>...</td>\n      <td>...</td>\n      <td>...</td>\n      <td>...</td>\n      <td>...</td>\n      <td>...</td>\n    </tr>\n    <tr>\n      <th>4815</th>\n      <td>negative</td>\n      <td>Finnish waste management and cleaning group Lassila &amp; Tikanoja Oyj ( L&amp;T ) net profit went down to 32.2 mln euro ( $ 47.7 mln ) for 2007 from 35.3...</td>\n      <td>0.007317</td>\n      <td>0.975318</td>\n      <td>0.017365</td>\n      <td>-0.968001</td>\n      <td>neutral</td>\n      <td>-0.118519</td>\n      <td>0.0258</td>\n      <td>neutral</td>\n    </tr>\n    <tr>\n      <th>4816</th>\n      <td>negative</td>\n      <td>Qualcomm estimated a first-quarter profit between 46 and 50 cents a share , excluding certain items , below the analyst estimate of 61 cents a sha...</td>\n      <td>0.011420</td>\n      <td>0.970124</td>\n      <td>0.018456</td>\n      <td>-0.958703</td>\n      <td>neutral</td>\n      <td>0.214286</td>\n      <td>0.8126</td>\n      <td>neutral</td>\n    </tr>\n    <tr>\n      <th>4817</th>\n      <td>negative</td>\n      <td>Finnish-Swedish Stora Enso does not understand the decision issued by a federal judge in Brazil concerning Stora Enso 's associated pulp company V...</td>\n      <td>0.010868</td>\n      <td>0.914828</td>\n      <td>0.074304</td>\n      <td>-0.903960</td>\n      <td>neutral</td>\n      <td>0.000000</td>\n      <td>0.0000</td>\n      <td>neutral</td>\n    </tr>\n    <tr>\n      <th>4818</th>\n      <td>neutral</td>\n      <td>Nevertheless , the development can not be allowed to ruin the print newspaper , which continues to be Sanoma News ' main medium .</td>\n      <td>0.078471</td>\n      <td>0.235336</td>\n      <td>0.686193</td>\n      <td>-0.156865</td>\n      <td>neutral</td>\n      <td>0.166667</td>\n      <td>-0.5859</td>\n      <td>neutral</td>\n    </tr>\n    <tr>\n      <th>4819</th>\n      <td>neutral</td>\n      <td>Besides , as there is no depositor preference in Finland , senior debt and deposits rank on a par , which is also taken into consideration , the a...</td>\n      <td>0.068542</td>\n      <td>0.016514</td>\n      <td>0.914944</td>\n      <td>0.052028</td>\n      <td>neutral</td>\n      <td>-0.800000</td>\n      <td>-0.5719</td>\n      <td>negative</td>\n    </tr>\n    <tr>\n      <th>4820</th>\n      <td>negative</td>\n      <td>Operating margin , however , slipped to 14.4 % from 15.1 % , dragged down by a poor performance in enterprise solutions .</td>\n      <td>0.007726</td>\n      <td>0.976588</td>\n      <td>0.015686</td>\n      <td>-0.968862</td>\n      <td>neutral</td>\n      <td>-0.277778</td>\n      <td>-0.3818</td>\n      <td>neutral</td>\n    </tr>\n    <tr>\n      <th>4821</th>\n      <td>positive</td>\n      <td>The 2015 target for net sales has been set at EUR 1bn and the target for return on investment at over 20 % .</td>\n      <td>0.120214</td>\n      <td>0.014771</td>\n      <td>0.865016</td>\n      <td>0.105443</td>\n      <td>neutral</td>\n      <td>0.000000</td>\n      <td>0.0000</td>\n      <td>neutral</td>\n    </tr>\n    <tr>\n      <th>4822</th>\n      <td>neutral</td>\n      <td>It holds 38 percent of Outokumpu 's shares and voting rights , but in 2001 lawmakers gave it permission to reduce the stake to 10 percent .</td>\n      <td>0.043202</td>\n      <td>0.328483</td>\n      <td>0.628315</td>\n      <td>-0.285282</td>\n      <td>neutral</td>\n      <td>0.000000</td>\n      <td>0.1531</td>\n      <td>neutral</td>\n    </tr>\n    <tr>\n      <th>4823</th>\n      <td>negative</td>\n      <td>As a result of these transactions , the aggregate holdings of Burrill Life Sciences Capital Fund , L.P. has decreased below 5 per cent of the tota...</td>\n      <td>0.012806</td>\n      <td>0.950480</td>\n      <td>0.036714</td>\n      <td>-0.937674</td>\n      <td>neutral</td>\n      <td>-0.200000</td>\n      <td>0.4690</td>\n      <td>neutral</td>\n    </tr>\n    <tr>\n      <th>4824</th>\n      <td>negative</td>\n      <td>have notified that as a result of the Company issuing 14,432,000 new shares in the directed offering , the joint holdings of Pequot has decreased ...</td>\n      <td>0.021948</td>\n      <td>0.929611</td>\n      <td>0.048441</td>\n      <td>-0.907663</td>\n      <td>neutral</td>\n      <td>-0.087879</td>\n      <td>0.6436</td>\n      <td>neutral</td>\n    </tr>\n    <tr>\n      <th>4825</th>\n      <td>neutral</td>\n      <td>Mobile communication and wireless broadband provider Nokia Inc NYSE : NOK today set new financial targets and forecasts for Nokia and the mobile d...</td>\n      <td>0.183102</td>\n      <td>0.012815</td>\n      <td>0.804083</td>\n      <td>0.170287</td>\n      <td>neutral</td>\n      <td>0.059091</td>\n      <td>0.0000</td>\n      <td>neutral</td>\n    </tr>\n    <tr>\n      <th>4826</th>\n      <td>negative</td>\n      <td>External net sales from the printing business fell by 43.7 % , partly due to the termination of the printing contract between Ilkka-Yhtyma 's prin...</td>\n      <td>0.007294</td>\n      <td>0.975896</td>\n      <td>0.016810</td>\n      <td>-0.968601</td>\n      <td>neutral</td>\n      <td>-0.041667</td>\n      <td>0.0000</td>\n      <td>neutral</td>\n    </tr>\n    <tr>\n      <th>4827</th>\n      <td>negative</td>\n      <td>Seven-month sales of Ragutis , which is controlled by the Finnish brewery Olvi , declined by 11.2 percent , to 15.41 million liters , and the comp...</td>\n      <td>0.006244</td>\n      <td>0.974054</td>\n      <td>0.019703</td>\n      <td>-0.967810</td>\n      <td>neutral</td>\n      <td>0.000000</td>\n      <td>0.0000</td>\n      <td>neutral</td>\n    </tr>\n    <tr>\n      <th>4828</th>\n      <td>negative</td>\n      <td>The OMX Helsinki index was 0.33 pct lower at 9,364.80 , while the OMX Helsinki CAP portfolio index was down 0.34 pct at 5,029.25 .</td>\n      <td>0.007051</td>\n      <td>0.967363</td>\n      <td>0.025586</td>\n      <td>-0.960312</td>\n      <td>neutral</td>\n      <td>-0.155556</td>\n      <td>-0.2960</td>\n      <td>neutral</td>\n    </tr>\n    <tr>\n      <th>4829</th>\n      <td>negative</td>\n      <td>The OMX Helsinki index was down 0.34 pct at 8,256.02 on turnover of 813.191 mln eur .</td>\n      <td>0.007129</td>\n      <td>0.973617</td>\n      <td>0.019254</td>\n      <td>-0.966487</td>\n      <td>neutral</td>\n      <td>-0.155556</td>\n      <td>0.0000</td>\n      <td>neutral</td>\n    </tr>\n    <tr>\n      <th>4830</th>\n      <td>negative</td>\n      <td>Repeats sees 2008 operating profit down y-y ( Reporting by Helsinki Newsroom ) Keywords : TECNOMEN-RESULTS</td>\n      <td>0.006860</td>\n      <td>0.960677</td>\n      <td>0.032463</td>\n      <td>-0.953817</td>\n      <td>neutral</td>\n      <td>-0.155556</td>\n      <td>0.4404</td>\n      <td>neutral</td>\n    </tr>\n    <tr>\n      <th>4831</th>\n      <td>negative</td>\n      <td>Comparable operating profit totaled EUR 4.7 mn , down from EUR 5.1 mn in the corresponding period in 2005 , representing 7.4 % of net sales .</td>\n      <td>0.008704</td>\n      <td>0.976764</td>\n      <td>0.014531</td>\n      <td>-0.968060</td>\n      <td>neutral</td>\n      <td>-0.077778</td>\n      <td>0.4404</td>\n      <td>neutral</td>\n    </tr>\n    <tr>\n      <th>4832</th>\n      <td>negative</td>\n      <td>In Finland 's Hobby Hall 's sales decreased by 10 % , and international sales fell by 19 % .</td>\n      <td>0.007510</td>\n      <td>0.973719</td>\n      <td>0.018771</td>\n      <td>-0.966209</td>\n      <td>neutral</td>\n      <td>-0.200000</td>\n      <td>0.0000</td>\n      <td>neutral</td>\n    </tr>\n    <tr>\n      <th>4833</th>\n      <td>negative</td>\n      <td>Hobby Hall 's sales decrease 26 pct due to implementing a new information system that involved changing in the principal of posting sales .</td>\n      <td>0.020375</td>\n      <td>0.968258</td>\n      <td>0.011367</td>\n      <td>-0.947883</td>\n      <td>neutral</td>\n      <td>0.005682</td>\n      <td>0.0000</td>\n      <td>neutral</td>\n    </tr>\n    <tr>\n      <th>4834</th>\n      <td>negative</td>\n      <td>In the Baltic states the company reports net sales of EUR 11.9 mn , down from EUR 14.2 mn , and an operative EBIT of EUR -2.2 mn , down from EUR -...</td>\n      <td>0.008748</td>\n      <td>0.975894</td>\n      <td>0.015359</td>\n      <td>-0.967146</td>\n      <td>neutral</td>\n      <td>-0.103704</td>\n      <td>0.0000</td>\n      <td>neutral</td>\n    </tr>\n    <tr>\n      <th>4835</th>\n      <td>negative</td>\n      <td>Operating profits in the half were  0.8 m , down from  0.9 m as Glisten invested in the brand and the management team .</td>\n      <td>0.008562</td>\n      <td>0.976532</td>\n      <td>0.014906</td>\n      <td>-0.967970</td>\n      <td>neutral</td>\n      <td>-0.161111</td>\n      <td>0.4404</td>\n      <td>neutral</td>\n    </tr>\n    <tr>\n      <th>4836</th>\n      <td>negative</td>\n      <td>Sales in Finland decreased by 2.0 % , and international sales decreased by 9.3 % in terms of euros , and by 15.1 % in terms of local currencies .</td>\n      <td>0.008455</td>\n      <td>0.973128</td>\n      <td>0.018417</td>\n      <td>-0.964673</td>\n      <td>neutral</td>\n      <td>-0.200000</td>\n      <td>0.0000</td>\n      <td>neutral</td>\n    </tr>\n    <tr>\n      <th>4837</th>\n      <td>negative</td>\n      <td>The company said that its comparable operating profit for the January-June period fell short of last year 's corresponding performance .</td>\n      <td>0.013219</td>\n      <td>0.970090</td>\n      <td>0.016691</td>\n      <td>-0.956871</td>\n      <td>neutral</td>\n      <td>0.000000</td>\n      <td>0.4404</td>\n      <td>neutral</td>\n    </tr>\n    <tr>\n      <th>4838</th>\n      <td>negative</td>\n      <td>Operating result for the 12-month period decreased from the profit of EUR0 .4 m while turnover decreased from EUR5 .6 m , as compared to 2004 .</td>\n      <td>0.007853</td>\n      <td>0.974548</td>\n      <td>0.017599</td>\n      <td>-0.966695</td>\n      <td>neutral</td>\n      <td>-0.400000</td>\n      <td>0.4404</td>\n      <td>negative</td>\n    </tr>\n    <tr>\n      <th>4839</th>\n      <td>negative</td>\n      <td>HELSINKI Thomson Financial - Shares in Cargotec fell sharply in early afternoon trade after the cargo handling group posted a surprise drop in Apr...</td>\n      <td>0.007316</td>\n      <td>0.975540</td>\n      <td>0.017144</td>\n      <td>-0.968225</td>\n      <td>neutral</td>\n      <td>0.112662</td>\n      <td>0.6597</td>\n      <td>neutral</td>\n    </tr>\n    <tr>\n      <th>4840</th>\n      <td>negative</td>\n      <td>LONDON MarketWatch -- Share prices ended lower in London Monday as a rebound in bank stocks failed to offset broader weakness for the FTSE 100 .</td>\n      <td>0.019868</td>\n      <td>0.970002</td>\n      <td>0.010130</td>\n      <td>-0.950133</td>\n      <td>neutral</td>\n      <td>-0.500000</td>\n      <td>-0.7269</td>\n      <td>negative</td>\n    </tr>\n    <tr>\n      <th>4841</th>\n      <td>neutral</td>\n      <td>Rinkuskiai 's beer sales fell by 6.5 per cent to 4.16 million litres , while Kauno Alus ' beer sales jumped by 6.9 per cent to 2.48 million litres .</td>\n      <td>0.009465</td>\n      <td>0.974344</td>\n      <td>0.016191</td>\n      <td>-0.964878</td>\n      <td>neutral</td>\n      <td>0.000000</td>\n      <td>0.0000</td>\n      <td>neutral</td>\n    </tr>\n    <tr>\n      <th>4842</th>\n      <td>negative</td>\n      <td>Operating profit fell to EUR 35.4 mn from EUR 68.8 mn in 2007 , including vessel sales gain of EUR 12.3 mn .</td>\n      <td>0.008485</td>\n      <td>0.976724</td>\n      <td>0.014792</td>\n      <td>-0.968239</td>\n      <td>neutral</td>\n      <td>0.000000</td>\n      <td>0.7430</td>\n      <td>neutral</td>\n    </tr>\n    <tr>\n      <th>4843</th>\n      <td>negative</td>\n      <td>Net sales of the Paper segment decreased to EUR 221.6 mn in the second quarter of 2009 from EUR 241.1 mn in the second quarter of 2008 , while ope...</td>\n      <td>0.013204</td>\n      <td>0.974357</td>\n      <td>0.012439</td>\n      <td>-0.961154</td>\n      <td>neutral</td>\n      <td>0.040000</td>\n      <td>0.4404</td>\n      <td>neutral</td>\n    </tr>\n    <tr>\n      <th>4844</th>\n      <td>negative</td>\n      <td>Sales in Finland decreased by 10.5 % in January , while sales outside Finland dropped by 17 % .</td>\n      <td>0.007314</td>\n      <td>0.974425</td>\n      <td>0.018261</td>\n      <td>-0.967111</td>\n      <td>neutral</td>\n      <td>-0.200000</td>\n      <td>0.0000</td>\n      <td>neutral</td>\n    </tr>\n  </tbody>\n</table>\n<p>4845 rows × 10 columns</p>\n</div>"
     },
     "execution_count": 134,
     "metadata": {},
     "output_type": "execute_result"
    }
   ],
   "source": [
    "df_news = df_tweets\n",
    "print(get_confusion_matrix(df_news))\n",
    "df_news"
   ],
   "metadata": {
    "collapsed": false,
    "pycharm": {
     "name": "#%%\n"
    }
   }
  },
  {
   "cell_type": "code",
   "execution_count": 107,
   "outputs": [],
   "source": [
    "#normalizing confusion matrix\n",
    "def get_normalized_cfm(cfm_matrix):\n",
    "  normalized_cfm = []\n",
    "  for row in cfm_matrix:\n",
    "      normalized_row = []\n",
    "      for value in row:\n",
    "        normalized_row.append(value/(sum(row)))\n",
    "      normalized_cfm.append(normalized_row)\n",
    "  normalized_cfm = np.array(normalized_cfm)\n",
    "  return normalized_cfm.reshape(3,3)"
   ],
   "metadata": {
    "collapsed": false,
    "pycharm": {
     "name": "#%%\n"
    }
   }
  },
  {
   "cell_type": "code",
   "execution_count": 135,
   "outputs": [],
   "source": [
    "import seaborn as sn\n",
    "import pandas as pd\n",
    "import matplotlib.pyplot as plt\n",
    "\n",
    "def plot_confusion_matrix(cfm_matrix, save_to_jpg = False):\n",
    "\n",
    "  x, y = cfm_matrix.shape\n",
    "\n",
    "  df_cm = pd.DataFrame(cfm_matrix, index = [\"przewidziany sentyment pozytywny\", \"przewidziany sentyment neutralny\", \"przewidziany sentyment negatywny\"] ,\n",
    "                       columns = [\"pozytywny\", \"neutralny\", \"negatywny\"])\n",
    "  # plt.figure(figsize=(10,7))\n",
    "  sn.set(font_scale=1.4) # for label size\n",
    "  ax = sn.heatmap(df_cm, annot=True, annot_kws={\"size\": 16}) # font size\n",
    "  ax.xaxis.set_ticks_position('top')\n",
    "  if save_to_jpg:\n",
    "    plt.savefig(\"zdjęcia i skrinshoty/confusion_matrix_vader.jpg\",bbox_inches='tight')\n",
    "  return plt.show()"
   ],
   "metadata": {
    "collapsed": false,
    "pycharm": {
     "name": "#%%\n"
    }
   }
  },
  {
   "cell_type": "code",
   "execution_count": 121,
   "outputs": [
    {
     "data": {
      "text/plain": "     SENTIMENT  \\\n4840  negative   \n4841   neutral   \n4842  negative   \n4843  negative   \n4844  negative   \n\n                                                                                                                                                      TWEET  \\\n4840       LONDON MarketWatch -- Share prices ended lower in London Monday as a rebound in bank stocks failed to offset broader weakness for the FTSE 100 .   \n4841   Rinkuskiai 's beer sales fell by 6.5 per cent to 4.16 million litres , while Kauno Alus ' beer sales jumped by 6.9 per cent to 2.48 million litres .   \n4842                                           Operating profit fell to EUR 35.4 mn from EUR 68.8 mn in 2007 , including vessel sales gain of EUR 12.3 mn .   \n4843  Net sales of the Paper segment decreased to EUR 221.6 mn in the second quarter of 2009 from EUR 241.1 mn in the second quarter of 2008 , while ope...   \n4844                                                        Sales in Finland decreased by 10.5 % in January , while sales outside Finland dropped by 17 % .   \n\n      positive  negative   neutral  sentiment_score predictions  textblob  \\\n4840  0.019868  0.970002  0.010130        -0.950133    negative     -0.50   \n4841  0.009465  0.974344  0.016191        -0.964878    negative      0.00   \n4842  0.008485  0.976724  0.014792        -0.968239    negative      0.00   \n4843  0.013204  0.974357  0.012439        -0.961154    negative      0.04   \n4844  0.007314  0.974425  0.018261        -0.967111    negative     -0.20   \n\n       vader  \n4840 -0.7269  \n4841  0.0000  \n4842  0.7430  \n4843  0.4404  \n4844  0.0000  ",
      "text/html": "<div>\n<style scoped>\n    .dataframe tbody tr th:only-of-type {\n        vertical-align: middle;\n    }\n\n    .dataframe tbody tr th {\n        vertical-align: top;\n    }\n\n    .dataframe thead th {\n        text-align: right;\n    }\n</style>\n<table border=\"1\" class=\"dataframe\">\n  <thead>\n    <tr style=\"text-align: right;\">\n      <th></th>\n      <th>SENTIMENT</th>\n      <th>TWEET</th>\n      <th>positive</th>\n      <th>negative</th>\n      <th>neutral</th>\n      <th>sentiment_score</th>\n      <th>predictions</th>\n      <th>textblob</th>\n      <th>vader</th>\n    </tr>\n  </thead>\n  <tbody>\n    <tr>\n      <th>4840</th>\n      <td>negative</td>\n      <td>LONDON MarketWatch -- Share prices ended lower in London Monday as a rebound in bank stocks failed to offset broader weakness for the FTSE 100 .</td>\n      <td>0.019868</td>\n      <td>0.970002</td>\n      <td>0.010130</td>\n      <td>-0.950133</td>\n      <td>negative</td>\n      <td>-0.50</td>\n      <td>-0.7269</td>\n    </tr>\n    <tr>\n      <th>4841</th>\n      <td>neutral</td>\n      <td>Rinkuskiai 's beer sales fell by 6.5 per cent to 4.16 million litres , while Kauno Alus ' beer sales jumped by 6.9 per cent to 2.48 million litres .</td>\n      <td>0.009465</td>\n      <td>0.974344</td>\n      <td>0.016191</td>\n      <td>-0.964878</td>\n      <td>negative</td>\n      <td>0.00</td>\n      <td>0.0000</td>\n    </tr>\n    <tr>\n      <th>4842</th>\n      <td>negative</td>\n      <td>Operating profit fell to EUR 35.4 mn from EUR 68.8 mn in 2007 , including vessel sales gain of EUR 12.3 mn .</td>\n      <td>0.008485</td>\n      <td>0.976724</td>\n      <td>0.014792</td>\n      <td>-0.968239</td>\n      <td>negative</td>\n      <td>0.00</td>\n      <td>0.7430</td>\n    </tr>\n    <tr>\n      <th>4843</th>\n      <td>negative</td>\n      <td>Net sales of the Paper segment decreased to EUR 221.6 mn in the second quarter of 2009 from EUR 241.1 mn in the second quarter of 2008 , while ope...</td>\n      <td>0.013204</td>\n      <td>0.974357</td>\n      <td>0.012439</td>\n      <td>-0.961154</td>\n      <td>negative</td>\n      <td>0.04</td>\n      <td>0.4404</td>\n    </tr>\n    <tr>\n      <th>4844</th>\n      <td>negative</td>\n      <td>Sales in Finland decreased by 10.5 % in January , while sales outside Finland dropped by 17 % .</td>\n      <td>0.007314</td>\n      <td>0.974425</td>\n      <td>0.018261</td>\n      <td>-0.967111</td>\n      <td>negative</td>\n      <td>-0.20</td>\n      <td>0.0000</td>\n    </tr>\n  </tbody>\n</table>\n</div>"
     },
     "execution_count": 121,
     "metadata": {},
     "output_type": "execute_result"
    }
   ],
   "source": [
    "df_tweets.tail()"
   ],
   "metadata": {
    "collapsed": false,
    "pycharm": {
     "name": "#%%\n"
    }
   }
  },
  {
   "cell_type": "code",
   "execution_count": 145,
   "outputs": [
    {
     "name": "stdout",
     "output_type": "stream",
     "text": [
      "[[ 724  775  136]\n",
      " [ 616 2030  380]\n",
      " [  23   73   88]]\n"
     ]
    },
    {
     "data": {
      "text/plain": "<Figure size 432x288 with 2 Axes>",
      "image/png": "[encoded data removed]"
     },
     "metadata": {},
     "output_type": "display_data"
    }
   ],
   "source": [
    "print(get_confusion_matrix(df_news))\n",
    "plot_confusion_matrix(get_normalized_cfm(get_confusion_matrix(df_news)))"
   ],
   "metadata": {
    "collapsed": false,
    "pycharm": {
     "name": "#%%\n"
    }
   }
  },
  {
   "cell_type": "code",
   "execution_count": 147,
   "outputs": [],
   "source": [
    "def save_df_to_excel(df, name):\n",
    "  df.to_excel(\"{}.xlsx\".format(name))"
   ],
   "metadata": {
    "collapsed": false,
    "pycharm": {
     "name": "#%%\n"
    }
   }
  },
  {
   "cell_type": "code",
   "execution_count": 148,
   "outputs": [],
   "source": [
    "import itertools\n",
    "\n",
    "# procedure for checking \"sensitivity\" of output\n",
    "def get_combinations_of_sentences(sentences):\n",
    "  words_combinations = []\n",
    "  df = pd.DataFrame()\n",
    "  for sentence in sentences:\n",
    "    lst = sentence.split()\n",
    "    words = []\n",
    "    for L in range(0, len(lst)+1):\n",
    "        for subset in itertools.combinations(lst, L):\n",
    "            words.append(\" \".join(subset))\n",
    "    words.pop(0)\n",
    "    #original_sentence = words[-1]\n",
    "    words = words[-1:] + words[:-1]\n",
    "    words_combinations.append(words)\n",
    "\n",
    "  words_combinations = [inner for outer in words_combinations for inner in outer]\n",
    "  #print(words_combinations)\n",
    "  df[\"TWEET\"] = words_combinations\n",
    "\n",
    "  return df\n",
    "\n",
    "def check_sensitivity(sentences, sort_by_closest_sentiment_score=False):\n",
    "  df = get_combinations_of_sentences(sentences)\n",
    "  df = get_output(df, False, False)\n",
    "\n",
    "  if sort_by_closest_sentiment_score:\n",
    "    sentiment_score = df[\"sentiment_score\"]\n",
    "    positive = df[\"positive\"]\n",
    "    neutral = df[\"neutral\"]\n",
    "    negative = df[\"negative\"]\n",
    "    tweet = df[\"TWEET\"]\n",
    "    tweet_scores_dict = {}\n",
    "    tweet_scores_dict_sorted = {}\n",
    "    for tw, pos, neg, neu, score in zip(tweet, positive, negative, neutral, sentiment_score):\n",
    "      tweet_scores_dict[tw] = [pos, neg, neu, score]\n",
    "    main_sentence_score = tweet_scores_dict[sentences[0]][3]\n",
    "    # in order to show the closest sentiment scores to the original sentence we need to reorganise the data so that we are able to print dataframe with appropriate order\n",
    "    for key, value in tweet_scores_dict.items():\n",
    "      tweet_scores_dict[key] = [value[0], value[1], value[2], value[3], abs(value[3]-main_sentence_score)]\n",
    "    # i teraz posortowac ascending by value[3]\n",
    "    tweet_scores_sorted = sorted(tweet_scores_dict.items(), key=lambda x: x[1][4], reverse=False)\n",
    "    for t in tweet_scores_sorted:\n",
    "      tweet_scores_dict_sorted[t[0]] = t[1]\n",
    "\n",
    "    # a pozniej podmienic value[3] na wlasciwy\n",
    "    for key, value in tweet_scores_dict_sorted.items():\n",
    "      tweet_scores_dict_sorted[key] = [value[0], value[1], value[2], value[3]]\n",
    "    # i wtedy to na dataframe\n",
    "\n",
    "    #print(tweet_scores_dict_sorted)\n",
    "    df = pd.DataFrame.from_dict(tweet_scores_dict_sorted, orient='index', columns=['positive', 'negative', 'neutral', 'sentiment_score'])\n",
    "  #return df.sort_values(by=['sentiment_score'], ascending=False)\n",
    "  return df\n"
   ],
   "metadata": {
    "collapsed": false,
    "pycharm": {
     "name": "#%%\n"
    }
   }
  },
  {
   "cell_type": "code",
   "execution_count": 149,
   "outputs": [
    {
     "data": {
      "text/plain": "                                    TWEET  positive  negative   neutral  \\\n0    Today was a good day to buy bitcoin.  0.806036  0.011631  0.182333   \n1                                   Today  0.058186  0.037012  0.904802   \n2                                     was  0.077786  0.039463  0.882752   \n3                                       a  0.073792  0.036795  0.889413   \n4                                    good  0.141265  0.035385  0.823350   \n5                                     day  0.071401  0.054659  0.873940   \n6                                      to  0.066887  0.046863  0.886250   \n7                                     buy  0.063705  0.038606  0.897689   \n8                                bitcoin.  0.024446  0.035437  0.940117   \n9                               Today was  0.056204  0.031515  0.912281   \n10                                Today a  0.084884  0.046359  0.868757   \n11                             Today good  0.099668  0.047972  0.852360   \n12                              Today day  0.046713  0.050158  0.903129   \n13                               Today to  0.055468  0.033769  0.910763   \n14                              Today buy  0.060185  0.032830  0.906986   \n15                         Today bitcoin.  0.063552  0.020537  0.915911   \n16                                  was a  0.096064  0.065050  0.838887   \n17                               was good  0.213861  0.065602  0.720537   \n18                                was day  0.049397  0.060151  0.890452   \n19                                 was to  0.046171  0.046120  0.907708   \n20                                was buy  0.059975  0.053389  0.886636   \n21                           was bitcoin.  0.028645  0.053007  0.918349   \n22                                 a good  0.424763  0.039441  0.535796   \n23                                  a day  0.065025  0.050543  0.884432   \n24                                   a to  0.081637  0.032212  0.886152   \n25                                  a buy  0.082744  0.026448  0.890808   \n26                             a bitcoin.  0.025432  0.034307  0.940261   \n27                               good day  0.515854  0.052464  0.431682   \n28                                good to  0.532885  0.043874  0.423241   \n29                               good buy  0.652157  0.042156  0.305687   \n..                                    ...       ...       ...       ...   \n225                Today was a day to buy  0.098471  0.026221  0.875308   \n226           Today was a day to bitcoin.  0.047310  0.035249  0.917441   \n227          Today was a day buy bitcoin.  0.049920  0.032296  0.917785   \n228           Today was a to buy bitcoin.  0.067069  0.015258  0.917672   \n229             Today was good day to buy  0.662900  0.017352  0.319748   \n230        Today was good day to bitcoin.  0.868923  0.017602  0.113475   \n231       Today was good day buy bitcoin.  0.734218  0.020599  0.245183   \n232        Today was good to buy bitcoin.  0.868141  0.016397  0.115463   \n233         Today was day to buy bitcoin.  0.082809  0.015922  0.901270   \n234               Today a good day to buy  0.442478  0.019260  0.538262   \n235          Today a good day to bitcoin.  0.360717  0.015460  0.623823   \n236         Today a good day buy bitcoin.  0.118988  0.016858  0.864155   \n237          Today a good to buy bitcoin.  0.423287  0.020323  0.556390   \n238           Today a day to buy bitcoin.  0.060743  0.016504  0.922752   \n239        Today good day to buy bitcoin.  0.265324  0.013901  0.720775   \n240                 was a good day to buy  0.578111  0.040876  0.381013   \n241            was a good day to bitcoin.  0.408247  0.022759  0.568994   \n242           was a good day buy bitcoin.  0.337497  0.022039  0.640464   \n243            was a good to buy bitcoin.  0.203796  0.020435  0.775769   \n244             was a day to buy bitcoin.  0.062089  0.029082  0.908829   \n245          was good day to buy bitcoin.  0.282405  0.017976  0.699620   \n246            a good day to buy bitcoin.  0.188755  0.012075  0.799170   \n247           Today was a good day to buy  0.782957  0.017463  0.199580   \n248      Today was a good day to bitcoin.  0.867273  0.014151  0.118575   \n249     Today was a good day buy bitcoin.  0.891630  0.017023  0.091348   \n250      Today was a good to buy bitcoin.  0.730502  0.016305  0.253193   \n251       Today was a day to buy bitcoin.  0.131185  0.012496  0.856319   \n252    Today was good day to buy bitcoin.  0.718651  0.013188  0.268161   \n253      Today a good day to buy bitcoin.  0.205616  0.012196  0.782188   \n254        was a good day to buy bitcoin.  0.305944  0.015659  0.678397   \n\n     sentiment_score predictions  \n0           0.794405    positive  \n1           0.021174     neutral  \n2           0.038323     neutral  \n3           0.036997     neutral  \n4           0.105879     neutral  \n5           0.016742     neutral  \n6           0.020024     neutral  \n7           0.025100     neutral  \n8          -0.010991     neutral  \n9           0.024689     neutral  \n10          0.038526     neutral  \n11          0.051695     neutral  \n12         -0.003445     neutral  \n13          0.021699     neutral  \n14          0.027355     neutral  \n15          0.043015     neutral  \n16          0.031014     neutral  \n17          0.148259     neutral  \n18         -0.010755     neutral  \n19          0.000051     neutral  \n20          0.006586     neutral  \n21         -0.024362     neutral  \n22          0.385321     neutral  \n23          0.014482     neutral  \n24          0.049425     neutral  \n25          0.056296     neutral  \n26         -0.008874     neutral  \n27          0.463390    positive  \n28          0.489010    positive  \n29          0.610001    positive  \n..               ...         ...  \n225         0.072249     neutral  \n226         0.012061     neutral  \n227         0.017624     neutral  \n228         0.051811     neutral  \n229         0.645548    positive  \n230         0.851321    positive  \n231         0.713619    positive  \n232         0.851744    positive  \n233         0.066887     neutral  \n234         0.423218     neutral  \n235         0.345258     neutral  \n236         0.102130     neutral  \n237         0.402964     neutral  \n238         0.044239     neutral  \n239         0.251423     neutral  \n240         0.537235    positive  \n241         0.385488     neutral  \n242         0.315458     neutral  \n243         0.183362     neutral  \n244         0.033007     neutral  \n245         0.264429     neutral  \n246         0.176680     neutral  \n247         0.765494    positive  \n248         0.853122    positive  \n249         0.874607    positive  \n250         0.714197    positive  \n251         0.118689     neutral  \n252         0.705462    positive  \n253         0.193421     neutral  \n254         0.290286     neutral  \n\n[255 rows x 6 columns]",
      "text/html": "<div>\n<style scoped>\n    .dataframe tbody tr th:only-of-type {\n        vertical-align: middle;\n    }\n\n    .dataframe tbody tr th {\n        vertical-align: top;\n    }\n\n    .dataframe thead th {\n        text-align: right;\n    }\n</style>\n<table border=\"1\" class=\"dataframe\">\n  <thead>\n    <tr style=\"text-align: right;\">\n      <th></th>\n      <th>TWEET</th>\n      <th>positive</th>\n      <th>negative</th>\n      <th>neutral</th>\n      <th>sentiment_score</th>\n      <th>predictions</th>\n    </tr>\n  </thead>\n  <tbody>\n    <tr>\n      <th>0</th>\n      <td>Today was a good day to buy bitcoin.</td>\n      <td>0.806036</td>\n      <td>0.011631</td>\n      <td>0.182333</td>\n      <td>0.794405</td>\n      <td>positive</td>\n    </tr>\n    <tr>\n      <th>1</th>\n      <td>Today</td>\n      <td>0.058186</td>\n      <td>0.037012</td>\n      <td>0.904802</td>\n      <td>0.021174</td>\n      <td>neutral</td>\n    </tr>\n    <tr>\n      <th>2</th>\n      <td>was</td>\n      <td>0.077786</td>\n      <td>0.039463</td>\n      <td>0.882752</td>\n      <td>0.038323</td>\n      <td>neutral</td>\n    </tr>\n    <tr>\n      <th>3</th>\n      <td>a</td>\n      <td>0.073792</td>\n      <td>0.036795</td>\n      <td>0.889413</td>\n      <td>0.036997</td>\n      <td>neutral</td>\n    </tr>\n    <tr>\n      <th>4</th>\n      <td>good</td>\n      <td>0.141265</td>\n      <td>0.035385</td>\n      <td>0.823350</td>\n      <td>0.105879</td>\n      <td>neutral</td>\n    </tr>\n    <tr>\n      <th>5</th>\n      <td>day</td>\n      <td>0.071401</td>\n      <td>0.054659</td>\n      <td>0.873940</td>\n      <td>0.016742</td>\n      <td>neutral</td>\n    </tr>\n    <tr>\n      <th>6</th>\n      <td>to</td>\n      <td>0.066887</td>\n      <td>0.046863</td>\n      <td>0.886250</td>\n      <td>0.020024</td>\n      <td>neutral</td>\n    </tr>\n    <tr>\n      <th>7</th>\n      <td>buy</td>\n      <td>0.063705</td>\n      <td>0.038606</td>\n      <td>0.897689</td>\n      <td>0.025100</td>\n      <td>neutral</td>\n    </tr>\n    <tr>\n      <th>8</th>\n      <td>bitcoin.</td>\n      <td>0.024446</td>\n      <td>0.035437</td>\n      <td>0.940117</td>\n      <td>-0.010991</td>\n      <td>neutral</td>\n    </tr>\n    <tr>\n      <th>9</th>\n      <td>Today was</td>\n      <td>0.056204</td>\n      <td>0.031515</td>\n      <td>0.912281</td>\n      <td>0.024689</td>\n      <td>neutral</td>\n    </tr>\n    <tr>\n      <th>10</th>\n      <td>Today a</td>\n      <td>0.084884</td>\n      <td>0.046359</td>\n      <td>0.868757</td>\n      <td>0.038526</td>\n      <td>neutral</td>\n    </tr>\n    <tr>\n      <th>11</th>\n      <td>Today good</td>\n      <td>0.099668</td>\n      <td>0.047972</td>\n      <td>0.852360</td>\n      <td>0.051695</td>\n      <td>neutral</td>\n    </tr>\n    <tr>\n      <th>12</th>\n      <td>Today day</td>\n      <td>0.046713</td>\n      <td>0.050158</td>\n      <td>0.903129</td>\n      <td>-0.003445</td>\n      <td>neutral</td>\n    </tr>\n    <tr>\n      <th>13</th>\n      <td>Today to</td>\n      <td>0.055468</td>\n      <td>0.033769</td>\n      <td>0.910763</td>\n      <td>0.021699</td>\n      <td>neutral</td>\n    </tr>\n    <tr>\n      <th>14</th>\n      <td>Today buy</td>\n      <td>0.060185</td>\n      <td>0.032830</td>\n      <td>0.906986</td>\n      <td>0.027355</td>\n      <td>neutral</td>\n    </tr>\n    <tr>\n      <th>15</th>\n      <td>Today bitcoin.</td>\n      <td>0.063552</td>\n      <td>0.020537</td>\n      <td>0.915911</td>\n      <td>0.043015</td>\n      <td>neutral</td>\n    </tr>\n    <tr>\n      <th>16</th>\n      <td>was a</td>\n      <td>0.096064</td>\n      <td>0.065050</td>\n      <td>0.838887</td>\n      <td>0.031014</td>\n      <td>neutral</td>\n    </tr>\n    <tr>\n      <th>17</th>\n      <td>was good</td>\n      <td>0.213861</td>\n      <td>0.065602</td>\n      <td>0.720537</td>\n      <td>0.148259</td>\n      <td>neutral</td>\n    </tr>\n    <tr>\n      <th>18</th>\n      <td>was day</td>\n      <td>0.049397</td>\n      <td>0.060151</td>\n      <td>0.890452</td>\n      <td>-0.010755</td>\n      <td>neutral</td>\n    </tr>\n    <tr>\n      <th>19</th>\n      <td>was to</td>\n      <td>0.046171</td>\n      <td>0.046120</td>\n      <td>0.907708</td>\n      <td>0.000051</td>\n      <td>neutral</td>\n    </tr>\n    <tr>\n      <th>20</th>\n      <td>was buy</td>\n      <td>0.059975</td>\n      <td>0.053389</td>\n      <td>0.886636</td>\n      <td>0.006586</td>\n      <td>neutral</td>\n    </tr>\n    <tr>\n      <th>21</th>\n      <td>was bitcoin.</td>\n      <td>0.028645</td>\n      <td>0.053007</td>\n      <td>0.918349</td>\n      <td>-0.024362</td>\n      <td>neutral</td>\n    </tr>\n    <tr>\n      <th>22</th>\n      <td>a good</td>\n      <td>0.424763</td>\n      <td>0.039441</td>\n      <td>0.535796</td>\n      <td>0.385321</td>\n      <td>neutral</td>\n    </tr>\n    <tr>\n      <th>23</th>\n      <td>a day</td>\n      <td>0.065025</td>\n      <td>0.050543</td>\n      <td>0.884432</td>\n      <td>0.014482</td>\n      <td>neutral</td>\n    </tr>\n    <tr>\n      <th>24</th>\n      <td>a to</td>\n      <td>0.081637</td>\n      <td>0.032212</td>\n      <td>0.886152</td>\n      <td>0.049425</td>\n      <td>neutral</td>\n    </tr>\n    <tr>\n      <th>25</th>\n      <td>a buy</td>\n      <td>0.082744</td>\n      <td>0.026448</td>\n      <td>0.890808</td>\n      <td>0.056296</td>\n      <td>neutral</td>\n    </tr>\n    <tr>\n      <th>26</th>\n      <td>a bitcoin.</td>\n      <td>0.025432</td>\n      <td>0.034307</td>\n      <td>0.940261</td>\n      <td>-0.008874</td>\n      <td>neutral</td>\n    </tr>\n    <tr>\n      <th>27</th>\n      <td>good day</td>\n      <td>0.515854</td>\n      <td>0.052464</td>\n      <td>0.431682</td>\n      <td>0.463390</td>\n      <td>positive</td>\n    </tr>\n    <tr>\n      <th>28</th>\n      <td>good to</td>\n      <td>0.532885</td>\n      <td>0.043874</td>\n      <td>0.423241</td>\n      <td>0.489010</td>\n      <td>positive</td>\n    </tr>\n    <tr>\n      <th>29</th>\n      <td>good buy</td>\n      <td>0.652157</td>\n      <td>0.042156</td>\n      <td>0.305687</td>\n      <td>0.610001</td>\n      <td>positive</td>\n    </tr>\n    <tr>\n      <th>...</th>\n      <td>...</td>\n      <td>...</td>\n      <td>...</td>\n      <td>...</td>\n      <td>...</td>\n      <td>...</td>\n    </tr>\n    <tr>\n      <th>225</th>\n      <td>Today was a day to buy</td>\n      <td>0.098471</td>\n      <td>0.026221</td>\n      <td>0.875308</td>\n      <td>0.072249</td>\n      <td>neutral</td>\n    </tr>\n    <tr>\n      <th>226</th>\n      <td>Today was a day to bitcoin.</td>\n      <td>0.047310</td>\n      <td>0.035249</td>\n      <td>0.917441</td>\n      <td>0.012061</td>\n      <td>neutral</td>\n    </tr>\n    <tr>\n      <th>227</th>\n      <td>Today was a day buy bitcoin.</td>\n      <td>0.049920</td>\n      <td>0.032296</td>\n      <td>0.917785</td>\n      <td>0.017624</td>\n      <td>neutral</td>\n    </tr>\n    <tr>\n      <th>228</th>\n      <td>Today was a to buy bitcoin.</td>\n      <td>0.067069</td>\n      <td>0.015258</td>\n      <td>0.917672</td>\n      <td>0.051811</td>\n      <td>neutral</td>\n    </tr>\n    <tr>\n      <th>229</th>\n      <td>Today was good day to buy</td>\n      <td>0.662900</td>\n      <td>0.017352</td>\n      <td>0.319748</td>\n      <td>0.645548</td>\n      <td>positive</td>\n    </tr>\n    <tr>\n      <th>230</th>\n      <td>Today was good day to bitcoin.</td>\n      <td>0.868923</td>\n      <td>0.017602</td>\n      <td>0.113475</td>\n      <td>0.851321</td>\n      <td>positive</td>\n    </tr>\n    <tr>\n      <th>231</th>\n      <td>Today was good day buy bitcoin.</td>\n      <td>0.734218</td>\n      <td>0.020599</td>\n      <td>0.245183</td>\n      <td>0.713619</td>\n      <td>positive</td>\n    </tr>\n    <tr>\n      <th>232</th>\n      <td>Today was good to buy bitcoin.</td>\n      <td>0.868141</td>\n      <td>0.016397</td>\n      <td>0.115463</td>\n      <td>0.851744</td>\n      <td>positive</td>\n    </tr>\n    <tr>\n      <th>233</th>\n      <td>Today was day to buy bitcoin.</td>\n      <td>0.082809</td>\n      <td>0.015922</td>\n      <td>0.901270</td>\n      <td>0.066887</td>\n      <td>neutral</td>\n    </tr>\n    <tr>\n      <th>234</th>\n      <td>Today a good day to buy</td>\n      <td>0.442478</td>\n      <td>0.019260</td>\n      <td>0.538262</td>\n      <td>0.423218</td>\n      <td>neutral</td>\n    </tr>\n    <tr>\n      <th>235</th>\n      <td>Today a good day to bitcoin.</td>\n      <td>0.360717</td>\n      <td>0.015460</td>\n      <td>0.623823</td>\n      <td>0.345258</td>\n      <td>neutral</td>\n    </tr>\n    <tr>\n      <th>236</th>\n      <td>Today a good day buy bitcoin.</td>\n      <td>0.118988</td>\n      <td>0.016858</td>\n      <td>0.864155</td>\n      <td>0.102130</td>\n      <td>neutral</td>\n    </tr>\n    <tr>\n      <th>237</th>\n      <td>Today a good to buy bitcoin.</td>\n      <td>0.423287</td>\n      <td>0.020323</td>\n      <td>0.556390</td>\n      <td>0.402964</td>\n      <td>neutral</td>\n    </tr>\n    <tr>\n      <th>238</th>\n      <td>Today a day to buy bitcoin.</td>\n      <td>0.060743</td>\n      <td>0.016504</td>\n      <td>0.922752</td>\n      <td>0.044239</td>\n      <td>neutral</td>\n    </tr>\n    <tr>\n      <th>239</th>\n      <td>Today good day to buy bitcoin.</td>\n      <td>0.265324</td>\n      <td>0.013901</td>\n      <td>0.720775</td>\n      <td>0.251423</td>\n      <td>neutral</td>\n    </tr>\n    <tr>\n      <th>240</th>\n      <td>was a good day to buy</td>\n      <td>0.578111</td>\n      <td>0.040876</td>\n      <td>0.381013</td>\n      <td>0.537235</td>\n      <td>positive</td>\n    </tr>\n    <tr>\n      <th>241</th>\n      <td>was a good day to bitcoin.</td>\n      <td>0.408247</td>\n      <td>0.022759</td>\n      <td>0.568994</td>\n      <td>0.385488</td>\n      <td>neutral</td>\n    </tr>\n    <tr>\n      <th>242</th>\n      <td>was a good day buy bitcoin.</td>\n      <td>0.337497</td>\n      <td>0.022039</td>\n      <td>0.640464</td>\n      <td>0.315458</td>\n      <td>neutral</td>\n    </tr>\n    <tr>\n      <th>243</th>\n      <td>was a good to buy bitcoin.</td>\n      <td>0.203796</td>\n      <td>0.020435</td>\n      <td>0.775769</td>\n      <td>0.183362</td>\n      <td>neutral</td>\n    </tr>\n    <tr>\n      <th>244</th>\n      <td>was a day to buy bitcoin.</td>\n      <td>0.062089</td>\n      <td>0.029082</td>\n      <td>0.908829</td>\n      <td>0.033007</td>\n      <td>neutral</td>\n    </tr>\n    <tr>\n      <th>245</th>\n      <td>was good day to buy bitcoin.</td>\n      <td>0.282405</td>\n      <td>0.017976</td>\n      <td>0.699620</td>\n      <td>0.264429</td>\n      <td>neutral</td>\n    </tr>\n    <tr>\n      <th>246</th>\n      <td>a good day to buy bitcoin.</td>\n      <td>0.188755</td>\n      <td>0.012075</td>\n      <td>0.799170</td>\n      <td>0.176680</td>\n      <td>neutral</td>\n    </tr>\n    <tr>\n      <th>247</th>\n      <td>Today was a good day to buy</td>\n      <td>0.782957</td>\n      <td>0.017463</td>\n      <td>0.199580</td>\n      <td>0.765494</td>\n      <td>positive</td>\n    </tr>\n    <tr>\n      <th>248</th>\n      <td>Today was a good day to bitcoin.</td>\n      <td>0.867273</td>\n      <td>0.014151</td>\n      <td>0.118575</td>\n      <td>0.853122</td>\n      <td>positive</td>\n    </tr>\n    <tr>\n      <th>249</th>\n      <td>Today was a good day buy bitcoin.</td>\n      <td>0.891630</td>\n      <td>0.017023</td>\n      <td>0.091348</td>\n      <td>0.874607</td>\n      <td>positive</td>\n    </tr>\n    <tr>\n      <th>250</th>\n      <td>Today was a good to buy bitcoin.</td>\n      <td>0.730502</td>\n      <td>0.016305</td>\n      <td>0.253193</td>\n      <td>0.714197</td>\n      <td>positive</td>\n    </tr>\n    <tr>\n      <th>251</th>\n      <td>Today was a day to buy bitcoin.</td>\n      <td>0.131185</td>\n      <td>0.012496</td>\n      <td>0.856319</td>\n      <td>0.118689</td>\n      <td>neutral</td>\n    </tr>\n    <tr>\n      <th>252</th>\n      <td>Today was good day to buy bitcoin.</td>\n      <td>0.718651</td>\n      <td>0.013188</td>\n      <td>0.268161</td>\n      <td>0.705462</td>\n      <td>positive</td>\n    </tr>\n    <tr>\n      <th>253</th>\n      <td>Today a good day to buy bitcoin.</td>\n      <td>0.205616</td>\n      <td>0.012196</td>\n      <td>0.782188</td>\n      <td>0.193421</td>\n      <td>neutral</td>\n    </tr>\n    <tr>\n      <th>254</th>\n      <td>was a good day to buy bitcoin.</td>\n      <td>0.305944</td>\n      <td>0.015659</td>\n      <td>0.678397</td>\n      <td>0.290286</td>\n      <td>neutral</td>\n    </tr>\n  </tbody>\n</table>\n<p>255 rows × 6 columns</p>\n</div>"
     },
     "execution_count": 149,
     "metadata": {},
     "output_type": "execute_result"
    }
   ],
   "source": [
    "df = check_sensitivity([\"Today was a good day to buy bitcoin.\"])\n",
    "df\n",
    "#save_df_to_excel(df, \"good_day_to_buy_bitcoin\")"
   ],
   "metadata": {
    "collapsed": false,
    "pycharm": {
     "name": "#%%\n"
    }
   }
  },
  {
   "cell_type": "code",
   "execution_count": 150,
   "outputs": [
    {
     "data": {
      "text/plain": "                                      positive  negative   neutral  \\\nToday was a good day to buy bitcoin.  0.806036  0.011631  0.182333   \nToday was good day bitcoin.           0.815965  0.020016  0.164019   \nToday a good to                       0.817432  0.034013  0.148555   \nwas good day to                       0.802316  0.020262  0.177421   \nToday was a good bitcoin.             0.828808  0.014906  0.156286   \nToday was good day buy                0.790035  0.015294  0.194672   \nToday a good day                      0.837020  0.022191  0.140789   \nwas good buy                          0.800777  0.031308  0.167915   \nwas a good day                        0.846717  0.025915  0.127368   \nToday was a good day to buy           0.782957  0.017463  0.199580   \nToday was good day to                 0.779338  0.015972  0.204690   \nToday was a good                      0.783745  0.025697  0.190558   \nwas a good day to                     0.779797  0.023954  0.196249   \nToday was a good to buy               0.862637  0.023900  0.113463   \nToday was a good to                   0.871644  0.024533  0.103823   \nToday was a good day bitcoin.         0.864307  0.016365  0.119327   \nToday was a good to bitcoin.          0.762089  0.022309  0.215603   \nToday was good to buy                 0.871530  0.021783  0.106687   \nToday good bitcoin.                   0.880341  0.030296  0.089362   \nToday was good day to bitcoin.        0.868923  0.017602  0.113475   \nToday was good to buy bitcoin.        0.868141  0.016397  0.115463   \nToday was a good day to               0.869723  0.016848  0.113429   \nToday was a good day to bitcoin.      0.867273  0.014151  0.118575   \nToday was a good day buy              0.871783  0.017660  0.110557   \nToday good to bitcoin.                0.758330  0.027970  0.213699   \nToday was good bitcoin.               0.877735  0.017840  0.104426   \nwas good to                           0.758318  0.031612  0.210071   \nToday good buy                        0.897720  0.032640  0.069640   \nwas good day buy                      0.744228  0.022243  0.233530   \nwas good day                          0.896229  0.022716  0.081056   \n...                                        ...       ...       ...   \nday buy                               0.083294  0.093087  0.823619   \nToday a day                           0.040053  0.050293  0.909654   \nwas day bitcoin.                      0.036543  0.046785  0.916672   \nwas day                               0.049397  0.060151  0.890452   \nbitcoin.                              0.024446  0.035437  0.940117   \nday buy bitcoin.                      0.035167  0.047282  0.917551   \nToday was bitcoin.                    0.034659  0.050187  0.915155   \nToday was day to bitcoin.             0.031635  0.047865  0.920500   \nToday was to bitcoin.                 0.025151  0.042183  0.932666   \na day to                              0.056991  0.075904  0.867105   \nToday was day to buy                  0.037713  0.057073  0.905215   \nToday was a day buy                   0.050693  0.070768  0.878539   \nwas a to bitcoin.                     0.030846  0.052072  0.917081   \nwas a day buy bitcoin.                0.031873  0.055083  0.913044   \nToday was day bitcoin.                0.035754  0.059963  0.904283   \nwas bitcoin.                          0.028645  0.053007  0.918349   \nwas day to buy                        0.040407  0.064847  0.894746   \nwas to bitcoin.                       0.024621  0.050741  0.924639   \nwas a day bitcoin.                    0.036229  0.063849  0.899922   \nday to buy                            0.028877  0.059001  0.912122   \nwas day to                            0.042903  0.073422  0.883674   \nwas a day buy                         0.065160  0.098776  0.836064   \nday to                                0.030246  0.066038  0.903716   \nwas day buy                           0.049157  0.087570  0.863273   \nToday was day                         0.031063  0.069598  0.899339   \nToday was a day bitcoin.              0.059842  0.098607  0.841551   \nwas a day to                          0.049354  0.091148  0.859499   \nToday was day to                      0.028972  0.073410  0.897617   \nwas a bitcoin.                        0.027509  0.074223  0.898268   \nToday was day buy                     0.030256  0.087901  0.881844   \n\n                                      sentiment_score  \nToday was a good day to buy bitcoin.         0.794405  \nToday was good day bitcoin.                  0.795949  \nToday a good to                              0.783419  \nwas good day to                              0.782054  \nToday was a good bitcoin.                    0.813902  \nToday was good day buy                       0.774741  \nToday a good day                             0.814829  \nwas good buy                                 0.769469  \nwas a good day                               0.820802  \nToday was a good day to buy                  0.765494  \nToday was good day to                        0.763366  \nToday was a good                             0.758048  \nwas a good day to                            0.755842  \nToday was a good to buy                      0.838737  \nToday was a good to                          0.847111  \nToday was a good day bitcoin.                0.847942  \nToday was a good to bitcoin.                 0.739780  \nToday was good to buy                        0.849747  \nToday good bitcoin.                          0.850045  \nToday was good day to bitcoin.               0.851321  \nToday was good to buy bitcoin.               0.851744  \nToday was a good day to                      0.852874  \nToday was a good day to bitcoin.             0.853122  \nToday was a good day buy                     0.854122  \nToday good to bitcoin.                       0.730360  \nToday was good bitcoin.                      0.859895  \nwas good to                                  0.726706  \nToday good buy                               0.865080  \nwas good day buy                             0.721985  \nwas good day                                 0.873513  \n...                                               ...  \nday buy                                     -0.009794  \nToday a day                                 -0.010239  \nwas day bitcoin.                            -0.010242  \nwas day                                     -0.010755  \nbitcoin.                                    -0.010991  \nday buy bitcoin.                            -0.012115  \nToday was bitcoin.                          -0.015528  \nToday was day to bitcoin.                   -0.016231  \nToday was to bitcoin.                       -0.017032  \na day to                                    -0.018913  \nToday was day to buy                        -0.019360  \nToday was a day buy                         -0.020075  \nwas a to bitcoin.                           -0.021226  \nwas a day buy bitcoin.                      -0.023210  \nToday was day bitcoin.                      -0.024210  \nwas bitcoin.                                -0.024362  \nwas day to buy                              -0.024439  \nwas to bitcoin.                             -0.026120  \nwas a day bitcoin.                          -0.027621  \nday to buy                                  -0.030123  \nwas day to                                  -0.030519  \nwas a day buy                               -0.033616  \nday to                                      -0.035792  \nwas day buy                                 -0.038413  \nToday was day                               -0.038535  \nToday was a day bitcoin.                    -0.038766  \nwas a day to                                -0.041794  \nToday was day to                            -0.044438  \nwas a bitcoin.                              -0.046714  \nToday was day buy                           -0.057645  \n\n[255 rows x 4 columns]",
      "text/html": "<div>\n<style scoped>\n    .dataframe tbody tr th:only-of-type {\n        vertical-align: middle;\n    }\n\n    .dataframe tbody tr th {\n        vertical-align: top;\n    }\n\n    .dataframe thead th {\n        text-align: right;\n    }\n</style>\n<table border=\"1\" class=\"dataframe\">\n  <thead>\n    <tr style=\"text-align: right;\">\n      <th></th>\n      <th>positive</th>\n      <th>negative</th>\n      <th>neutral</th>\n      <th>sentiment_score</th>\n    </tr>\n  </thead>\n  <tbody>\n    <tr>\n      <th>Today was a good day to buy bitcoin.</th>\n      <td>0.806036</td>\n      <td>0.011631</td>\n      <td>0.182333</td>\n      <td>0.794405</td>\n    </tr>\n    <tr>\n      <th>Today was good day bitcoin.</th>\n      <td>0.815965</td>\n      <td>0.020016</td>\n      <td>0.164019</td>\n      <td>0.795949</td>\n    </tr>\n    <tr>\n      <th>Today a good to</th>\n      <td>0.817432</td>\n      <td>0.034013</td>\n      <td>0.148555</td>\n      <td>0.783419</td>\n    </tr>\n    <tr>\n      <th>was good day to</th>\n      <td>0.802316</td>\n      <td>0.020262</td>\n      <td>0.177421</td>\n      <td>0.782054</td>\n    </tr>\n    <tr>\n      <th>Today was a good bitcoin.</th>\n      <td>0.828808</td>\n      <td>0.014906</td>\n      <td>0.156286</td>\n      <td>0.813902</td>\n    </tr>\n    <tr>\n      <th>Today was good day buy</th>\n      <td>0.790035</td>\n      <td>0.015294</td>\n      <td>0.194672</td>\n      <td>0.774741</td>\n    </tr>\n    <tr>\n      <th>Today a good day</th>\n      <td>0.837020</td>\n      <td>0.022191</td>\n      <td>0.140789</td>\n      <td>0.814829</td>\n    </tr>\n    <tr>\n      <th>was good buy</th>\n      <td>0.800777</td>\n      <td>0.031308</td>\n      <td>0.167915</td>\n      <td>0.769469</td>\n    </tr>\n    <tr>\n      <th>was a good day</th>\n      <td>0.846717</td>\n      <td>0.025915</td>\n      <td>0.127368</td>\n      <td>0.820802</td>\n    </tr>\n    <tr>\n      <th>Today was a good day to buy</th>\n      <td>0.782957</td>\n      <td>0.017463</td>\n      <td>0.199580</td>\n      <td>0.765494</td>\n    </tr>\n    <tr>\n      <th>Today was good day to</th>\n      <td>0.779338</td>\n      <td>0.015972</td>\n      <td>0.204690</td>\n      <td>0.763366</td>\n    </tr>\n    <tr>\n      <th>Today was a good</th>\n      <td>0.783745</td>\n      <td>0.025697</td>\n      <td>0.190558</td>\n      <td>0.758048</td>\n    </tr>\n    <tr>\n      <th>was a good day to</th>\n      <td>0.779797</td>\n      <td>0.023954</td>\n      <td>0.196249</td>\n      <td>0.755842</td>\n    </tr>\n    <tr>\n      <th>Today was a good to buy</th>\n      <td>0.862637</td>\n      <td>0.023900</td>\n      <td>0.113463</td>\n      <td>0.838737</td>\n    </tr>\n    <tr>\n      <th>Today was a good to</th>\n      <td>0.871644</td>\n      <td>0.024533</td>\n      <td>0.103823</td>\n      <td>0.847111</td>\n    </tr>\n    <tr>\n      <th>Today was a good day bitcoin.</th>\n      <td>0.864307</td>\n      <td>0.016365</td>\n      <td>0.119327</td>\n      <td>0.847942</td>\n    </tr>\n    <tr>\n      <th>Today was a good to bitcoin.</th>\n      <td>0.762089</td>\n      <td>0.022309</td>\n      <td>0.215603</td>\n      <td>0.739780</td>\n    </tr>\n    <tr>\n      <th>Today was good to buy</th>\n      <td>0.871530</td>\n      <td>0.021783</td>\n      <td>0.106687</td>\n      <td>0.849747</td>\n    </tr>\n    <tr>\n      <th>Today good bitcoin.</th>\n      <td>0.880341</td>\n      <td>0.030296</td>\n      <td>0.089362</td>\n      <td>0.850045</td>\n    </tr>\n    <tr>\n      <th>Today was good day to bitcoin.</th>\n      <td>0.868923</td>\n      <td>0.017602</td>\n      <td>0.113475</td>\n      <td>0.851321</td>\n    </tr>\n    <tr>\n      <th>Today was good to buy bitcoin.</th>\n      <td>0.868141</td>\n      <td>0.016397</td>\n      <td>0.115463</td>\n      <td>0.851744</td>\n    </tr>\n    <tr>\n      <th>Today was a good day to</th>\n      <td>0.869723</td>\n      <td>0.016848</td>\n      <td>0.113429</td>\n      <td>0.852874</td>\n    </tr>\n    <tr>\n      <th>Today was a good day to bitcoin.</th>\n      <td>0.867273</td>\n      <td>0.014151</td>\n      <td>0.118575</td>\n      <td>0.853122</td>\n    </tr>\n    <tr>\n      <th>Today was a good day buy</th>\n      <td>0.871783</td>\n      <td>0.017660</td>\n      <td>0.110557</td>\n      <td>0.854122</td>\n    </tr>\n    <tr>\n      <th>Today good to bitcoin.</th>\n      <td>0.758330</td>\n      <td>0.027970</td>\n      <td>0.213699</td>\n      <td>0.730360</td>\n    </tr>\n    <tr>\n      <th>Today was good bitcoin.</th>\n      <td>0.877735</td>\n      <td>0.017840</td>\n      <td>0.104426</td>\n      <td>0.859895</td>\n    </tr>\n    <tr>\n      <th>was good to</th>\n      <td>0.758318</td>\n      <td>0.031612</td>\n      <td>0.210071</td>\n      <td>0.726706</td>\n    </tr>\n    <tr>\n      <th>Today good buy</th>\n      <td>0.897720</td>\n      <td>0.032640</td>\n      <td>0.069640</td>\n      <td>0.865080</td>\n    </tr>\n    <tr>\n      <th>was good day buy</th>\n      <td>0.744228</td>\n      <td>0.022243</td>\n      <td>0.233530</td>\n      <td>0.721985</td>\n    </tr>\n    <tr>\n      <th>was good day</th>\n      <td>0.896229</td>\n      <td>0.022716</td>\n      <td>0.081056</td>\n      <td>0.873513</td>\n    </tr>\n    <tr>\n      <th>...</th>\n      <td>...</td>\n      <td>...</td>\n      <td>...</td>\n      <td>...</td>\n    </tr>\n    <tr>\n      <th>day buy</th>\n      <td>0.083294</td>\n      <td>0.093087</td>\n      <td>0.823619</td>\n      <td>-0.009794</td>\n    </tr>\n    <tr>\n      <th>Today a day</th>\n      <td>0.040053</td>\n      <td>0.050293</td>\n      <td>0.909654</td>\n      <td>-0.010239</td>\n    </tr>\n    <tr>\n      <th>was day bitcoin.</th>\n      <td>0.036543</td>\n      <td>0.046785</td>\n      <td>0.916672</td>\n      <td>-0.010242</td>\n    </tr>\n    <tr>\n      <th>was day</th>\n      <td>0.049397</td>\n      <td>0.060151</td>\n      <td>0.890452</td>\n      <td>-0.010755</td>\n    </tr>\n    <tr>\n      <th>bitcoin.</th>\n      <td>0.024446</td>\n      <td>0.035437</td>\n      <td>0.940117</td>\n      <td>-0.010991</td>\n    </tr>\n    <tr>\n      <th>day buy bitcoin.</th>\n      <td>0.035167</td>\n      <td>0.047282</td>\n      <td>0.917551</td>\n      <td>-0.012115</td>\n    </tr>\n    <tr>\n      <th>Today was bitcoin.</th>\n      <td>0.034659</td>\n      <td>0.050187</td>\n      <td>0.915155</td>\n      <td>-0.015528</td>\n    </tr>\n    <tr>\n      <th>Today was day to bitcoin.</th>\n      <td>0.031635</td>\n      <td>0.047865</td>\n      <td>0.920500</td>\n      <td>-0.016231</td>\n    </tr>\n    <tr>\n      <th>Today was to bitcoin.</th>\n      <td>0.025151</td>\n      <td>0.042183</td>\n      <td>0.932666</td>\n      <td>-0.017032</td>\n    </tr>\n    <tr>\n      <th>a day to</th>\n      <td>0.056991</td>\n      <td>0.075904</td>\n      <td>0.867105</td>\n      <td>-0.018913</td>\n    </tr>\n    <tr>\n      <th>Today was day to buy</th>\n      <td>0.037713</td>\n      <td>0.057073</td>\n      <td>0.905215</td>\n      <td>-0.019360</td>\n    </tr>\n    <tr>\n      <th>Today was a day buy</th>\n      <td>0.050693</td>\n      <td>0.070768</td>\n      <td>0.878539</td>\n      <td>-0.020075</td>\n    </tr>\n    <tr>\n      <th>was a to bitcoin.</th>\n      <td>0.030846</td>\n      <td>0.052072</td>\n      <td>0.917081</td>\n      <td>-0.021226</td>\n    </tr>\n    <tr>\n      <th>was a day buy bitcoin.</th>\n      <td>0.031873</td>\n      <td>0.055083</td>\n      <td>0.913044</td>\n      <td>-0.023210</td>\n    </tr>\n    <tr>\n      <th>Today was day bitcoin.</th>\n      <td>0.035754</td>\n      <td>0.059963</td>\n      <td>0.904283</td>\n      <td>-0.024210</td>\n    </tr>\n    <tr>\n      <th>was bitcoin.</th>\n      <td>0.028645</td>\n      <td>0.053007</td>\n      <td>0.918349</td>\n      <td>-0.024362</td>\n    </tr>\n    <tr>\n      <th>was day to buy</th>\n      <td>0.040407</td>\n      <td>0.064847</td>\n      <td>0.894746</td>\n      <td>-0.024439</td>\n    </tr>\n    <tr>\n      <th>was to bitcoin.</th>\n      <td>0.024621</td>\n      <td>0.050741</td>\n      <td>0.924639</td>\n      <td>-0.026120</td>\n    </tr>\n    <tr>\n      <th>was a day bitcoin.</th>\n      <td>0.036229</td>\n      <td>0.063849</td>\n      <td>0.899922</td>\n      <td>-0.027621</td>\n    </tr>\n    <tr>\n      <th>day to buy</th>\n      <td>0.028877</td>\n      <td>0.059001</td>\n      <td>0.912122</td>\n      <td>-0.030123</td>\n    </tr>\n    <tr>\n      <th>was day to</th>\n      <td>0.042903</td>\n      <td>0.073422</td>\n      <td>0.883674</td>\n      <td>-0.030519</td>\n    </tr>\n    <tr>\n      <th>was a day buy</th>\n      <td>0.065160</td>\n      <td>0.098776</td>\n      <td>0.836064</td>\n      <td>-0.033616</td>\n    </tr>\n    <tr>\n      <th>day to</th>\n      <td>0.030246</td>\n      <td>0.066038</td>\n      <td>0.903716</td>\n      <td>-0.035792</td>\n    </tr>\n    <tr>\n      <th>was day buy</th>\n      <td>0.049157</td>\n      <td>0.087570</td>\n      <td>0.863273</td>\n      <td>-0.038413</td>\n    </tr>\n    <tr>\n      <th>Today was day</th>\n      <td>0.031063</td>\n      <td>0.069598</td>\n      <td>0.899339</td>\n      <td>-0.038535</td>\n    </tr>\n    <tr>\n      <th>Today was a day bitcoin.</th>\n      <td>0.059842</td>\n      <td>0.098607</td>\n      <td>0.841551</td>\n      <td>-0.038766</td>\n    </tr>\n    <tr>\n      <th>was a day to</th>\n      <td>0.049354</td>\n      <td>0.091148</td>\n      <td>0.859499</td>\n      <td>-0.041794</td>\n    </tr>\n    <tr>\n      <th>Today was day to</th>\n      <td>0.028972</td>\n      <td>0.073410</td>\n      <td>0.897617</td>\n      <td>-0.044438</td>\n    </tr>\n    <tr>\n      <th>was a bitcoin.</th>\n      <td>0.027509</td>\n      <td>0.074223</td>\n      <td>0.898268</td>\n      <td>-0.046714</td>\n    </tr>\n    <tr>\n      <th>Today was day buy</th>\n      <td>0.030256</td>\n      <td>0.087901</td>\n      <td>0.881844</td>\n      <td>-0.057645</td>\n    </tr>\n  </tbody>\n</table>\n<p>255 rows × 4 columns</p>\n</div>"
     },
     "execution_count": 150,
     "metadata": {},
     "output_type": "execute_result"
    }
   ],
   "source": [
    "# order by closest to sentiment_score of main sentence\n",
    "df = check_sensitivity([\"Today was a good day to buy bitcoin.\"], True)\n",
    "df"
   ],
   "metadata": {
    "collapsed": false,
    "pycharm": {
     "name": "#%%\n"
    }
   }
  }
 ]
}